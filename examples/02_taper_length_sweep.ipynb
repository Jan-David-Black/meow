{
 "cells": [
  {
   "cell_type": "markdown",
   "id": "dd643a5d-d081-48d7-a8ed-2c4b80faa122",
   "metadata": {
    "papermill": {
     "duration": 0.00906,
     "end_time": "2023-06-05T20:32:05.899341",
     "exception": false,
     "start_time": "2023-06-05T20:32:05.890281",
     "status": "completed"
    },
    "tags": []
   },
   "source": [
    "# Sweep Taper Length\n",
    "\n",
    "> Find the S-matrix of a taper for different taper lengths"
   ]
  },
  {
   "cell_type": "code",
   "execution_count": null,
   "id": "4859f69dd76d8b17",
   "metadata": {
    "papermill": {
     "duration": 3.693351,
     "end_time": "2023-06-05T20:32:09.601285",
     "exception": false,
     "start_time": "2023-06-05T20:32:05.907934",
     "status": "completed"
    },
    "tags": [
     "remove-cell"
    ]
   },
   "outputs": [],
   "source": [
    "from typing import List\n",
    "\n",
    "import matplotlib.pyplot as plt\n",
    "import meow as mw\n",
    "import numpy as np\n",
    "from tqdm.notebook import tqdm"
   ]
  },
  {
   "cell_type": "markdown",
   "id": "2d28a1cd-a5db-4e58-b141-c6a20a0a5657",
   "metadata": {
    "papermill": {
     "duration": 0.006143,
     "end_time": "2023-06-05T20:32:09.613694",
     "exception": false,
     "start_time": "2023-06-05T20:32:09.607551",
     "status": "completed"
    },
    "tags": []
   },
   "source": [
    "## Installation\n",
    "\n",
    "```sh\n",
    "pip install meow-sim\n",
    "```"
   ]
  },
  {
   "cell_type": "markdown",
   "id": "e563a59a-6494-431b-b124-6c1804a6c7cb",
   "metadata": {
    "papermill": {
     "duration": 0.005972,
     "end_time": "2023-06-05T20:32:09.625592",
     "exception": false,
     "start_time": "2023-06-05T20:32:09.619620",
     "status": "completed"
    },
    "tags": []
   },
   "source": [
    "## Quick Start"
   ]
  },
  {
   "cell_type": "markdown",
   "id": "18f7b08a-7303-4454-a31c-1fea3d7c42af",
   "metadata": {
    "papermill": {
     "duration": 0.006192,
     "end_time": "2023-06-05T20:32:09.637898",
     "exception": false,
     "start_time": "2023-06-05T20:32:09.631706",
     "status": "completed"
    },
    "tags": []
   },
   "source": [
    "### 1. Structure"
   ]
  },
  {
   "cell_type": "code",
   "execution_count": null,
   "id": "32721c05-112d-4946-b723-bf6dfdcd81fc",
   "metadata": {
    "papermill": {
     "duration": 0.014156,
     "end_time": "2023-06-05T20:32:09.657994",
     "exception": false,
     "start_time": "2023-06-05T20:32:09.643838",
     "status": "completed"
    },
    "tags": []
   },
   "outputs": [],
   "source": [
    "def create_structures(length=10.0):\n",
    "    oxide = mw.Structure(\n",
    "        material=mw.silicon_oxide,\n",
    "        geometry=mw.Prism(\n",
    "            poly=np.array([(0, -2.1), (10, -2.1), (10, 2.1), (0, 2.1)]),\n",
    "            h_min=-3,\n",
    "            h_max=0,\n",
    "            axis=\"y\",\n",
    "        ),\n",
    "    )\n",
    "\n",
    "    poly = np.array([(0, -0.45 / 2), (10, -1), (10, 1), (0, 0.45 / 2)])\n",
    "\n",
    "    core = mw.Structure(\n",
    "        material=mw.silicon,\n",
    "        geometry=mw.Prism(\n",
    "            poly=poly,\n",
    "            h_min=0,\n",
    "            h_max=0.22,\n",
    "            axis=\"y\",\n",
    "        ),\n",
    "    )\n",
    "\n",
    "    structures = [oxide, core]\n",
    "    return structures"
   ]
  },
  {
   "cell_type": "code",
   "execution_count": null,
   "id": "b7bb5a58-222e-4259-a28c-1b79476ba686",
   "metadata": {
    "papermill": {
     "duration": 0.045841,
     "end_time": "2023-06-05T20:32:09.709797",
     "exception": false,
     "start_time": "2023-06-05T20:32:09.663956",
     "status": "completed"
    },
    "tags": []
   },
   "outputs": [],
   "source": [
    "mw.visualize(create_structures())"
   ]
  },
  {
   "cell_type": "markdown",
   "id": "5e7eee72-2ab4-498f-bd0b-3b80feba483e",
   "metadata": {
    "papermill": {
     "duration": 0.018452,
     "end_time": "2023-06-05T20:32:09.746635",
     "exception": false,
     "start_time": "2023-06-05T20:32:09.728183",
     "status": "completed"
    },
    "tags": []
   },
   "source": [
    "### 2. Cells"
   ]
  },
  {
   "cell_type": "code",
   "execution_count": null,
   "id": "5a3976ad-95b1-4b84-9ca2-7bddd8c13584",
   "metadata": {
    "papermill": {
     "duration": 0.033633,
     "end_time": "2023-06-05T20:32:09.803183",
     "exception": false,
     "start_time": "2023-06-05T20:32:09.769550",
     "status": "completed"
    },
    "tags": []
   },
   "outputs": [],
   "source": [
    "def create_cells(length=10.0, cell_length=1.0):\n",
    "    num_cells = round(length / cell_length)\n",
    "    structures = create_structures(length=length)\n",
    "    cells = mw.create_cells(\n",
    "        structures=structures,\n",
    "        mesh=mw.Mesh2d(\n",
    "            x=np.linspace(-2, 2, 101),\n",
    "            y=np.linspace(-2, 2, 101),\n",
    "            # specify possible conformal mesh specifications here:\n",
    "            # bend_radius=2.0,\n",
    "            # bend_axis=1,\n",
    "        ),\n",
    "        Ls=np.array([length / num_cells for _ in range(num_cells)]),\n",
    "    )\n",
    "    return cells"
   ]
  },
  {
   "cell_type": "code",
   "execution_count": null,
   "id": "51f21eed-1004-4b27-b471-d5d3b3232359",
   "metadata": {
    "papermill": {
     "duration": 0.256494,
     "end_time": "2023-06-05T20:32:10.077093",
     "exception": false,
     "start_time": "2023-06-05T20:32:09.820599",
     "status": "completed"
    },
    "tags": []
   },
   "outputs": [],
   "source": [
    "cells = create_cells()\n",
    "mw.visualize(cells[-1])"
   ]
  },
  {
   "cell_type": "markdown",
   "id": "ee4e586c-bc2d-427f-a95e-83cc7b0af5e2",
   "metadata": {
    "papermill": {
     "duration": 0.023973,
     "end_time": "2023-06-05T20:32:10.126955",
     "exception": false,
     "start_time": "2023-06-05T20:32:10.102982",
     "status": "completed"
    },
    "tags": []
   },
   "source": [
    "### 3. Cross Sections\n"
   ]
  },
  {
   "cell_type": "code",
   "execution_count": null,
   "id": "0063cf01-34b8-4081-bce5-4438183c6a20",
   "metadata": {
    "papermill": {
     "duration": 0.037512,
     "end_time": "2023-06-05T20:32:10.191590",
     "exception": false,
     "start_time": "2023-06-05T20:32:10.154078",
     "status": "completed"
    },
    "tags": []
   },
   "outputs": [],
   "source": [
    "def create_cross_sections(length=10.0, cell_length=1.0, wl=1.55, T=25.0):\n",
    "    cells = create_cells(length=length, cell_length=cell_length)\n",
    "    env = mw.Environment(wl=1.55, T=25.0)\n",
    "    css = [mw.CrossSection(cell=cell, env=env) for cell in cells]\n",
    "    return css"
   ]
  },
  {
   "cell_type": "code",
   "execution_count": null,
   "id": "6b369237-24a1-48ab-8767-1cad5510e4ca",
   "metadata": {
    "papermill": {
     "duration": 0.930169,
     "end_time": "2023-06-05T20:32:11.147989",
     "exception": false,
     "start_time": "2023-06-05T20:32:10.217820",
     "status": "completed"
    },
    "tags": []
   },
   "outputs": [],
   "source": [
    "css = create_cross_sections()\n",
    "mw.visualize(css[0])"
   ]
  },
  {
   "cell_type": "markdown",
   "id": "08c90cb2-e6f5-4251-8e05-c927be29fd29",
   "metadata": {
    "papermill": {
     "duration": 0.050605,
     "end_time": "2023-06-05T20:32:11.245510",
     "exception": false,
     "start_time": "2023-06-05T20:32:11.194905",
     "status": "completed"
    },
    "tags": []
   },
   "source": [
    "### 4. Find Modes (FDE)"
   ]
  },
  {
   "cell_type": "code",
   "execution_count": null,
   "id": "754335f0-50d2-4f1a-a173-b1266493216b",
   "metadata": {
    "papermill": {
     "duration": 0.042569,
     "end_time": "2023-06-05T20:32:11.316346",
     "exception": false,
     "start_time": "2023-06-05T20:32:11.273777",
     "status": "completed"
    },
    "tags": []
   },
   "outputs": [],
   "source": [
    "def find_modes(length=10.0, cell_length=1.0, wl=1.55, T=25.0, num_modes=10):\n",
    "    css = create_cross_sections(length=length, cell_length=cell_length, wl=wl, T=T)\n",
    "    modes: List[List[mw.Mode]] = []\n",
    "    for cs in tqdm(css):\n",
    "        modes_in_cs = mw.compute_modes(cs, num_modes=num_modes)\n",
    "        modes.append(modes_in_cs)\n",
    "    return modes"
   ]
  },
  {
   "cell_type": "markdown",
   "id": "7abc9801-fc8b-43ef-b7ba-4328957d4370",
   "metadata": {
    "papermill": {
     "duration": 0.049144,
     "end_time": "2023-06-05T20:32:11.404142",
     "exception": false,
     "start_time": "2023-06-05T20:32:11.354998",
     "status": "completed"
    },
    "tags": []
   },
   "source": [
    "### 5. Calculate S-matrix (EME)"
   ]
  },
  {
   "cell_type": "code",
   "execution_count": null,
   "id": "6cc358ae-17e3-43de-917f-a40e1910b937",
   "metadata": {
    "papermill": {
     "duration": 0.041617,
     "end_time": "2023-06-05T20:32:11.491395",
     "exception": false,
     "start_time": "2023-06-05T20:32:11.449778",
     "status": "completed"
    },
    "tags": []
   },
   "outputs": [],
   "source": [
    "def find_s_matrix(length=10.0, cell_length=1.0, wl=1.55, T=25.0, num_modes=10):\n",
    "    modes = find_modes(\n",
    "        length=length, cell_length=cell_length, wl=wl, T=T, num_modes=num_modes\n",
    "    )\n",
    "    S, port_map = mw.compute_s_matrix(modes)\n",
    "    return S, port_map"
   ]
  },
  {
   "cell_type": "code",
   "execution_count": null,
   "id": "a05123a2-96ba-4a96-9eb5-d9524f73c6d1",
   "metadata": {
    "papermill": {
     "duration": 88.532814,
     "end_time": "2023-06-05T20:33:40.051632",
     "exception": false,
     "start_time": "2023-06-05T20:32:11.518818",
     "status": "completed"
    },
    "tags": []
   },
   "outputs": [],
   "source": [
    "S1, pm1 = find_s_matrix(length=10.0)\n",
    "S2, pm2 = find_s_matrix(length=5.0)"
   ]
  },
  {
   "cell_type": "code",
   "execution_count": null,
   "id": "dff4c50f-9b92-4263-bd0f-64f35ec891d0",
   "metadata": {
    "papermill": {
     "duration": 0.454338,
     "end_time": "2023-06-05T20:33:40.523107",
     "exception": false,
     "start_time": "2023-06-05T20:33:40.068769",
     "status": "completed"
    },
    "tags": []
   },
   "outputs": [],
   "source": [
    "mw.visualize((abs(S1), pm1))"
   ]
  },
  {
   "cell_type": "code",
   "execution_count": null,
   "id": "0b979027-21e2-4e5d-a726-9220d33331f6",
   "metadata": {
    "papermill": {
     "duration": 0.443398,
     "end_time": "2023-06-05T20:33:40.986798",
     "exception": false,
     "start_time": "2023-06-05T20:33:40.543400",
     "status": "completed"
    },
    "tags": []
   },
   "outputs": [],
   "source": [
    "mw.visualize((abs(S2), pm2))"
   ]
  }
 ],
 "metadata": {
  "kernelspec": {
   "display_name": "hom",
   "language": "python",
   "name": "hom"
  },
  "language_info": {
   "codemirror_mode": {
    "name": "ipython",
    "version": 3
   },
   "file_extension": ".py",
   "mimetype": "text/x-python",
   "name": "python",
   "nbconvert_exporter": "python",
   "pygments_lexer": "ipython3",
   "version": "3.10.11"
  },
  "papermill": {
   "default_parameters": {},
   "duration": 97.555828,
   "end_time": "2023-06-05T20:33:41.828877",
   "environment_variables": {},
   "exception": null,
   "input_path": "./examples/02_taper_length_sweep.ipynb",
   "output_path": "./examples/02_taper_length_sweep.ipynb",
   "parameters": {},
   "start_time": "2023-06-05T20:32:04.273049",
   "version": "2.3.4"
  },
  "vscode": {
   "interpreter": {
    "hash": "0dd118673efdbefb7257b2235dc4c000959f664fa5386b3652213e4a49c44469"
   }
  }
 },
 "nbformat": 4,
 "nbformat_minor": 5
}
