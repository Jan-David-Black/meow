{
 "cells": [
  {
   "cell_type": "markdown",
   "id": "dd643a5d-d081-48d7-a8ed-2c4b80faa122",
   "metadata": {
    "papermill": {
     "duration": 0.00618,
     "end_time": "2022-07-19T07:22:49.005063",
     "exception": false,
     "start_time": "2022-07-19T07:22:48.998883",
     "status": "completed"
    },
    "tags": []
   },
   "source": [
    "# Welcome\n",
    "\n",
    "> meow Introduction and Quick Start"
   ]
  },
  {
   "cell_type": "code",
   "execution_count": null,
   "id": "4859f69dd76d8b17",
   "metadata": {
    "papermill": {
     "duration": 3.713703,
     "end_time": "2022-07-19T07:22:52.722364",
     "exception": false,
     "start_time": "2022-07-19T07:22:49.008661",
     "status": "completed"
    },
    "tags": [
     "remove-cell"
    ]
   },
   "outputs": [],
   "source": [
    "from typing import List\n",
    "\n",
    "import meow as mw\n",
    "import numpy as np\n",
    "from meow import Structure"
   ]
  },
  {
   "cell_type": "markdown",
   "id": "2d28a1cd-a5db-4e58-b141-c6a20a0a5657",
   "metadata": {
    "papermill": {
     "duration": 0.002955,
     "end_time": "2022-07-19T07:22:52.729393",
     "exception": false,
     "start_time": "2022-07-19T07:22:52.726438",
     "status": "completed"
    },
    "tags": []
   },
   "source": [
    "## Installation\n",
    "\n",
    "```sh\n",
    "pip install meow-sim\n",
    "```"
   ]
  },
  {
   "cell_type": "markdown",
   "id": "e563a59a-6494-431b-b124-6c1804a6c7cb",
   "metadata": {
    "papermill": {
     "duration": 0.002802,
     "end_time": "2022-07-19T07:22:52.735107",
     "exception": false,
     "start_time": "2022-07-19T07:22:52.732305",
     "status": "completed"
    },
    "tags": []
   },
   "source": [
    "## Quick Start"
   ]
  },
  {
   "cell_type": "markdown",
   "id": "18f7b08a-7303-4454-a31c-1fea3d7c42af",
   "metadata": {
    "papermill": {
     "duration": 0.002911,
     "end_time": "2022-07-19T07:22:52.740814",
     "exception": false,
     "start_time": "2022-07-19T07:22:52.737903",
     "status": "completed"
    },
    "tags": []
   },
   "source": [
    "### 1. Structure\n",
    "First create the structures to be simulated. A {class}`~.meow.structures.Structure` is a collection of a {class}`~.meow.geometries.Geometry` with a {class}`~.meow.materials.Material`. \n",
    "\n",
    ":::{note}\n",
    "`meow` expects the propagation direction to be the `z`-axis! This makes the `zx`-plane parallel with the chip and the `y`-axis perpendicular to the chip. Keep this in mind when creating your structures.\n",
    ":::"
   ]
  },
  {
   "cell_type": "code",
   "execution_count": null,
   "id": "873fae6e-3435-4a89-8f3f-06a33a8755ed",
   "metadata": {
    "papermill": {
     "duration": 0.073878,
     "end_time": "2022-07-19T07:22:52.817457",
     "exception": false,
     "start_time": "2022-07-19T07:22:52.743579",
     "status": "completed"
    },
    "tags": []
   },
   "outputs": [],
   "source": [
    "length = 10.0\n",
    "\n",
    "oxide = mw.Structure(\n",
    "    material=mw.silicon_oxide,\n",
    "    geometry=mw.Box(\n",
    "        x_min=-1.0,\n",
    "        x_max=1.0,\n",
    "        y_min=-1.0,\n",
    "        y_max=0.0,\n",
    "        z_min=0.0,\n",
    "        z_max=length,\n",
    "    ),\n",
    ")\n",
    "\n",
    "core = mw.Structure(\n",
    "    material=mw.silicon,\n",
    "    geometry=mw.Box(\n",
    "        x_min=-0.45/2,\n",
    "        x_max=0.45/2,\n",
    "        y_min=0.0,\n",
    "        y_max=0.22,\n",
    "        z_min=0,\n",
    "        z_max=length,\n",
    "    ),\n",
    ")\n",
    "\n",
    "structures = [oxide, core]\n",
    "mw.visualize(structures)"
   ]
  },
  {
   "cell_type": "markdown",
   "id": "ec547819-c3c3-42ac-9cb4-33c183680bf2",
   "metadata": {
    "papermill": {
     "duration": 0.015136,
     "end_time": "2022-07-19T07:22:52.848921",
     "exception": false,
     "start_time": "2022-07-19T07:22:52.833785",
     "status": "completed"
    },
    "tags": []
   },
   "source": [
    ":::{note} \n",
    "you can also extrude structures from a gds file. See {class}`~.meow.gds_structures.GdsExtrusionRule`. \n",
    ":::"
   ]
  },
  {
   "cell_type": "markdown",
   "id": "5e7eee72-2ab4-498f-bd0b-3b80feba483e",
   "metadata": {
    "papermill": {
     "duration": 0.01564,
     "end_time": "2022-07-19T07:22:52.880226",
     "exception": false,
     "start_time": "2022-07-19T07:22:52.864586",
     "status": "completed"
    },
    "tags": []
   },
   "source": [
    "### 2. Cells\n",
    "\n",
    "Once you have the {class}`~.meow.structures.Structures` (a list that contains {class}`~.meow.structures.Structure` objects), they need to be divided into {class}`~.meow.cell.Cells`. A {class}`~.meow.cell.Cell` is a combination of those structures with 2D meshing info ({class}`~.meow.mesh.Mesh2d`) and a cell length."
   ]
  },
  {
   "cell_type": "code",
   "execution_count": null,
   "id": "50df56f0-ce78-41f5-a854-8d1cfa486392",
   "metadata": {
    "papermill": {
     "duration": 0.03537,
     "end_time": "2022-07-19T07:22:52.931179",
     "exception": false,
     "start_time": "2022-07-19T07:22:52.895809",
     "status": "completed"
    },
    "tags": []
   },
   "outputs": [],
   "source": [
    "num_cells = 5\n",
    "\n",
    "cells = mw.Cells(\n",
    "    structures=structures,\n",
    "    mesh=mw.Mesh2d(\n",
    "        x = np.linspace(-1, 1, 101),\n",
    "        y = np.linspace(-1, 1, 101),\n",
    "    ),\n",
    "    Ls=[length / num_cells for _ in range(num_cells)],\n",
    ")"
   ]
  },
  {
   "cell_type": "markdown",
   "id": "53b6f32e-e2ae-491d-bfee-3db2616e6063",
   "metadata": {
    "papermill": {
     "duration": 0.015934,
     "end_time": "2022-07-19T07:22:52.965968",
     "exception": false,
     "start_time": "2022-07-19T07:22:52.950034",
     "status": "completed"
    },
    "tags": []
   },
   "source": [
    "A cell should be a region of (approximate) constant cross section. We can use the {func}`~.meow.visualize.visualize` function to show the cross section of a cell:"
   ]
  },
  {
   "cell_type": "code",
   "execution_count": null,
   "id": "51f21eed-1004-4b27-b471-d5d3b3232359",
   "metadata": {
    "papermill": {
     "duration": 0.15322,
     "end_time": "2022-07-19T07:22:53.134992",
     "exception": false,
     "start_time": "2022-07-19T07:22:52.981772",
     "status": "completed"
    },
    "tags": []
   },
   "outputs": [],
   "source": [
    "mw.visualize(cells[0])"
   ]
  },
  {
   "cell_type": "markdown",
   "id": "ee4e586c-bc2d-427f-a95e-83cc7b0af5e2",
   "metadata": {
    "papermill": {
     "duration": 0.016673,
     "end_time": "2022-07-19T07:22:53.167835",
     "exception": false,
     "start_time": "2022-07-19T07:22:53.151162",
     "status": "completed"
    },
    "tags": []
   },
   "source": [
    "### 3. Cross Sections\n",
    "A {class}`~.meow.cell.Cell` contains all the {class}`~.meow.structures.Structure` info, but does not take any {class}`~.meow.environment.Environment` information (such as temparature or wavelength) into account. This information is important as it influences the refractive index of the {class}`~.meow.cross_section.CrossSection`.\n",
    "\n",
    "Therefore, combining a {class}`~.meow.cell.Cell` with an {class}`~.meow.environment.Environment` yields a {class}`~.meow.cross_section.CrossSection`:"
   ]
  },
  {
   "cell_type": "code",
   "execution_count": null,
   "id": "a88e01ae-06c4-43d9-8c2e-dfe2ee4e0d91",
   "metadata": {
    "papermill": {
     "duration": 0.170263,
     "end_time": "2022-07-19T07:22:53.355298",
     "exception": false,
     "start_time": "2022-07-19T07:22:53.185035",
     "status": "completed"
    },
    "tags": []
   },
   "outputs": [],
   "source": [
    "env = mw.Environment(wl=1.55, T=25.0)\n",
    "css = mw.CrossSections(cells, env)\n",
    "mw.visualize(css[0])"
   ]
  },
  {
   "cell_type": "markdown",
   "id": "08c90cb2-e6f5-4251-8e05-c927be29fd29",
   "metadata": {
    "papermill": {
     "duration": 0.017104,
     "end_time": "2022-07-19T07:22:53.389506",
     "exception": false,
     "start_time": "2022-07-19T07:22:53.372402",
     "status": "completed"
    },
    "tags": []
   },
   "source": [
    "### 4. Find Modes (FDE)\n",
    "We can now compute multiple {class}`~.meow.modes.Modes` per {class}`~.meow.cross_section.CrossSection` using {func}`~.meow.fde.tidy3d.compute_modes`:"
   ]
  },
  {
   "cell_type": "code",
   "execution_count": null,
   "id": "8cb0f8d6-021b-4eb8-af56-9fe2e5d35f65",
   "metadata": {
    "papermill": {
     "duration": 5.487764,
     "end_time": "2022-07-19T07:22:58.893975",
     "exception": false,
     "start_time": "2022-07-19T07:22:53.406211",
     "status": "completed"
    },
    "tags": []
   },
   "outputs": [],
   "source": [
    "num_modes = 2\n",
    "\n",
    "modes: List[List[mw.Mode]] = []\n",
    "for cs in css:\n",
    "    modes_in_cs = mw.compute_modes(cs, num_modes=num_modes)\n",
    "    modes.append(modes_in_cs)\n",
    "    \n",
    "# show Hx component of the second mode (idx 1) \n",
    "# of the first cell (idx 0):\n",
    "mw.visualize(modes[0][1], fields=[\"Hx\"])"
   ]
  },
  {
   "cell_type": "markdown",
   "id": "a08e7375-3fe5-4f86-a7bc-260add35dac4",
   "metadata": {
    "papermill": {
     "duration": 0.016564,
     "end_time": "2022-07-19T07:22:58.927289",
     "exception": false,
     "start_time": "2022-07-19T07:22:58.910725",
     "status": "completed"
    },
    "tags": []
   },
   "source": [
    ":::{note} \n",
    "above, the {class}`~.meow.modes.Modes` of the {class}`~.meow.cross_section.CrossSection` are calculated sequentially. However, you're invited to try calculating the modes concurrently as well 😉\n",
    ":::"
   ]
  },
  {
   "cell_type": "markdown",
   "id": "7abc9801-fc8b-43ef-b7ba-4328957d4370",
   "metadata": {
    "papermill": {
     "duration": 0.017911,
     "end_time": "2022-07-19T07:22:58.962479",
     "exception": false,
     "start_time": "2022-07-19T07:22:58.944568",
     "status": "completed"
    },
    "tags": []
   },
   "source": [
    "### 5. Calculate S-matrix (EME)\n",
    "\n",
    "The S-matrix of a collection of modes can now easily be calculated with {func}`~.meow.eme.tidy3d.compute_s_matrix`. This step uses the [sax](https://github.com/flaport/sax) circuit solver under the hood."
   ]
  },
  {
   "cell_type": "code",
   "execution_count": null,
   "id": "8600e5a7-5e34-4b5c-abf5-737cd01734dc",
   "metadata": {
    "papermill": {
     "duration": 0.313221,
     "end_time": "2022-07-19T07:22:59.292271",
     "exception": false,
     "start_time": "2022-07-19T07:22:58.979050",
     "status": "completed"
    },
    "tags": []
   },
   "outputs": [],
   "source": [
    "S, port_map = mw.compute_s_matrix(modes)\n",
    "\n",
    "print(port_map)\n",
    "mw.visualize(S)"
   ]
  },
  {
   "cell_type": "markdown",
   "id": "afff8c93-5a21-46bf-b5e6-8b5530b75523",
   "metadata": {
    "papermill": {
     "duration": 0.017125,
     "end_time": "2022-07-19T07:22:59.327848",
     "exception": false,
     "start_time": "2022-07-19T07:22:59.310723",
     "status": "completed"
    },
    "tags": []
   },
   "source": [
    "That's it! this was a quick introduction to the `meow` library. You're invited to check out the [examples](/shared/modeling/meow/gds_taper) or [to learn the ins and outs of the library](/shared/modeling/meow/library). Moreover, you're invited to contribute your own examples and code to the `meow` library as well!"
   ]
  }
 ],
 "metadata": {
  "kernelspec": {
   "display_name": "Python 3.10.6 ('meow')",
   "language": "python",
   "name": "python3"
  },
  "language_info": {
   "codemirror_mode": {
    "name": "ipython",
    "version": 3
   },
   "file_extension": ".py",
   "mimetype": "text/x-python",
   "name": "python",
   "nbconvert_exporter": "python",
   "pygments_lexer": "ipython3",
   "version": "3.10.6"
  },
  "papermill": {
   "default_parameters": {},
   "duration": 12.85024,
   "end_time": "2022-07-19T07:23:00.472571",
   "environment_variables": {},
   "exception": null,
   "input_path": "library/00_index.ipynb",
   "output_path": "library/00_index.ipynb",
   "parameters": {},
   "start_time": "2022-07-19T07:22:47.622331",
   "version": "2.3.4"
  },
  "vscode": {
   "interpreter": {
    "hash": "0dd118673efdbefb7257b2235dc4c000959f664fa5386b3652213e4a49c44469"
   }
  }
 },
 "nbformat": 4,
 "nbformat_minor": 5
}
