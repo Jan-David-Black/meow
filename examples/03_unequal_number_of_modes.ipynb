{
 "cells": [
  {
   "cell_type": "markdown",
   "metadata": {
    "papermill": {
     "duration": 0.01161,
     "end_time": "2022-11-10T19:20:49.328700",
     "exception": false,
     "start_time": "2022-11-10T19:20:49.317090",
     "status": "completed"
    },
    "tags": []
   },
   "source": [
    "# Unequal Number of Modes\n",
    "\n",
    "> Find the S-matrix of a structure for which each slice has a different number of modes"
   ]
  },
  {
   "cell_type": "code",
   "execution_count": null,
   "metadata": {
    "id": "4tRtbXVHpFK3",
    "tags": []
   },
   "outputs": [],
   "source": [
    "import meow as mw\n",
    "import numpy as np"
   ]
  },
  {
   "cell_type": "code",
   "execution_count": null,
   "metadata": {
    "id": "oU-R6EV6pjr-",
    "tags": []
   },
   "outputs": [],
   "source": [
    "def create_structures(length=10.0):\n",
    "    oxide = mw.Structure(\n",
    "        material=mw.silicon_oxide,\n",
    "        geometry=mw.Prism(\n",
    "            poly=np.array([(0, -2.1), (10, -2.1), (10, 2.1), (0, 2.1)]),\n",
    "            h_min=-3,\n",
    "            h_max=0,\n",
    "            axis=\"y\",\n",
    "        ),\n",
    "    )\n",
    "\n",
    "    poly = np.array([(0, -0.45 / 2), (10, -0.5 / 2), (10, 0.5 / 2), (0, 0.45 / 2)])\n",
    "\n",
    "    core = mw.Structure(\n",
    "        material=mw.silicon,\n",
    "        geometry=mw.Prism(\n",
    "            poly=poly,\n",
    "            h_min=0,\n",
    "            h_max=0.22,\n",
    "            axis=\"y\",\n",
    "        ),\n",
    "    )\n",
    "\n",
    "    structures = [oxide, core]\n",
    "    return structures"
   ]
  },
  {
   "cell_type": "code",
   "execution_count": null,
   "metadata": {
    "tags": []
   },
   "outputs": [],
   "source": [
    "mw.visualize(create_structures())"
   ]
  },
  {
   "cell_type": "code",
   "execution_count": null,
   "metadata": {
    "id": "FLcaDGAKpuvY",
    "tags": []
   },
   "outputs": [],
   "source": [
    "def create_cells(length=10.0, num_cells=2):\n",
    "    structures = create_structures(length=length)\n",
    "    cells = mw.create_cells(\n",
    "        structures=structures,\n",
    "        mesh=mw.Mesh2d(\n",
    "            x=np.linspace(-2, 2, 101),\n",
    "            y=np.linspace(-2, 2, 101),\n",
    "            # specify possible conformal mesh specifications here:\n",
    "            # bend_radius=2.0,\n",
    "            # bend_axis=1,\n",
    "        ),\n",
    "        Ls=np.array([length / num_cells for _ in range(num_cells)]),\n",
    "    )\n",
    "    return cells"
   ]
  },
  {
   "cell_type": "code",
   "execution_count": null,
   "metadata": {
    "id": "Ugo1IawKqBIJ",
    "tags": []
   },
   "outputs": [],
   "source": [
    "cells = create_cells(10, 2)\n",
    "env = mw.Environment(wl=1.55, T=25.0)\n",
    "css = [mw.CrossSection(cell=cell, env=env) for cell in cells]"
   ]
  },
  {
   "cell_type": "markdown",
   "metadata": {},
   "source": [
    "## Equal number of modes"
   ]
  },
  {
   "cell_type": "code",
   "execution_count": null,
   "metadata": {
    "id": "y-NHn08PqQaD",
    "tags": []
   },
   "outputs": [],
   "source": [
    "modes = [mw.compute_modes(cs, num_modes=4) for cs in css]"
   ]
  },
  {
   "cell_type": "code",
   "execution_count": null,
   "metadata": {
    "tags": []
   },
   "outputs": [],
   "source": [
    "for ms in modes:\n",
    "    print(len(ms))"
   ]
  },
  {
   "cell_type": "code",
   "execution_count": null,
   "metadata": {
    "tags": []
   },
   "outputs": [],
   "source": [
    "for ms in modes:\n",
    "    for m in ms:\n",
    "        mw.visualize(m)"
   ]
  },
  {
   "cell_type": "code",
   "execution_count": null,
   "metadata": {
    "colab": {
     "base_uri": "https://localhost:8080/",
     "height": 319
    },
    "id": "2bpFKwNTq_-j",
    "outputId": "63a0536a-d071-48d2-ce3c-1f8632cee90a",
    "tags": []
   },
   "outputs": [],
   "source": [
    "S, port_map = mw.compute_s_matrix(modes)\n",
    "mw.visualize(S)"
   ]
  },
  {
   "cell_type": "markdown",
   "metadata": {},
   "source": [
    "## Unequal number of modes"
   ]
  },
  {
   "cell_type": "code",
   "execution_count": null,
   "metadata": {
    "id": "oPiOiYcsqq7i",
    "tags": []
   },
   "outputs": [],
   "source": [
    "modes[0] = modes[0][:2]\n",
    "modes[-1] = modes[-1][:3]"
   ]
  },
  {
   "cell_type": "code",
   "execution_count": null,
   "metadata": {
    "tags": []
   },
   "outputs": [],
   "source": [
    "for ms in modes:\n",
    "    print(len(ms))"
   ]
  },
  {
   "cell_type": "code",
   "execution_count": null,
   "metadata": {
    "colab": {
     "base_uri": "https://localhost:8080/",
     "height": 319
    },
    "id": "2bpFKwNTq_-j",
    "outputId": "63a0536a-d071-48d2-ce3c-1f8632cee90a",
    "tags": []
   },
   "outputs": [],
   "source": [
    "S, port_map = mw.compute_s_matrix(modes)\n",
    "mw.visualize(S)"
   ]
  }
 ],
 "metadata": {
  "colab": {
   "provenance": []
  },
  "kernelspec": {
   "display_name": "Python 3 (ipykernel)",
   "language": "python",
   "name": "python3"
  },
  "language_info": {
   "codemirror_mode": {
    "name": "ipython",
    "version": 3
   },
   "file_extension": ".py",
   "mimetype": "text/x-python",
   "name": "python",
   "nbconvert_exporter": "python",
   "pygments_lexer": "ipython3",
   "version": "3.10.9"
  }
 },
 "nbformat": 4,
 "nbformat_minor": 4
}
