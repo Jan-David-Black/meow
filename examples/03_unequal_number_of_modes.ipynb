{
 "cells": [
  {
   "cell_type": "markdown",
   "id": "0ced052d",
   "metadata": {
    "papermill": {
     "duration": 0.004617,
     "end_time": "2023-06-05T20:32:05.935135",
     "exception": false,
     "start_time": "2023-06-05T20:32:05.930518",
     "status": "completed"
    },
    "tags": []
   },
   "source": [
    "# Unequal Number of Modes\n",
    "\n",
    "> Find the S-matrix of a structure for which each slice has a different number of modes (contributed by @jan-david-black)"
   ]
  },
  {
   "cell_type": "code",
   "execution_count": null,
   "id": "6ecb59f2",
   "metadata": {
    "id": "4tRtbXVHpFK3",
    "papermill": {
     "duration": 4.478504,
     "end_time": "2023-06-05T20:32:10.417943",
     "exception": false,
     "start_time": "2023-06-05T20:32:05.939439",
     "status": "completed"
    },
    "tags": []
   },
   "outputs": [],
   "source": [
    "import meow as mw\n",
    "import numpy as np"
   ]
  },
  {
   "cell_type": "code",
   "execution_count": null,
   "id": "9ab11529",
   "metadata": {
    "id": "oU-R6EV6pjr-",
    "papermill": {
     "duration": 0.015389,
     "end_time": "2023-06-05T20:32:10.442738",
     "exception": false,
     "start_time": "2023-06-05T20:32:10.427349",
     "status": "completed"
    },
    "tags": []
   },
   "outputs": [],
   "source": [
    "def create_structures(length=10.0):\n",
    "    oxide = mw.Structure(\n",
    "        material=mw.silicon_oxide,\n",
    "        geometry=mw.Prism(\n",
    "            poly=np.array([(0, -2.1), (10, -2.1), (10, 2.1), (0, 2.1)]),\n",
    "            h_min=-3,\n",
    "            h_max=0,\n",
    "            axis=\"y\",\n",
    "        ),\n",
    "    )\n",
    "\n",
    "    poly = np.array([(0, -0.45 / 2), (10, -0.5 / 2), (10, 0.5 / 2), (0, 0.45 / 2)])\n",
    "\n",
    "    core = mw.Structure(\n",
    "        material=mw.silicon,\n",
    "        geometry=mw.Prism(\n",
    "            poly=poly,\n",
    "            h_min=0,\n",
    "            h_max=0.22,\n",
    "            axis=\"y\",\n",
    "        ),\n",
    "    )\n",
    "\n",
    "    structures = [oxide, core]\n",
    "    return structures"
   ]
  },
  {
   "cell_type": "code",
   "execution_count": null,
   "id": "00c9fb5a",
   "metadata": {
    "papermill": {
     "duration": 0.099693,
     "end_time": "2023-06-05T20:32:10.560595",
     "exception": false,
     "start_time": "2023-06-05T20:32:10.460902",
     "status": "completed"
    },
    "tags": []
   },
   "outputs": [],
   "source": [
    "mw.visualize(create_structures())"
   ]
  },
  {
   "cell_type": "code",
   "execution_count": null,
   "id": "070ebfd3",
   "metadata": {
    "id": "FLcaDGAKpuvY",
    "papermill": {
     "duration": 0.060043,
     "end_time": "2023-06-05T20:32:10.666064",
     "exception": false,
     "start_time": "2023-06-05T20:32:10.606021",
     "status": "completed"
    },
    "tags": []
   },
   "outputs": [],
   "source": [
    "def create_cells(length=10.0, num_cells=2):\n",
    "    structures = create_structures(length=length)\n",
    "    cells = mw.create_cells(\n",
    "        structures=structures,\n",
    "        mesh=mw.Mesh2d(\n",
    "            x=np.linspace(-2, 2, 101),\n",
    "            y=np.linspace(-2, 2, 101),\n",
    "            # specify possible conformal mesh specifications here:\n",
    "            # bend_radius=2.0,\n",
    "            # bend_axis=1,\n",
    "        ),\n",
    "        Ls=np.array([length / num_cells for _ in range(num_cells)]),\n",
    "    )\n",
    "    return cells"
   ]
  },
  {
   "cell_type": "code",
   "execution_count": null,
   "id": "d2abef13",
   "metadata": {
    "id": "Ugo1IawKqBIJ",
    "papermill": {
     "duration": 0.212901,
     "end_time": "2023-06-05T20:32:10.949453",
     "exception": false,
     "start_time": "2023-06-05T20:32:10.736552",
     "status": "completed"
    },
    "tags": []
   },
   "outputs": [],
   "source": [
    "cells = create_cells(10, 2)\n",
    "env = mw.Environment(wl=1.55, T=25.0)\n",
    "css = [mw.CrossSection(cell=cell, env=env) for cell in cells]"
   ]
  },
  {
   "cell_type": "markdown",
   "id": "62f850f0",
   "metadata": {
    "papermill": {
     "duration": 0.030604,
     "end_time": "2023-06-05T20:32:11.001650",
     "exception": false,
     "start_time": "2023-06-05T20:32:10.971046",
     "status": "completed"
    },
    "tags": []
   },
   "source": [
    "## Equal number of modes"
   ]
  },
  {
   "cell_type": "code",
   "execution_count": null,
   "id": "c920af0f",
   "metadata": {
    "id": "y-NHn08PqQaD",
    "papermill": {
     "duration": 14.380218,
     "end_time": "2023-06-05T20:32:25.414407",
     "exception": false,
     "start_time": "2023-06-05T20:32:11.034189",
     "status": "completed"
    },
    "tags": []
   },
   "outputs": [],
   "source": [
    "modes = [mw.compute_modes(cs, num_modes=4) for cs in css]"
   ]
  },
  {
   "cell_type": "code",
   "execution_count": null,
   "id": "7ee3d934",
   "metadata": {
    "papermill": {
     "duration": 0.071687,
     "end_time": "2023-06-05T20:32:25.529655",
     "exception": false,
     "start_time": "2023-06-05T20:32:25.457968",
     "status": "completed"
    },
    "tags": []
   },
   "outputs": [],
   "source": [
    "for ms in modes:\n",
    "    print(len(ms))"
   ]
  },
  {
   "cell_type": "code",
   "execution_count": null,
   "id": "652f44d5",
   "metadata": {
    "papermill": {
     "duration": 9.987091,
     "end_time": "2023-06-05T20:32:35.595810",
     "exception": false,
     "start_time": "2023-06-05T20:32:25.608719",
     "status": "completed"
    },
    "tags": []
   },
   "outputs": [],
   "source": [
    "for ms in modes:\n",
    "    for m in ms:\n",
    "        mw.visualize(m)"
   ]
  },
  {
   "cell_type": "code",
   "execution_count": null,
   "id": "e6ab8650",
   "metadata": {
    "colab": {
     "base_uri": "https://localhost:8080/",
     "height": 319
    },
    "id": "2bpFKwNTq_-j",
    "outputId": "63a0536a-d071-48d2-ce3c-1f8632cee90a",
    "papermill": {
     "duration": 4.542824,
     "end_time": "2023-06-05T20:32:40.191993",
     "exception": false,
     "start_time": "2023-06-05T20:32:35.649169",
     "status": "completed"
    },
    "tags": []
   },
   "outputs": [],
   "source": [
    "S, pm = mw.compute_s_matrix(modes)\n",
    "mw.visualize((S, pm))"
   ]
  },
  {
   "cell_type": "markdown",
   "id": "70b7e806",
   "metadata": {
    "papermill": {
     "duration": 0.080228,
     "end_time": "2023-06-05T20:32:40.330171",
     "exception": false,
     "start_time": "2023-06-05T20:32:40.249943",
     "status": "completed"
    },
    "tags": []
   },
   "source": [
    "## Unequal number of modes"
   ]
  },
  {
   "cell_type": "code",
   "execution_count": null,
   "id": "b2852090",
   "metadata": {
    "id": "oPiOiYcsqq7i",
    "papermill": {
     "duration": 0.062639,
     "end_time": "2023-06-05T20:32:40.486779",
     "exception": false,
     "start_time": "2023-06-05T20:32:40.424140",
     "status": "completed"
    },
    "tags": []
   },
   "outputs": [],
   "source": [
    "modes[0] = modes[0][:2]\n",
    "modes[-1] = modes[-1][:3]"
   ]
  },
  {
   "cell_type": "code",
   "execution_count": null,
   "id": "c6e53906",
   "metadata": {
    "papermill": {
     "duration": 0.075704,
     "end_time": "2023-06-05T20:32:40.626912",
     "exception": false,
     "start_time": "2023-06-05T20:32:40.551208",
     "status": "completed"
    },
    "tags": []
   },
   "outputs": [],
   "source": [
    "for ms in modes:\n",
    "    print(len(ms))"
   ]
  },
  {
   "cell_type": "code",
   "execution_count": null,
   "id": "bffdab41",
   "metadata": {
    "colab": {
     "base_uri": "https://localhost:8080/",
     "height": 319
    },
    "id": "2bpFKwNTq_-j",
    "outputId": "63a0536a-d071-48d2-ce3c-1f8632cee90a",
    "papermill": {
     "duration": 1.900834,
     "end_time": "2023-06-05T20:32:42.595076",
     "exception": false,
     "start_time": "2023-06-05T20:32:40.694242",
     "status": "completed"
    },
    "tags": []
   },
   "outputs": [],
   "source": [
    "S, pm = mw.compute_s_matrix(modes)\n",
    "mw.visualize((S, pm))"
   ]
  }
 ],
 "metadata": {
  "colab": {
   "provenance": []
  },
  "kernelspec": {
   "display_name": "Python 3 (ipykernel)",
   "language": "python",
   "name": "python3"
  },
  "language_info": {
   "codemirror_mode": {
    "name": "ipython",
    "version": 3
   },
   "file_extension": ".py",
   "mimetype": "text/x-python",
   "name": "python",
   "nbconvert_exporter": "python",
   "pygments_lexer": "ipython3",
   "version": "3.10.9"
  },
  "papermill": {
   "default_parameters": {},
   "duration": 39.592646,
   "end_time": "2023-06-05T20:32:44.056961",
   "environment_variables": {},
   "exception": null,
   "input_path": "./examples/03_unequal_number_of_modes.ipynb",
   "output_path": "./examples/03_unequal_number_of_modes.ipynb",
   "parameters": {},
   "start_time": "2023-06-05T20:32:04.464315",
   "version": "2.4.0"
  }
 },
 "nbformat": 4,
 "nbformat_minor": 5
}
