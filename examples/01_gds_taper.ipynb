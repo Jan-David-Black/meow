{
 "cells": [
  {
   "cell_type": "markdown",
   "id": "84e806ae-7505-498f-bff3-dca9070ce0bb",
   "metadata": {
    "papermill": {
     "duration": 0.009492,
     "end_time": "2022-11-10T19:20:59.735619",
     "exception": false,
     "start_time": "2022-11-10T19:20:59.726127",
     "status": "completed"
    },
    "tags": []
   },
   "source": [
    "# GDS Taper\n",
    "> Create a Taper and Simulate"
   ]
  },
  {
   "cell_type": "code",
   "execution_count": null,
   "id": "6affcecb-2c94-47e8-9e78-60dcc7b5abe3",
   "metadata": {
    "papermill": {
     "duration": 1.967171,
     "end_time": "2022-11-10T19:21:01.711888",
     "exception": false,
     "start_time": "2022-11-10T19:20:59.744717",
     "status": "completed"
    },
    "tags": []
   },
   "outputs": [],
   "source": [
    "import meow as mw\n",
    "import gdsfactory as gf\n",
    "import matplotlib.pyplot as plt\n",
    "import numpy as np"
   ]
  },
  {
   "cell_type": "markdown",
   "id": "d715d561-1cea-44be-9efa-fab8d127dcf9",
   "metadata": {
    "papermill": {
     "duration": 0.009522,
     "end_time": "2022-11-10T19:21:01.730100",
     "exception": false,
     "start_time": "2022-11-10T19:21:01.720578",
     "status": "completed"
    },
    "tags": []
   },
   "source": [
    "## Example Taper"
   ]
  },
  {
   "cell_type": "markdown",
   "id": "dc47f09c-445a-4396-a7bb-d581c2a46543",
   "metadata": {
    "papermill": {
     "duration": 0.008731,
     "end_time": "2022-11-10T19:21:01.748219",
     "exception": false,
     "start_time": "2022-11-10T19:21:01.739488",
     "status": "completed"
    },
    "tags": []
   },
   "source": [
    "> Note: `meow` expects the propagation direction to be the `z`-axis! This makes the `zx`-plane parallel with the chip and the `y`-axis perpendicular to the chip. Somewhat confusingly, the (x, y) GDS coordinate tuple hence maps onto the (z, x) `meow` coordinate tuple. Whereas the y coordinate from meow denotes the direction perpendicular to the chip. (I will probably change the `meow` convention in the future.)"
   ]
  },
  {
   "cell_type": "code",
   "execution_count": null,
   "id": "5b6b6459-378d-41c3-94e5-cc9ff81b4790",
   "metadata": {
    "papermill": {
     "duration": 0.01411,
     "end_time": "2022-11-10T19:21:01.770843",
     "exception": false,
     "start_time": "2022-11-10T19:21:01.756733",
     "status": "completed"
    },
    "tags": []
   },
   "outputs": [],
   "source": [
    "def example_gds_cross_section(\n",
    "    width: float = 0.450,\n",
    "    clad_width: float = 2.0,\n",
    ") -> gf.CrossSection:\n",
    "    \"\"\"a strip waveguide cross section\n",
    "\n",
    "    Args:\n",
    "        width:  the width of the strip waveguide\n",
    "        clad_width: the width of the cladding\n",
    "    \"\"\"\n",
    "    core_width = width\n",
    "    port_names = (\"in0\", \"out0\")\n",
    "    sections = (\n",
    "        gf.Section(width=core_width, offset=0, layer=(1, 0), name=\"core\"),\n",
    "        gf.Section(width=clad_width, offset=0.5 * (core_width + clad_width), layer=(2, 0), name=\"upper\"),\n",
    "        gf.Section(width=clad_width, offset=-0.5 * (core_width + clad_width), layer=(2, 0), name=\"lower\"),\n",
    "    )\n",
    "    cs = gf.cross_section.cross_section(\n",
    "        width=width,\n",
    "        port_names=port_names,\n",
    "        auto_widen=False,\n",
    "        sections=sections,\n",
    "    )\n",
    "    return cs"
   ]
  },
  {
   "cell_type": "code",
   "execution_count": null,
   "id": "3f0f925f-5c73-4993-bd45-a28baedfe8d8",
   "metadata": {
    "papermill": {
     "duration": 0.014938,
     "end_time": "2022-11-10T19:21:01.794556",
     "exception": false,
     "start_time": "2022-11-10T19:21:01.779618",
     "status": "completed"
    },
    "tags": []
   },
   "outputs": [],
   "source": [
    "@gf.cell\n",
    "def example_taper(\n",
    "    width_input: float = 0.450,\n",
    "    width_output: float = 1.0,\n",
    "    length: float = 10.0,\n",
    ") -> gf.Component:\n",
    "    \"\"\" create a linear taper\n",
    "    \n",
    "    Args:\n",
    "        width_input: input width of the linear taper\n",
    "        width_output: output width of the linear taper\n",
    "        length: the length of the linear taper\n",
    "    \"\"\"\n",
    "    input_cs = example_gds_cross_section(width_input)\n",
    "    output_cs = example_gds_cross_section(width_output)\n",
    "    transition = gf.path.transition(input_cs, output_cs, width_type=\"linear\")\n",
    "    length = gf.snap.snap_to_grid(length) # type: ignore\n",
    "    path = gf.path.straight(length)\n",
    "    component = gf.path.extrude(path, transition)\n",
    "    return component"
   ]
  },
  {
   "cell_type": "code",
   "execution_count": null,
   "id": "dfae1768-860b-44bc-92e7-f36dcd88ea34",
   "metadata": {
    "papermill": {
     "duration": 0.233991,
     "end_time": "2022-11-10T19:21:02.037219",
     "exception": false,
     "start_time": "2022-11-10T19:21:01.803228",
     "status": "completed"
    },
    "tags": []
   },
   "outputs": [],
   "source": [
    "taper = example_taper(width_input=0.45, width_output=1.0, length=20)\n",
    "taper"
   ]
  },
  {
   "cell_type": "markdown",
   "id": "7ac0a034-7aeb-455b-a591-764ed1a2e58b",
   "metadata": {
    "papermill": {
     "duration": 0.011246,
     "end_time": "2022-11-10T19:21:02.059347",
     "exception": false,
     "start_time": "2022-11-10T19:21:02.048101",
     "status": "completed"
    },
    "tags": []
   },
   "source": [
    "## Example Structure Map"
   ]
  },
  {
   "cell_type": "code",
   "execution_count": null,
   "id": "545c890a-a49e-432e-81d2-553d1326005a",
   "metadata": {
    "papermill": {
     "duration": 0.017033,
     "end_time": "2022-11-10T19:21:02.087583",
     "exception": false,
     "start_time": "2022-11-10T19:21:02.070550",
     "status": "completed"
    },
    "tags": []
   },
   "outputs": [],
   "source": [
    "def example_extrusions(\n",
    "    t_slab: float = 0.020,\n",
    "    t_soi: float = 0.220,\n",
    "    t_ox: float = 1.0,\n",
    "):\n",
    "    \"\"\" create some simple extrusion rules\n",
    "    \n",
    "    Args:\n",
    "        t_slab: the slab thickness\n",
    "        t_soi: the SOI thickness\n",
    "        t_ox: the oxide layer thickness\n",
    "    \"\"\"\n",
    "    extrusions = {\n",
    "        (1, 0): [\n",
    "            mw.GdsExtrusionRule(\n",
    "                material=mw.silicon,\n",
    "                h_min=0.0,\n",
    "                h_max=0.0 + t_soi,\n",
    "                mesh_order=1,\n",
    "            ),\n",
    "            mw.GdsExtrusionRule(\n",
    "                material=mw.silicon_oxide,\n",
    "                h_min=-1.0,\n",
    "                h_max=t_soi + t_ox,\n",
    "                buffer=t_ox/2,\n",
    "                mesh_order=2,\n",
    "            ),\n",
    "        ],\n",
    "        (2, 0): [\n",
    "            mw.GdsExtrusionRule(\n",
    "                material=mw.silicon,\n",
    "                h_min=0.0,\n",
    "                h_max=0.0 + t_slab,\n",
    "                mesh_order=1,\n",
    "            ),\n",
    "            mw.GdsExtrusionRule(\n",
    "                material=mw.silicon_oxide,\n",
    "                h_min=-1.0,\n",
    "                h_max=t_slab + t_ox,\n",
    "                mesh_order=2,\n",
    "            ),\n",
    "        ],\n",
    "    }\n",
    "    return extrusions"
   ]
  },
  {
   "cell_type": "markdown",
   "id": "d21104bc-4b87-40d3-acd2-c1dfe8c0b975",
   "metadata": {
    "papermill": {
     "duration": 0.008914,
     "end_time": "2022-11-10T19:21:02.105608",
     "exception": false,
     "start_time": "2022-11-10T19:21:02.096694",
     "status": "completed"
    },
    "tags": []
   },
   "source": [
    "## Extrude GDS"
   ]
  },
  {
   "cell_type": "code",
   "execution_count": null,
   "id": "630cda0e-4e0a-40c0-a054-a5197c8b02a8",
   "metadata": {
    "papermill": {
     "duration": 0.102541,
     "end_time": "2022-11-10T19:21:02.217079",
     "exception": false,
     "start_time": "2022-11-10T19:21:02.114538",
     "status": "completed"
    },
    "tags": []
   },
   "outputs": [],
   "source": [
    "extrusion_rules = example_extrusions()\n",
    "structs = mw.extrude_gds(taper, extrusion_rules)\n",
    "mw.visualize(structs, scale=(1, 1, 0.2))"
   ]
  },
  {
   "cell_type": "markdown",
   "id": "e3186752-4dc0-4a1d-96e7-5e3455ac7111",
   "metadata": {
    "papermill": {
     "duration": 0.018887,
     "end_time": "2022-11-10T19:21:02.253355",
     "exception": false,
     "start_time": "2022-11-10T19:21:02.234468",
     "status": "completed"
    },
    "tags": []
   },
   "source": [
    "## Divide into Cells"
   ]
  },
  {
   "cell_type": "code",
   "execution_count": null,
   "id": "0c45b041-80d2-48ba-b6e5-871440d1c206",
   "metadata": {
    "papermill": {
     "duration": 0.22812,
     "end_time": "2022-11-10T19:21:02.499276",
     "exception": false,
     "start_time": "2022-11-10T19:21:02.271156",
     "status": "completed"
    },
    "tags": []
   },
   "outputs": [],
   "source": [
    "w_sim = 1.0\n",
    "h_sim = 1.0\n",
    "mesh = 100\n",
    "num_cells = 10\n",
    "taper_length = np.diff(taper.bbox[:, 0]).item()\n",
    "Ls = [taper_length / num_cells for _ in range(num_cells)]\n",
    "print(Ls)\n",
    "\n",
    "cells = mw.create_cells(\n",
    "    structures=structs,  \n",
    "    mesh=mw.Mesh2d(\n",
    "        x=np.linspace(-0.75, 0.75, mesh + 1),\n",
    "        y=np.linspace(-0.3, 0.5, mesh + 1),\n",
    "    ),\n",
    "    Ls=Ls,\n",
    ")\n",
    "\n",
    "mw.visualize(cells[0])\n",
    "mw.visualize(cells[-1])"
   ]
  },
  {
   "cell_type": "markdown",
   "id": "1dc2c50b-8c78-4003-88d1-9ac3e679d3a0",
   "metadata": {
    "papermill": {
     "duration": 0.020328,
     "end_time": "2022-11-10T19:21:02.537949",
     "exception": false,
     "start_time": "2022-11-10T19:21:02.517621",
     "status": "completed"
    },
    "tags": []
   },
   "source": [
    "## Find Cross Sections"
   ]
  },
  {
   "cell_type": "code",
   "execution_count": null,
   "id": "a9524991-6242-4e5e-bad5-277b42aaed69",
   "metadata": {
    "papermill": {
     "duration": 0.568628,
     "end_time": "2022-11-10T19:21:03.129099",
     "exception": false,
     "start_time": "2022-11-10T19:21:02.560471",
     "status": "completed"
    },
    "tags": []
   },
   "outputs": [],
   "source": [
    "env = mw.Environment(wl=1.55, T=25.0)\n",
    "css = [mw.CrossSection(cell=cell, env=env) for cell in cells]\n",
    "\n",
    "mw.visualize(css[0])\n",
    "mw.visualize(css[-1])"
   ]
  },
  {
   "cell_type": "code",
   "execution_count": null,
   "id": "6f215456-dad9-4072-9058-572b1a1f3844",
   "metadata": {
    "papermill": {
     "duration": 1.521637,
     "end_time": "2022-11-10T19:21:04.669992",
     "exception": false,
     "start_time": "2022-11-10T19:21:03.148355",
     "status": "completed"
    },
    "tags": []
   },
   "outputs": [],
   "source": [
    "num_modes=4\n",
    "modes = mw.compute_modes(css[0], num_modes=num_modes)\n",
    "mw.visualize(modes[0])"
   ]
  },
  {
   "cell_type": "markdown",
   "id": "b5e615d7-32f5-40cd-af29-a2147a402ce1",
   "metadata": {
    "papermill": {
     "duration": 0.02023,
     "end_time": "2022-11-10T19:21:04.710363",
     "exception": false,
     "start_time": "2022-11-10T19:21:04.690133",
     "status": "completed"
    },
    "tags": []
   },
   "source": [
    "## Compute Modes (FDE)"
   ]
  },
  {
   "cell_type": "code",
   "execution_count": null,
   "id": "5bcc243c-ac0a-4880-b626-63318b84185c",
   "metadata": {
    "papermill": {
     "duration": 18.148525,
     "end_time": "2022-11-10T19:21:22.877946",
     "exception": false,
     "start_time": "2022-11-10T19:21:04.729421",
     "status": "completed"
    },
    "tags": []
   },
   "outputs": [],
   "source": [
    "%%time\n",
    "num_modes = 4\n",
    "modes = [mw.compute_modes(cs, num_modes=num_modes) for cs in css]"
   ]
  },
  {
   "cell_type": "code",
   "execution_count": null,
   "id": "64cc3f4f-686d-4081-9910-81f4a9925093",
   "metadata": {
    "papermill": {
     "duration": 0.588648,
     "end_time": "2022-11-10T19:21:23.513030",
     "exception": false,
     "start_time": "2022-11-10T19:21:22.924382",
     "status": "completed"
    },
    "tags": []
   },
   "outputs": [],
   "source": [
    "mw.visualize(modes[0][0], fields=[\"Hx\"])\n",
    "mw.visualize(modes[-1][1], fields=[\"Hx\"])"
   ]
  },
  {
   "cell_type": "markdown",
   "id": "9f7a5773-301e-43aa-8a77-31d637db8455",
   "metadata": {
    "papermill": {
     "duration": 0.027079,
     "end_time": "2022-11-10T19:21:23.567006",
     "exception": false,
     "start_time": "2022-11-10T19:21:23.539927",
     "status": "completed"
    },
    "tags": []
   },
   "source": [
    "## Calculate S-matrix (EME)"
   ]
  },
  {
   "cell_type": "code",
   "execution_count": null,
   "id": "ab85732c-a4fa-40b6-829e-3900ef0b6ce9",
   "metadata": {
    "papermill": {
     "duration": 1.284271,
     "end_time": "2022-11-10T19:21:24.875525",
     "exception": false,
     "start_time": "2022-11-10T19:21:23.591254",
     "status": "completed"
    },
    "tags": []
   },
   "outputs": [],
   "source": [
    "S, port_map = mw.compute_s_matrix(modes)\n",
    "print(port_map)\n",
    "mw.visualize(S)"
   ]
  }
 ],
 "metadata": {
  "kernelspec": {
   "display_name": "cat",
   "language": "python",
   "name": "cat"
  },
  "language_info": {
   "codemirror_mode": {
    "name": "ipython",
    "version": 3
   },
   "file_extension": ".py",
   "mimetype": "text/x-python",
   "name": "python",
   "nbconvert_exporter": "python",
   "pygments_lexer": "ipython3",
   "version": "3.10.10"
  },
  "papermill": {
   "default_parameters": {},
   "duration": 26.842208,
   "end_time": "2022-11-10T19:21:25.735531",
   "environment_variables": {},
   "exception": null,
   "input_path": "examples/01_gds_taper.ipynb",
   "output_path": "examples/01_gds_taper.ipynb",
   "parameters": {},
   "start_time": "2022-11-10T19:20:58.893323",
   "version": "2.3.4"
  },
  "vscode": {
   "interpreter": {
    "hash": "0dd118673efdbefb7257b2235dc4c000959f664fa5386b3652213e4a49c44469"
   }
  }
 },
 "nbformat": 4,
 "nbformat_minor": 5
}
