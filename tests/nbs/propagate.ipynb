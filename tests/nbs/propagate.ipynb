{
 "cells": [
  {
   "cell_type": "code",
   "execution_count": 3,
   "metadata": {},
   "outputs": [],
   "source": [
    "import meow as mw\n",
    "import numpy as np\n",
    "import matplotlib.pyplot as plt"
   ]
  },
  {
   "attachments": {},
   "cell_type": "markdown",
   "metadata": {},
   "source": [
    "## Preparation\n",
    "let's perform a mode simulation"
   ]
  },
  {
   "cell_type": "code",
   "execution_count": 4,
   "metadata": {},
   "outputs": [],
   "source": [
    "length = 10.0\n",
    "box = mw.Box(\n",
    "    x_min=-0.22,\n",
    "    x_max=0.22,\n",
    "    y_min=0,\n",
    "    y_max=0.22,\n",
    "    z_min=0.0,\n",
    "    z_max=length,\n",
    ")"
   ]
  },
  {
   "cell_type": "code",
   "execution_count": 5,
   "metadata": {},
   "outputs": [],
   "source": [
    "struct = mw.Structure(material=mw.silicon, geometry=box)"
   ]
  },
  {
   "cell_type": "code",
   "execution_count": 6,
   "metadata": {},
   "outputs": [],
   "source": [
    "env = mw.Environment(wl=1.55, T=25.0)"
   ]
  },
  {
   "cell_type": "code",
   "execution_count": 7,
   "metadata": {},
   "outputs": [],
   "source": [
    "cells = mw.create_cells(\n",
    "    structures=[struct],\n",
    "    mesh=mw.Mesh2d(\n",
    "        x = np.linspace(-1, 1, 101),\n",
    "        y = np.linspace(-1, 1, 101),\n",
    "    ),\n",
    "    Ls = [length/3]*3\n",
    ")\n",
    "css = [mw.CrossSection(cell=cell, env=env) for cell in cells]"
   ]
  },
  {
   "cell_type": "code",
   "execution_count": 8,
   "metadata": {},
   "outputs": [],
   "source": [
    "modes = [mw.compute_modes(cs, num_modes=2) for cs in css]"
   ]
  },
  {
   "cell_type": "code",
   "execution_count": 33,
   "metadata": {},
   "outputs": [],
   "source": [
    "from meow.eme import compute_interface_s_matrices, compute_propagation_s_matrices\n",
    "from meow.eme import compute_interface_s_matrix\n",
    "from meow.eme.sax import _get_netlist\n",
    "import sax\n",
    "from sax.backends import circuit_backends\n",
    "evaluate_circuit = circuit_backends[\"klu\"]"
   ]
  },
  {
   "cell_type": "code",
   "execution_count": 38,
   "metadata": {},
   "outputs": [],
   "source": [
    "propagations = compute_propagation_s_matrices(modes)\n",
    "interfaces = compute_interface_s_matrices(\n",
    "    modes, enforce_reciprocity=False,\n",
    ")\n",
    "\n",
    "unities = [compute_interface_s_matrix(mode, mode, enforce_reciprocity=False) for mode in modes]\n"
   ]
  },
  {
   "attachments": {},
   "cell_type": "markdown",
   "metadata": {},
   "source": [
    "## TODO get rid of unities to increase efficiency"
   ]
  },
  {
   "cell_type": "code",
   "execution_count": 73,
   "metadata": {},
   "outputs": [],
   "source": [
    "def _connect_two(l, r):\n",
    "    \"\"\"l -> left, r -> right\"\"\"\n",
    "    #TODO there must be an easier way to do this...\n",
    "    s_l, p_l = sax.sdense(l)\n",
    "    s_r, p_r = sax.sdense(r)\n",
    "    instances = {\"l\": l, \"r\": r}\n",
    "    p_lr = [p for p in p_l.keys() if \"right\" in p] #right ports of left\n",
    "    p_rl = [p for p in p_r.keys() if \"left\" in p] #left ports of right\n",
    "\n",
    "    p_ll = [p for p in p_l.keys() if \"left\" in p] #left ports of left\n",
    "    p_rr = [p for p in p_r.keys() if \"right\" in p] #right ports of right\n",
    "\n",
    "    p_lr.sort()\n",
    "    p_rl.sort()\n",
    "    connections = {f\"l,{pl}\": f\"r,{pr}\" for pl,pr in zip(p_lr, p_rl)}\n",
    "    ports = {\n",
    "        **{p: f\"l,{p}\" for p in p_ll},\n",
    "        **{p: f\"r,{p}\" for p in p_rr}\n",
    "    }\n",
    "    net = dict(\n",
    "        instances = instances,\n",
    "        connections = connections,\n",
    "        ports = ports\n",
    "    )\n",
    "    return evaluate_circuit(**net)"
   ]
  },
  {
   "cell_type": "code",
   "execution_count": 86,
   "metadata": {},
   "outputs": [],
   "source": [
    "def pi_pairs(propagations, interfaces, unities):\n",
    "    \"\"\"generates the S-matrices of cells: a combination of propagation and interface matrix\"\"\"\n",
    "    S = []\n",
    "    for i in range(len(propagations)):\n",
    "        p = propagations[f\"p_{i}\"]\n",
    "        if i == len(interfaces):\n",
    "            S.append(p)\n",
    "        else:\n",
    "            c = interfaces[f\"i_{i}_{i+1}\"]\n",
    "            S.append(_connect_two(p, c))\n",
    "    \n",
    "    return S"
   ]
  },
  {
   "cell_type": "code",
   "execution_count": 87,
   "metadata": {},
   "outputs": [],
   "source": [
    "pairs = pi_pairs(propagations, interfaces, unities)"
   ]
  },
  {
   "cell_type": "code",
   "execution_count": 88,
   "metadata": {},
   "outputs": [
    {
     "data": {
      "text/plain": [
       "[(Array([[ 7.14851583e-22+4.92011923e-22j,  9.04807018e-11-3.31219244e-11j,\n",
       "           9.54920193e-01+2.96862637e-01j, -8.60058235e-12-2.67372245e-12j],\n",
       "         [-1.04431652e-10+3.82288953e-11j,  2.63447864e-22-9.66346452e-22j,\n",
       "           7.15731899e-12-5.46728267e-12j,  7.94677102e-01-6.07032375e-01j],\n",
       "         [ 9.54920193e-01+2.96862637e-01j, -7.15733724e-12+5.46729661e-12j,\n",
       "           8.67806729e-22-1.76601327e-44j,  9.63525780e-11+1.17997879e-26j],\n",
       "         [ 8.60056042e-12+2.67371564e-12j,  7.94677102e-01-6.07032375e-01j,\n",
       "          -1.11208895e-10+1.36191614e-26j,  1.00161382e-21-8.11315872e-43j]],      dtype=complex128),\n",
       "  {'left@0': 0, 'left@1': 1, 'right@0': 2, 'right@1': 3}),\n",
       " (Array([[ 2.83518070e-21+1.76853157e-21j,  1.64061458e-10-9.53287699e-11j,\n",
       "           8.23745149e-01+5.66960254e-01j, -1.58768634e-11-2.01029720e-12j],\n",
       "         [-1.89357606e-10+1.10027229e-10j, -7.57843898e-22-3.33739914e-21j,\n",
       "           1.08266403e-11-1.17855267e-11j,  2.63023392e-01-9.64789456e-01j],\n",
       "         [ 8.23745149e-01+5.66960254e-01j, -1.08266679e-11+1.17855568e-11j,\n",
       "           3.33815346e-21-1.50615470e-22j,  1.86833280e-10-3.31219244e-11j],\n",
       "         [ 1.58768229e-11+2.01029208e-12j,  2.63023392e-01-9.64789456e-01j,\n",
       "          -2.15640547e-10+3.82288953e-11j,  3.02055683e-21-1.60897384e-21j]],      dtype=complex128),\n",
       "  {'left@0': 0, 'left@1': 1, 'right@0': 2, 'right@1': 3}),\n",
       " (Array([[ 2.83518070e-21+1.76853157e-21j,  1.64061458e-10-9.53287699e-11j,\n",
       "           6.18301560e-01+7.85940952e-01j, -1.38372953e-11+8.04023294e-12j],\n",
       "         [-1.89357606e-10+1.10027229e-10j, -7.57843898e-22-3.33739914e-21j,\n",
       "           1.38372600e-11-8.04021244e-12j, -3.76639768e-01-9.26359803e-01j],\n",
       "         [ 6.18301560e-01+7.85940952e-01j, -1.38372953e-11+8.04023294e-12j,\n",
       "           2.83518070e-21+1.76853157e-21j,  1.64061458e-10-9.53287699e-11j],\n",
       "         [ 1.38372600e-11-8.04021244e-12j, -3.76639768e-01-9.26359803e-01j,\n",
       "          -1.89357606e-10+1.10027229e-10j, -7.57843898e-22-3.33739914e-21j]],      dtype=complex128),\n",
       "  {'left@0': 0, 'left@1': 1, 'right@0': 2, 'right@1': 3})]"
      ]
     },
     "execution_count": 88,
     "metadata": {},
     "output_type": "execute_result"
    }
   ],
   "source": [
    "def l2r_matrices(pairs):\n",
    "    Ss=[pairs[0]]\n",
    "\n",
    "    for p in pairs[1:]:\n",
    "        Ss.append(_connect_two(Ss[-1], p))\n",
    "    \n",
    "    return Ss\n",
    "    \n",
    "l2r_matrices(pairs)"
   ]
  },
  {
   "cell_type": "code",
   "execution_count": 97,
   "metadata": {},
   "outputs": [
    {
     "data": {
      "text/plain": [
       "[{('left@0', 'right@0'): 9.549e-01+2.969e-01j,\n",
       "  ('left@1', 'right@1'): 7.947e-01-6.070e-01j,\n",
       "  ('right@0', 'left@0'): 9.549e-01+2.969e-01j,\n",
       "  ('right@1', 'left@1'): 7.947e-01-6.070e-01j},\n",
       " (Array([[0.        +0.j        , 0.        +0.j        ,\n",
       "          0.82374515+0.56696025j, 0.        +0.j        ],\n",
       "         [0.        +0.j        , 0.        +0.j        ,\n",
       "          0.        +0.j        , 0.26302339-0.96478946j],\n",
       "         [0.82374515+0.56696025j, 0.        +0.j        ,\n",
       "          0.        +0.j        , 0.        +0.j        ],\n",
       "         [0.        +0.j        , 0.26302339-0.96478946j,\n",
       "          0.        +0.j        , 0.        +0.j        ]],      dtype=complex128),\n",
       "  {'left@0': 0, 'left@1': 1, 'right@0': 2, 'right@1': 3}),\n",
       " (Array([[ 7.14851583e-22+4.92011923e-22j,  9.04807018e-11-3.31219244e-11j,\n",
       "           6.18301560e-01+7.85940952e-01j, -4.84173358e-12+7.59449962e-12j],\n",
       "         [-1.04431652e-10+3.82288953e-11j,  2.63447864e-22-9.66346452e-22j,\n",
       "           8.99553877e-12-4.45732182e-13j, -3.76639768e-01-9.26359803e-01j],\n",
       "         [ 6.18301560e-01+7.85940952e-01j, -8.99556170e-12+4.45733319e-13j,\n",
       "           3.09904319e-22+8.10584870e-22j,  7.35807560e-11-6.22068455e-11j],\n",
       "         [ 4.84172123e-12-7.59448026e-12j, -3.76639768e-01-9.26359803e-01j,\n",
       "          -8.49259537e-11+7.17983338e-11j, -8.63027917e-22-5.08343443e-22j]],      dtype=complex128),\n",
       "  {'left@0': 0, 'left@1': 1, 'right@0': 2, 'right@1': 3}),\n",
       " (Array([[ 2.83518070e-21+1.76853157e-21j,  1.64061458e-10-9.53287699e-11j,\n",
       "           3.57112141e-01+9.34061517e-01j, -6.11550001e-12+1.47890752e-11j],\n",
       "         [-1.89357606e-10+1.10027229e-10j, -7.57843898e-22-3.33739914e-21j,\n",
       "           1.56003177e-11-3.56999572e-12j, -8.61637390e-01-5.07524391e-01j],\n",
       "         [ 3.57112141e-01+9.34061517e-01j, -1.56003574e-11+3.57000482e-12j,\n",
       "           1.33277924e-21+3.06425407e-21j,  1.21293314e-10-1.45916648e-10j],\n",
       "         [ 6.11548442e-12-1.47890375e-11j, -8.61637390e-01-5.07524391e-01j,\n",
       "          -1.39995169e-10+1.68415102e-10j, -3.41921818e-21-1.46654240e-22j]],      dtype=complex128),\n",
       "  {'left@0': 0, 'left@1': 1, 'right@0': 2, 'right@1': 3})]"
      ]
     },
     "execution_count": 97,
     "metadata": {},
     "output_type": "execute_result"
    }
   ],
   "source": [
    "def r2l_matrices(pairs):\n",
    "    Ss=[pairs[-1]]\n",
    "\n",
    "    for p in pairs[-1::-1]:\n",
    "        Ss.append(_connect_two(p, Ss[-1]))\n",
    "    \n",
    "    return Ss\n",
    "\n",
    "r2l_matrices(pairs)"
   ]
  },
  {
   "cell_type": "code",
   "execution_count": 91,
   "metadata": {},
   "outputs": [],
   "source": [
    "l = list(range(5))"
   ]
  },
  {
   "cell_type": "code",
   "execution_count": 96,
   "metadata": {},
   "outputs": [
    {
     "data": {
      "text/plain": [
       "[4, 3, 2, 1, 0]"
      ]
     },
     "execution_count": 96,
     "metadata": {},
     "output_type": "execute_result"
    }
   ],
   "source": [
    "l[-1::-1]"
   ]
  },
  {
   "cell_type": "code",
   "execution_count": null,
   "metadata": {},
   "outputs": [],
   "source": []
  }
 ],
 "metadata": {
  "kernelspec": {
   "display_name": "Python 3",
   "language": "python",
   "name": "python3"
  },
  "language_info": {
   "codemirror_mode": {
    "name": "ipython",
    "version": 3
   },
   "file_extension": ".py",
   "mimetype": "text/x-python",
   "name": "python",
   "nbconvert_exporter": "python",
   "pygments_lexer": "ipython3",
   "version": "3.10.10"
  },
  "vscode": {
   "interpreter": {
    "hash": "8cb1a8d1c3ece4eb1e4592eaec04207f7b73f2abcb1f254721941c0090e83ef8"
   }
  }
 },
 "nbformat": 4,
 "nbformat_minor": 2
}
