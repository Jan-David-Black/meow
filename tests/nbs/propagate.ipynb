{
 "cells": [
  {
   "cell_type": "code",
   "execution_count": 1,
   "metadata": {},
   "outputs": [],
   "source": [
    "import meow as mw\n",
    "import jax.numpy as np\n",
    "import matplotlib.pyplot as plt"
   ]
  },
  {
   "attachments": {},
   "cell_type": "markdown",
   "metadata": {},
   "source": [
    "## Preparation\n",
    "let's perform a mode simulation"
   ]
  },
  {
   "cell_type": "code",
   "execution_count": 2,
   "metadata": {},
   "outputs": [],
   "source": [
    "length = 10.0\n",
    "box = mw.Box(\n",
    "    x_min=-0.22,\n",
    "    x_max=0.22,\n",
    "    y_min=0,\n",
    "    y_max=0.22,\n",
    "    z_min=0.0,\n",
    "    z_max=length,\n",
    ")"
   ]
  },
  {
   "cell_type": "code",
   "execution_count": 3,
   "metadata": {},
   "outputs": [],
   "source": [
    "struct = mw.Structure(material=mw.silicon, geometry=box)"
   ]
  },
  {
   "cell_type": "code",
   "execution_count": 4,
   "metadata": {},
   "outputs": [],
   "source": [
    "env = mw.Environment(wl=1.55, T=25.0)"
   ]
  },
  {
   "cell_type": "code",
   "execution_count": 5,
   "metadata": {},
   "outputs": [],
   "source": [
    "cells = mw.create_cells(\n",
    "    structures=[struct],\n",
    "    mesh=mw.Mesh2d(\n",
    "        x = np.linspace(-1, 1, 101),\n",
    "        y = np.linspace(-1, 1, 101),\n",
    "    ),\n",
    "    Ls = [length/3]*3\n",
    ")\n",
    "css = [mw.CrossSection(cell=cell, env=env) for cell in cells]"
   ]
  },
  {
   "cell_type": "code",
   "execution_count": 6,
   "metadata": {},
   "outputs": [],
   "source": [
    "modes = [mw.compute_modes(cs, num_modes=2) for cs in css]"
   ]
  },
  {
   "cell_type": "code",
   "execution_count": 63,
   "metadata": {},
   "outputs": [],
   "source": [
    "modes_ = modes.copy()"
   ]
  },
  {
   "cell_type": "code",
   "execution_count": 153,
   "metadata": {},
   "outputs": [],
   "source": [
    "modes = modes_.copy()"
   ]
  },
  {
   "cell_type": "code",
   "execution_count": 175,
   "metadata": {},
   "outputs": [],
   "source": [
    "modes[1] = [m*complex(np.exp(1j)) for m in modes[1]]"
   ]
  },
  {
   "cell_type": "code",
   "execution_count": 176,
   "metadata": {},
   "outputs": [],
   "source": [
    "from meow.eme import compute_interface_s_matrices, compute_propagation_s_matrices\n",
    "from meow.eme import compute_interface_s_matrix\n",
    "from meow.eme.sax import _get_netlist\n",
    "import sax\n",
    "from sax.backends import circuit_backends\n",
    "evaluate_circuit = circuit_backends[\"klu\"]"
   ]
  },
  {
   "cell_type": "code",
   "execution_count": 177,
   "metadata": {},
   "outputs": [],
   "source": [
    "propagations = compute_propagation_s_matrices(modes)\n",
    "interfaces = compute_interface_s_matrices(\n",
    "    modes, enforce_reciprocity=False,\n",
    ")\n",
    "\n",
    "unities = [compute_interface_s_matrix(mode, mode, enforce_reciprocity=False) for mode in modes]\n"
   ]
  },
  {
   "attachments": {},
   "cell_type": "markdown",
   "metadata": {},
   "source": [
    "## TODO get rid of unities to increase efficiency"
   ]
  },
  {
   "cell_type": "code",
   "execution_count": 178,
   "metadata": {},
   "outputs": [],
   "source": [
    "def _connect_two(l, r):\n",
    "    \"\"\"l -> left, r -> right\"\"\"\n",
    "    #TODO there must be an easier way to do this...\n",
    "    s_l, p_l = sax.sdense(l)\n",
    "    s_r, p_r = sax.sdense(r)\n",
    "    instances = {\"l\": l, \"r\": r}\n",
    "    p_lr = [p for p in p_l.keys() if \"right\" in p] #right ports of left\n",
    "    p_rl = [p for p in p_r.keys() if \"left\" in p] #left ports of right\n",
    "\n",
    "    p_ll = [p for p in p_l.keys() if \"left\" in p] #left ports of left\n",
    "    p_rr = [p for p in p_r.keys() if \"right\" in p] #right ports of right\n",
    "\n",
    "    p_lr.sort()\n",
    "    p_rl.sort()\n",
    "    connections = {f\"l,{pl}\": f\"r,{pr}\" for pl,pr in zip(p_lr, p_rl)}\n",
    "    ports = {\n",
    "        **{p: f\"l,{p}\" for p in p_ll},\n",
    "        **{p: f\"r,{p}\" for p in p_rr}\n",
    "    }\n",
    "    net = dict(\n",
    "        instances = instances,\n",
    "        connections = connections,\n",
    "        ports = ports\n",
    "    )\n",
    "    return evaluate_circuit(**net)"
   ]
  },
  {
   "cell_type": "code",
   "execution_count": 179,
   "metadata": {},
   "outputs": [],
   "source": [
    "def pi_pairs(propagations, interfaces, unities):\n",
    "    \"\"\"generates the S-matrices of cells: a combination of propagation and interface matrix\"\"\"\n",
    "    S = []\n",
    "    for i in range(len(propagations)):\n",
    "        p = propagations[f\"p_{i}\"]\n",
    "        if i == len(interfaces):\n",
    "            S.append(p)\n",
    "        else:\n",
    "            c = interfaces[f\"i_{i}_{i+1}\"]\n",
    "            S.append(_connect_two(p, c))\n",
    "    \n",
    "    return S"
   ]
  },
  {
   "cell_type": "code",
   "execution_count": 180,
   "metadata": {},
   "outputs": [],
   "source": [
    "pairs = pi_pairs(propagations, interfaces, unities)"
   ]
  },
  {
   "cell_type": "code",
   "execution_count": 181,
   "metadata": {},
   "outputs": [],
   "source": [
    "def l2r_matrices(pairs):\n",
    "    Ss=[pairs[0]]\n",
    "\n",
    "    for p in pairs[1:]:\n",
    "        Ss.append(_connect_two(Ss[-1], p))\n",
    "    \n",
    "    return Ss\n",
    "    \n",
    "l2rs = l2r_matrices(pairs)"
   ]
  },
  {
   "cell_type": "code",
   "execution_count": 182,
   "metadata": {},
   "outputs": [],
   "source": [
    "def r2l_matrices(pairs):\n",
    "    Ss=[pairs[-1]]\n",
    "\n",
    "    for p in pairs[-1::-1]:\n",
    "        Ss.append(_connect_two(p, Ss[-1]))\n",
    "    \n",
    "    return Ss[::-1]\n",
    "\n",
    "r2ls = r2l_matrices(pairs)"
   ]
  },
  {
   "attachments": {},
   "cell_type": "markdown",
   "metadata": {},
   "source": [
    "let's assume excitation only from the left"
   ]
  },
  {
   "cell_type": "code",
   "execution_count": 183,
   "metadata": {},
   "outputs": [],
   "source": [
    "excitation_l = np.zeros(len(modes[0]))\n",
    "#excitation_l = excitation_l.at[1].set(1)\n",
    "excitation_r = np.zeros(len(modes[-1]))\n",
    "excitation_r = excitation_l.at[1].set(1)\n",
    "\n",
    "amplitudes = []"
   ]
  },
  {
   "cell_type": "code",
   "execution_count": 184,
   "metadata": {},
   "outputs": [
    {
     "data": {
      "text/plain": [
       "(Array([[ 7.14722339e-22+4.91917334e-22j,  9.04760529e-11-3.31202218e-11j,\n",
       "          2.66144286e-01+9.63933202e-01j, -2.39664491e-12-8.68031401e-12j],\n",
       "        [-1.04426285e-10+3.82269309e-11j, -5.79525162e-17+5.22647081e-17j,\n",
       "          8.46643947e-12+3.06828624e-12j,  9.40166001e-01+3.40716732e-01j],\n",
       "        [ 7.65746878e-01-6.43142067e-01j,  7.33328049e-13+8.97523281e-12j,\n",
       "          8.67636872e-22+3.93156399e-27j,  9.63476265e-11-1.37404749e-19j],\n",
       "        [ 6.89580775e-12-5.79177327e-12j, -8.14342597e-02-9.96678715e-01j,\n",
       "         -1.11203181e-10-8.76536237e-19j,  6.56693095e-17+4.21651358e-17j]],      dtype=complex128),\n",
       " {'left@0': 0, 'left@1': 1, 'right@0': 2, 'right@1': 3})"
      ]
     },
     "execution_count": 184,
     "metadata": {},
     "output_type": "execute_result"
    }
   ],
   "source": [
    "l2rs[0]"
   ]
  },
  {
   "cell_type": "code",
   "execution_count": 185,
   "metadata": {},
   "outputs": [],
   "source": [
    "def split_square_matrix(matrix, idx):\n",
    "    if matrix.shape[0] != matrix.shape[1]:\n",
    "        raise ValueError(\"Matrix has to be square\")\n",
    "    return [matrix[:idx,:idx], matrix[:idx,idx:]], [matrix[idx:,:idx], matrix[idx:,idx:]]\n",
    "\n",
    "    # Attention! I am not sure the indexing is correct here!! Testing needed"
   ]
  },
  {
   "cell_type": "code",
   "execution_count": 186,
   "metadata": {},
   "outputs": [],
   "source": [
    "forwards=[]\n",
    "backwards=[]\n",
    "for l2r, r2l in zip(l2rs, r2ls):\n",
    "    s_l2r = l2r[0]\n",
    "    s_r2l = r2l[0]\n",
    "\n",
    "    m = len([k for k in l2r[1].keys() if \"right\" in k])\n",
    "    n = s_l2r.shape[0] - m\n",
    "    l = s_r2l.shape[0] - m\n",
    "    [u11, u21],[u12, u22] = split_square_matrix(s_l2r, n)\n",
    "    [v11, v21],[v12, v22] = split_square_matrix(s_r2l, m)\n",
    "\n",
    "    RHS = u21@excitation_l + u22@v12@excitation_r\n",
    "    LHS = np.diag(np.ones(m)) - u22@v11\n",
    "    forward = np.linalg.solve(LHS, RHS)\n",
    "    backward = v21@excitation_r + v11@forward # Attention v21 was v12\n",
    "\n",
    "    forwards.append(forward)\n",
    "    backwards.append(backward)\n",
    "\n"
   ]
  },
  {
   "cell_type": "code",
   "execution_count": 187,
   "metadata": {},
   "outputs": [
    {
     "data": {
      "text/plain": [
       "[Array([-8.30167175e-11-4.88987703e-11j, -3.51815631e-17-6.96602308e-17j],      dtype=complex128),\n",
       " Array([ 8.05374928e-11-1.71795659e-10j, -8.16344206e-17-4.80876607e-17j],      dtype=complex128),\n",
       " Array([-4.88176816e-11-1.83349039e-10j, -4.12813699e-17+8.52807890e-17j],      dtype=complex128)]"
      ]
     },
     "execution_count": 187,
     "metadata": {},
     "output_type": "execute_result"
    }
   ],
   "source": [
    "forwards\n"
   ]
  },
  {
   "cell_type": "code",
   "execution_count": 188,
   "metadata": {},
   "outputs": [
    {
     "data": {
      "text/plain": [
       "[Array([-6.11452454e-12+1.47866401e-11j, -8.61637390e-01-5.07524391e-01j],      dtype=complex128),\n",
       " Array([ 3.77394178e-12+8.17618111e-12j, -9.83004231e-01-1.83582901e-01j],      dtype=complex128),\n",
       " Array([0.        +0.j        , 0.26302339-0.96478946j], dtype=complex128)]"
      ]
     },
     "execution_count": 188,
     "metadata": {},
     "output_type": "execute_result"
    }
   ],
   "source": [
    "backwards"
   ]
  },
  {
   "cell_type": "code",
   "execution_count": 189,
   "metadata": {},
   "outputs": [],
   "source": [
    "z = np.linspace(0, length, 200)"
   ]
  },
  {
   "attachments": {},
   "cell_type": "markdown",
   "metadata": {},
   "source": [
    "Exemplarily getting the ex component"
   ]
  },
  {
   "cell_type": "code",
   "execution_count": 190,
   "metadata": {},
   "outputs": [
    {
     "data": {
      "text/plain": [
       "Text(0, 0.5, 'x in um')"
      ]
     },
     "execution_count": 190,
     "metadata": {},
     "output_type": "execute_result"
    },
    {
     "data": {
      "image/png": "[encoded data removed]",
      "text/plain": [
       "<Figure size 640x480 with 1 Axes>"
      ]
     },
     "metadata": {},
     "output_type": "display_data"
    }
   ],
   "source": [
    "l = 0\n",
    "y = 0.5\n",
    "\n",
    "mode_set = modes[0]\n",
    "mesh_y = mode_set[0].cell.mesh.y\n",
    "mesh_x = mode_set[0].cell.mesh.x\n",
    "i_y = np.argmin(np.abs(mesh_y-y))\n",
    "\n",
    "for mode_set, forward, backward in zip(modes, forwards, backwards):\n",
    "    Ex = 0\n",
    "    cell = mode_set[0].cell\n",
    "    z_ = z[np.logical_and(z>=cell.z_min, z<cell.z_max)]\n",
    "    z_local = z_[:-1] + np.diff(z_)/2 - cell.z_min\n",
    "    for mode, f, b in zip(mode_set, forward, backward):\n",
    "        E_slice = mode.Ex[:,i_y]\n",
    "        #plt.plot(E_slice)\n",
    "        Ex += np.outer(f*E_slice.T, np.exp(\n",
    "            2j * np.pi * mode.neff / mode.env.wl * z_local\n",
    "        ))\n",
    "\n",
    "        Ex += np.outer(b*E_slice.T, np.exp(\n",
    "            -2j * np.pi * mode.neff / mode.env.wl * z_local\n",
    "        ))\n",
    "        \n",
    "    X,Y = np.meshgrid(z_, mesh_x)\n",
    "    plt.pcolormesh(X,Y,Ex.real)\n",
    "plt.xlabel(\"z in um\")\n",
    "plt.ylabel(\"x in um\")"
   ]
  },
  {
   "cell_type": "code",
   "execution_count": null,
   "metadata": {},
   "outputs": [],
   "source": []
  },
  {
   "cell_type": "code",
   "execution_count": null,
   "metadata": {},
   "outputs": [],
   "source": []
  }
 ],
 "metadata": {
  "kernelspec": {
   "display_name": "Python 3",
   "language": "python",
   "name": "python3"
  },
  "language_info": {
   "codemirror_mode": {
    "name": "ipython",
    "version": 3
   },
   "file_extension": ".py",
   "mimetype": "text/x-python",
   "name": "python",
   "nbconvert_exporter": "python",
   "pygments_lexer": "ipython3",
   "version": "3.10.10"
  },
  "vscode": {
   "interpreter": {
    "hash": "8cb1a8d1c3ece4eb1e4592eaec04207f7b73f2abcb1f254721941c0090e83ef8"
   }
  }
 },
 "nbformat": 4,
 "nbformat_minor": 2
}
