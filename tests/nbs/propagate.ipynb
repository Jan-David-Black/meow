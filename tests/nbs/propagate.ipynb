{
 "cells": [
  {
   "cell_type": "code",
   "execution_count": null,
   "metadata": {},
   "outputs": [],
   "source": [
    "import meow as mw\n",
    "import jax.numpy as np\n",
    "import matplotlib.pyplot as plt"
   ]
  },
  {
   "attachments": {},
   "cell_type": "markdown",
   "metadata": {},
   "source": [
    "## Preparation\n",
    "let's perform a mode simulation"
   ]
  },
  {
   "cell_type": "code",
   "execution_count": null,
   "metadata": {},
   "outputs": [],
   "source": [
    "length = 10.0\n",
    "box = mw.Box(\n",
    "    x_min=-0.22,\n",
    "    x_max=0.22,\n",
    "    y_min=0,\n",
    "    y_max=0.22,\n",
    "    z_min=0.0,\n",
    "    z_max=length,\n",
    ")"
   ]
  },
  {
   "cell_type": "code",
   "execution_count": null,
   "metadata": {},
   "outputs": [],
   "source": [
    "struct = mw.Structure(material=mw.silicon, geometry=box)"
   ]
  },
  {
   "cell_type": "code",
   "execution_count": null,
   "metadata": {},
   "outputs": [],
   "source": [
    "env = mw.Environment(wl=1.55, T=25.0)"
   ]
  },
  {
   "cell_type": "code",
   "execution_count": null,
   "metadata": {},
   "outputs": [],
   "source": [
    "cells = mw.create_cells(\n",
    "    structures=[struct],\n",
    "    mesh=mw.Mesh2d(\n",
    "        x = np.linspace(-1, 1, 101),\n",
    "        y = np.linspace(-1, 1, 101),\n",
    "    ),\n",
    "    Ls = [length/3]*3\n",
    ")\n",
    "css = [mw.CrossSection(cell=cell, env=env) for cell in cells]"
   ]
  },
  {
   "cell_type": "code",
   "execution_count": null,
   "metadata": {},
   "outputs": [],
   "source": [
    "modes = [mw.compute_modes(cs, num_modes=2) for cs in css]"
   ]
  },
  {
   "cell_type": "code",
   "execution_count": null,
   "metadata": {},
   "outputs": [],
   "source": [
    "modes_ = modes.copy()"
   ]
  },
  {
   "cell_type": "code",
   "execution_count": null,
   "metadata": {},
   "outputs": [],
   "source": [
    "modes = modes_.copy()"
   ]
  },
  {
   "cell_type": "code",
   "execution_count": null,
   "metadata": {},
   "outputs": [],
   "source": [
    "modes[1] = [m*complex(np.exp(1j)) for m in modes[1]]"
   ]
  },
  {
   "cell_type": "code",
   "execution_count": null,
   "metadata": {},
   "outputs": [],
   "source": [
    "from meow.eme import compute_interface_s_matrices, compute_propagation_s_matrices\n",
    "from meow.eme import compute_interface_s_matrix\n",
    "from meow.eme.sax import _get_netlist\n",
    "import sax\n",
    "from sax.backends import circuit_backends\n",
    "evaluate_circuit = circuit_backends[\"klu\"]"
   ]
  },
  {
   "cell_type": "code",
   "execution_count": null,
   "metadata": {},
   "outputs": [],
   "source": [
    "propagations = compute_propagation_s_matrices(modes)\n",
    "interfaces = compute_interface_s_matrices(\n",
    "    modes, enforce_reciprocity=False,\n",
    ")\n",
    "\n",
    "unities = [compute_interface_s_matrix(mode, mode, enforce_reciprocity=False) for mode in modes]\n"
   ]
  },
  {
   "attachments": {},
   "cell_type": "markdown",
   "metadata": {},
   "source": [
    "## TODO get rid of unities to increase efficiency"
   ]
  },
  {
   "cell_type": "code",
   "execution_count": null,
   "metadata": {},
   "outputs": [],
   "source": [
    "def _connect_two(l, r):\n",
    "    \"\"\"l -> left, r -> right\"\"\"\n",
    "    #TODO there must be an easier way to do this...\n",
    "    s_l, p_l = sax.sdense(l)\n",
    "    s_r, p_r = sax.sdense(r)\n",
    "    instances = {\"l\": l, \"r\": r}\n",
    "    p_lr = [p for p in p_l.keys() if \"right\" in p] #right ports of left\n",
    "    p_rl = [p for p in p_r.keys() if \"left\" in p] #left ports of right\n",
    "\n",
    "    p_ll = [p for p in p_l.keys() if \"left\" in p] #left ports of left\n",
    "    p_rr = [p for p in p_r.keys() if \"right\" in p] #right ports of right\n",
    "\n",
    "    p_lr.sort()\n",
    "    p_rl.sort()\n",
    "    connections = {f\"l,{pl}\": f\"r,{pr}\" for pl,pr in zip(p_lr, p_rl)}\n",
    "    ports = {\n",
    "        **{p: f\"l,{p}\" for p in p_ll},\n",
    "        **{p: f\"r,{p}\" for p in p_rr}\n",
    "    }\n",
    "    net = dict(\n",
    "        instances = instances,\n",
    "        connections = connections,\n",
    "        ports = ports\n",
    "    )\n",
    "    return evaluate_circuit(**net)"
   ]
  },
  {
   "cell_type": "code",
   "execution_count": null,
   "metadata": {},
   "outputs": [],
   "source": [
    "def pi_pairs(propagations, interfaces, unities):\n",
    "    \"\"\"generates the S-matrices of cells: a combination of propagation and interface matrix\"\"\"\n",
    "    S = []\n",
    "    for i in range(len(propagations)):\n",
    "        p = propagations[f\"p_{i}\"]\n",
    "        if i == len(interfaces):\n",
    "            S.append(p)\n",
    "        else:\n",
    "            c = interfaces[f\"i_{i}_{i+1}\"]\n",
    "            S.append(_connect_two(p, c))\n",
    "    \n",
    "    return S"
   ]
  },
  {
   "cell_type": "code",
   "execution_count": null,
   "metadata": {},
   "outputs": [],
   "source": [
    "pairs = pi_pairs(propagations, interfaces, unities)"
   ]
  },
  {
   "cell_type": "code",
   "execution_count": null,
   "metadata": {},
   "outputs": [],
   "source": [
    "def l2r_matrices(pairs):\n",
    "    Ss=[pairs[0]]\n",
    "\n",
    "    for p in pairs[1:]:\n",
    "        Ss.append(_connect_two(Ss[-1], p))\n",
    "    \n",
    "    return Ss\n",
    "    \n",
    "l2rs = l2r_matrices(pairs)"
   ]
  },
  {
   "cell_type": "code",
   "execution_count": null,
   "metadata": {},
   "outputs": [],
   "source": [
    "def r2l_matrices(pairs):\n",
    "    Ss=[pairs[-1]]\n",
    "\n",
    "    for p in pairs[-1::-1]:\n",
    "        Ss.append(_connect_two(p, Ss[-1]))\n",
    "    \n",
    "    return Ss[::-1]\n",
    "\n",
    "r2ls = r2l_matrices(pairs)"
   ]
  },
  {
   "attachments": {},
   "cell_type": "markdown",
   "metadata": {},
   "source": [
    "let's assume excitation only from the left"
   ]
  },
  {
   "cell_type": "code",
   "execution_count": null,
   "metadata": {},
   "outputs": [],
   "source": [
    "excitation_l = np.zeros(len(modes[0]))\n",
    "#excitation_l = excitation_l.at[1].set(1)\n",
    "excitation_r = np.zeros(len(modes[-1]))\n",
    "excitation_r = excitation_l.at[1].set(1)\n",
    "\n",
    "amplitudes = []"
   ]
  },
  {
   "cell_type": "code",
   "execution_count": null,
   "metadata": {},
   "outputs": [],
   "source": [
    "l2rs[0]"
   ]
  },
  {
   "cell_type": "code",
   "execution_count": null,
   "metadata": {},
   "outputs": [],
   "source": [
    "def split_square_matrix(matrix, idx):\n",
    "    if matrix.shape[0] != matrix.shape[1]:\n",
    "        raise ValueError(\"Matrix has to be square\")\n",
    "    return [matrix[:idx,:idx], matrix[:idx,idx:]], [matrix[idx:,:idx], matrix[idx:,idx:]]\n",
    "\n",
    "    # Attention! I am not sure the indexing is correct here!! Testing needed"
   ]
  },
  {
   "cell_type": "code",
   "execution_count": null,
   "metadata": {},
   "outputs": [],
   "source": [
    "forwards=[]\n",
    "backwards=[]\n",
    "for l2r, r2l in zip(l2rs, r2ls):\n",
    "    s_l2r = l2r[0]\n",
    "    s_r2l = r2l[0]\n",
    "\n",
    "    m = len([k for k in l2r[1].keys() if \"right\" in k])\n",
    "    n = s_l2r.shape[0] - m\n",
    "    l = s_r2l.shape[0] - m\n",
    "    [u11, u21],[u12, u22] = split_square_matrix(s_l2r, n)\n",
    "    [v11, v21],[v12, v22] = split_square_matrix(s_r2l, m)\n",
    "\n",
    "    RHS = u21@excitation_l + u22@v12@excitation_r\n",
    "    LHS = np.diag(np.ones(m)) - u22@v11\n",
    "    forward = np.linalg.solve(LHS, RHS)\n",
    "    backward = v21@excitation_r + v11@forward # Attention v21 was v12\n",
    "\n",
    "    forwards.append(forward)\n",
    "    backwards.append(backward)\n",
    "\n"
   ]
  },
  {
   "cell_type": "code",
   "execution_count": null,
   "metadata": {},
   "outputs": [],
   "source": [
    "forwards\n"
   ]
  },
  {
   "cell_type": "code",
   "execution_count": null,
   "metadata": {},
   "outputs": [],
   "source": [
    "backwards"
   ]
  },
  {
   "cell_type": "code",
   "execution_count": null,
   "metadata": {},
   "outputs": [],
   "source": [
    "z = np.linspace(0, length, 200)"
   ]
  },
  {
   "attachments": {},
   "cell_type": "markdown",
   "metadata": {},
   "source": [
    "Exemplarily getting the ex component"
   ]
  },
  {
   "cell_type": "code",
   "execution_count": null,
   "metadata": {},
   "outputs": [],
   "source": [
    "l = 0\n",
    "y = 0.5\n",
    "\n",
    "mode_set = modes[0]\n",
    "mesh_y = mode_set[0].cell.mesh.y\n",
    "mesh_x = mode_set[0].cell.mesh.x\n",
    "i_y = np.argmin(np.abs(mesh_y-y))\n",
    "\n",
    "for mode_set, forward, backward in zip(modes, forwards, backwards):\n",
    "    Ex = 0\n",
    "    cell = mode_set[0].cell\n",
    "    z_ = z[np.logical_and(z>=cell.z_min, z<cell.z_max)]\n",
    "    z_local = z_[:-1] + np.diff(z_)/2 - cell.z_min\n",
    "    for mode, f, b in zip(mode_set, forward, backward):\n",
    "        E_slice = mode.Ex[:,i_y]\n",
    "        #plt.plot(E_slice)\n",
    "        Ex += np.outer(f*E_slice.T, np.exp(\n",
    "            2j * np.pi * mode.neff / mode.env.wl * z_local\n",
    "        ))\n",
    "\n",
    "        Ex += np.outer(b*E_slice.T, np.exp(\n",
    "            -2j * np.pi * mode.neff / mode.env.wl * z_local\n",
    "        ))\n",
    "        \n",
    "    X,Y = np.meshgrid(z_, mesh_x)\n",
    "    plt.pcolormesh(X,Y,Ex.real)\n",
    "plt.xlabel(\"z in um\")\n",
    "plt.ylabel(\"x in um\")"
   ]
  },
  {
   "cell_type": "code",
   "execution_count": null,
   "metadata": {},
   "outputs": [],
   "source": []
  },
  {
   "cell_type": "code",
   "execution_count": null,
   "metadata": {},
   "outputs": [],
   "source": []
  }
 ],
 "metadata": {
  "kernelspec": {
   "display_name": "Python 3",
   "language": "python",
   "name": "python3"
  },
  "language_info": {
   "codemirror_mode": {
    "name": "ipython",
    "version": 3
   },
   "file_extension": ".py",
   "mimetype": "text/x-python",
   "name": "python",
   "nbconvert_exporter": "python",
   "pygments_lexer": "ipython3",
   "version": "3.10.10"
  },
  "vscode": {
   "interpreter": {
    "hash": "8cb1a8d1c3ece4eb1e4592eaec04207f7b73f2abcb1f254721941c0090e83ef8"
   }
  }
 },
 "nbformat": 4,
 "nbformat_minor": 2
}
