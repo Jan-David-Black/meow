{
 "cells": [
  {
   "cell_type": "markdown",
   "id": "dd643a5d-d081-48d7-a8ed-2c4b80faa122",
   "metadata": {
    "papermill": {
     "duration": 0.030791,
     "end_time": "2023-06-05T20:32:06.094325",
     "exception": false,
     "start_time": "2023-06-05T20:32:06.063534",
     "status": "completed"
    },
    "tags": []
   },
   "source": [
    "# Serialization\n",
    "\n",
    "> Everything in the `meow` package is easily serializable.\n",
    "\n",
    "Everything in the `meow` package is easily serializable. Why is that useful? Well this allows you to very quite easily make a REST API out of `meow`. And why is that useful? Having an FDE-solver behind a REST-api allows you to simultaneously solve for the modes in all the EME cells at once! Anyway, this notebook serves to show how the most common data structures are _serialized_, we might go into the details of making an api at a later stage."
   ]
  },
  {
   "cell_type": "code",
   "execution_count": null,
   "id": "4859f69dd76d8b17",
   "metadata": {
    "papermill": {
     "duration": 4.514228,
     "end_time": "2023-06-05T20:32:10.658645",
     "exception": false,
     "start_time": "2023-06-05T20:32:06.144417",
     "status": "completed"
    },
    "tags": [
     "remove-cell"
    ]
   },
   "outputs": [],
   "source": [
    "import json\n",
    "from typing import List\n",
    "\n",
    "import meow as mw\n",
    "import numpy as np\n",
    "from pydantic.schema import model_process_schema\n",
    "from pydantic import parse_obj_as"
   ]
  },
  {
   "cell_type": "code",
   "execution_count": null,
   "id": "57e7346b",
   "metadata": {
    "papermill": {
     "duration": 0.077628,
     "end_time": "2023-06-05T20:32:10.767025",
     "exception": false,
     "start_time": "2023-06-05T20:32:10.689397",
     "status": "completed"
    },
    "tags": []
   },
   "outputs": [],
   "source": [
    "def _try_is_base_model(cls):\n",
    "    try:\n",
    "        return issubclass(cls, mw.BaseModel)\n",
    "    except Exception:\n",
    "        return False\n",
    "\n",
    "\n",
    "model_name_map = {v: k for k, v in vars(mw).items() if _try_is_base_model(v)}\n",
    "model_name_map"
   ]
  },
  {
   "cell_type": "markdown",
   "id": "e563a59a-6494-431b-b124-6c1804a6c7cb",
   "metadata": {
    "papermill": {
     "duration": 0.052935,
     "end_time": "2023-06-05T20:32:10.860635",
     "exception": false,
     "start_time": "2023-06-05T20:32:10.807700",
     "status": "completed"
    },
    "tags": []
   },
   "source": [
    "## Geometry"
   ]
  },
  {
   "cell_type": "code",
   "execution_count": null,
   "id": "0633d803",
   "metadata": {
    "papermill": {
     "duration": 0.073529,
     "end_time": "2023-06-05T20:32:10.976290",
     "exception": false,
     "start_time": "2023-06-05T20:32:10.902761",
     "status": "completed"
    },
    "tags": []
   },
   "outputs": [],
   "source": [
    "schema, definitions, nested_models = model_process_schema(\n",
    "    mw.Geometry,\n",
    "    model_name_map=model_name_map,\n",
    ")\n",
    "display(schema)\n",
    "schema, definitions, nested_models = model_process_schema(\n",
    "    mw.Box,\n",
    "    model_name_map=model_name_map,\n",
    ")\n",
    "display(schema)\n",
    "schema, definitions, nested_models = model_process_schema(\n",
    "    mw.Prism,\n",
    "    model_name_map=model_name_map,\n",
    ")\n",
    "display(schema)"
   ]
  },
  {
   "cell_type": "code",
   "execution_count": null,
   "id": "e2b9b50f-9ec1-440d-a2ae-207cd3a90251",
   "metadata": {
    "papermill": {
     "duration": 0.049559,
     "end_time": "2023-06-05T20:32:11.053630",
     "exception": false,
     "start_time": "2023-06-05T20:32:11.004071",
     "status": "completed"
    },
    "tags": []
   },
   "outputs": [],
   "source": [
    "length = 10.0\n",
    "box = mw.Box(\n",
    "    x_min=-1.0,\n",
    "    x_max=1.0,\n",
    "    y_min=-1.0,\n",
    "    y_max=0.0,\n",
    "    z_min=0.0,\n",
    "    z_max=length,\n",
    ")"
   ]
  },
  {
   "cell_type": "markdown",
   "id": "b65a79f2-0d39-419e-a8b8-78db2fd6d103",
   "metadata": {
    "papermill": {
     "duration": 0.041994,
     "end_time": "2023-06-05T20:32:11.137508",
     "exception": false,
     "start_time": "2023-06-05T20:32:11.095514",
     "status": "completed"
    },
    "tags": []
   },
   "source": [
    "self-deserialization:"
   ]
  },
  {
   "cell_type": "code",
   "execution_count": null,
   "id": "9111a184-5700-4a26-a7b0-da51e079d437",
   "metadata": {
    "papermill": {
     "duration": 0.079109,
     "end_time": "2023-06-05T20:32:11.259166",
     "exception": false,
     "start_time": "2023-06-05T20:32:11.180057",
     "status": "completed"
    },
    "tags": []
   },
   "outputs": [],
   "source": [
    "mw.Geometry.parse_obj(box)"
   ]
  },
  {
   "cell_type": "markdown",
   "id": "97c97603-fda3-4bd9-bb47-9695ec739b21",
   "metadata": {
    "papermill": {
     "duration": 0.039927,
     "end_time": "2023-06-05T20:32:11.373193",
     "exception": false,
     "start_time": "2023-06-05T20:32:11.333266",
     "status": "completed"
    },
    "tags": []
   },
   "source": [
    "### dictionary"
   ]
  },
  {
   "cell_type": "markdown",
   "id": "8a57a18e-3b7f-45af-b72a-5cf826b13cea",
   "metadata": {
    "papermill": {
     "duration": 0.075881,
     "end_time": "2023-06-05T20:32:11.533666",
     "exception": false,
     "start_time": "2023-06-05T20:32:11.457785",
     "status": "completed"
    },
    "tags": []
   },
   "source": [
    "serialize"
   ]
  },
  {
   "cell_type": "code",
   "execution_count": null,
   "id": "4c50b221-05a9-4ae1-b2e4-18c52a953028",
   "metadata": {
    "papermill": {
     "duration": 0.07844,
     "end_time": "2023-06-05T20:32:11.690859",
     "exception": false,
     "start_time": "2023-06-05T20:32:11.612419",
     "status": "completed"
    },
    "tags": []
   },
   "outputs": [],
   "source": [
    "dic = box.dict()\n",
    "dic"
   ]
  },
  {
   "cell_type": "markdown",
   "id": "9d27cc57-e33f-4e55-b7ba-a3b16cfb7c79",
   "metadata": {
    "papermill": {
     "duration": 0.048454,
     "end_time": "2023-06-05T20:32:11.823240",
     "exception": false,
     "start_time": "2023-06-05T20:32:11.774786",
     "status": "completed"
    },
    "tags": []
   },
   "source": [
    "deserialize"
   ]
  },
  {
   "cell_type": "code",
   "execution_count": null,
   "id": "ac787ce8-9f59-4317-ad89-14ff63fc65b7",
   "metadata": {
    "papermill": {
     "duration": 0.076895,
     "end_time": "2023-06-05T20:32:11.966304",
     "exception": false,
     "start_time": "2023-06-05T20:32:11.889409",
     "status": "completed"
    },
    "tags": []
   },
   "outputs": [],
   "source": [
    "mw.Geometry.parse_obj(dic)"
   ]
  },
  {
   "cell_type": "markdown",
   "id": "7f58e463-5023-484a-a5c3-47f78325b6c6",
   "metadata": {
    "papermill": {
     "duration": 0.041055,
     "end_time": "2023-06-05T20:32:12.108238",
     "exception": false,
     "start_time": "2023-06-05T20:32:12.067183",
     "status": "completed"
    },
    "tags": []
   },
   "source": [
    "### json"
   ]
  },
  {
   "cell_type": "markdown",
   "id": "8081ee06-e20c-4e59-8b02-a2ed117fda1e",
   "metadata": {
    "papermill": {
     "duration": 0.021666,
     "end_time": "2023-06-05T20:32:12.152845",
     "exception": false,
     "start_time": "2023-06-05T20:32:12.131179",
     "status": "completed"
    },
    "tags": []
   },
   "source": [
    "serialize"
   ]
  },
  {
   "cell_type": "code",
   "execution_count": null,
   "id": "4d6580fc-209b-436e-8a84-7fdce80d4e1f",
   "metadata": {
    "papermill": {
     "duration": 0.077622,
     "end_time": "2023-06-05T20:32:12.291731",
     "exception": false,
     "start_time": "2023-06-05T20:32:12.214109",
     "status": "completed"
    },
    "tags": []
   },
   "outputs": [],
   "source": [
    "s = box.json()\n",
    "s"
   ]
  },
  {
   "cell_type": "markdown",
   "id": "cfe0bdf2-fb99-4158-9945-5195d1ff13e0",
   "metadata": {
    "papermill": {
     "duration": 0.061888,
     "end_time": "2023-06-05T20:32:12.431476",
     "exception": false,
     "start_time": "2023-06-05T20:32:12.369588",
     "status": "completed"
    },
    "tags": []
   },
   "source": [
    "deserialize"
   ]
  },
  {
   "cell_type": "code",
   "execution_count": null,
   "id": "ce41e0ec-f8e7-421f-8af0-ba20fc6503f1",
   "metadata": {
    "papermill": {
     "duration": 0.073762,
     "end_time": "2023-06-05T20:32:12.558604",
     "exception": false,
     "start_time": "2023-06-05T20:32:12.484842",
     "status": "completed"
    },
    "tags": []
   },
   "outputs": [],
   "source": [
    "mw.Geometry.parse_raw(s)"
   ]
  },
  {
   "cell_type": "markdown",
   "id": "8702bd10-ed03-408a-a931-447d59a777f1",
   "metadata": {
    "papermill": {
     "duration": 0.079887,
     "end_time": "2023-06-05T20:32:12.687072",
     "exception": false,
     "start_time": "2023-06-05T20:32:12.607185",
     "status": "completed"
    },
    "tags": []
   },
   "source": [
    "## Material"
   ]
  },
  {
   "cell_type": "code",
   "execution_count": null,
   "id": "9528924f",
   "metadata": {
    "papermill": {
     "duration": 0.549441,
     "end_time": "2023-06-05T20:32:13.431288",
     "exception": false,
     "start_time": "2023-06-05T20:32:12.881847",
     "status": "completed"
    },
    "tags": []
   },
   "outputs": [],
   "source": [
    "schema, definitions, nested_models = model_process_schema(\n",
    "    mw.Material,\n",
    "    model_name_map=model_name_map,\n",
    ")\n",
    "display(schema)"
   ]
  },
  {
   "cell_type": "markdown",
   "id": "e586860f-cb6e-444b-8bca-71f6255e1d9c",
   "metadata": {
    "papermill": {
     "duration": 0.074218,
     "end_time": "2023-06-05T20:32:13.555398",
     "exception": false,
     "start_time": "2023-06-05T20:32:13.481180",
     "status": "completed"
    },
    "tags": []
   },
   "source": [
    "self-deserialization:"
   ]
  },
  {
   "cell_type": "code",
   "execution_count": null,
   "id": "80ca82da-88ff-4f4f-8278-81100438f65d",
   "metadata": {
    "papermill": {
     "duration": 0.126001,
     "end_time": "2023-06-05T20:32:13.735262",
     "exception": false,
     "start_time": "2023-06-05T20:32:13.609261",
     "status": "completed"
    },
    "tags": []
   },
   "outputs": [],
   "source": [
    "mw.Material.parse_obj(mw.silicon)"
   ]
  },
  {
   "cell_type": "markdown",
   "id": "b3a7244e-21c0-480d-9d10-581a5c5623e0",
   "metadata": {
    "papermill": {
     "duration": 0.057145,
     "end_time": "2023-06-05T20:32:13.864069",
     "exception": false,
     "start_time": "2023-06-05T20:32:13.806924",
     "status": "completed"
    },
    "tags": []
   },
   "source": [
    "### dictionary"
   ]
  },
  {
   "cell_type": "markdown",
   "id": "f2ef4e23-2165-486b-b51a-cebf29fcce1a",
   "metadata": {
    "papermill": {
     "duration": 0.098387,
     "end_time": "2023-06-05T20:32:14.047132",
     "exception": false,
     "start_time": "2023-06-05T20:32:13.948745",
     "status": "completed"
    },
    "tags": []
   },
   "source": [
    "serialize"
   ]
  },
  {
   "cell_type": "code",
   "execution_count": null,
   "id": "0ec8b96f-4920-4e55-af9a-8528b5b95f66",
   "metadata": {
    "papermill": {
     "duration": 0.086607,
     "end_time": "2023-06-05T20:32:14.226749",
     "exception": false,
     "start_time": "2023-06-05T20:32:14.140142",
     "status": "completed"
    },
    "tags": []
   },
   "outputs": [],
   "source": [
    "dic = mw.silicon.dict()\n",
    "dic"
   ]
  },
  {
   "cell_type": "markdown",
   "id": "89fdf839-77b1-489b-a445-67c6b848997b",
   "metadata": {
    "papermill": {
     "duration": 0.076723,
     "end_time": "2023-06-05T20:32:14.385600",
     "exception": false,
     "start_time": "2023-06-05T20:32:14.308877",
     "status": "completed"
    },
    "tags": []
   },
   "source": [
    "deserialize"
   ]
  },
  {
   "cell_type": "code",
   "execution_count": null,
   "id": "2d57cc42-8b84-44fe-9f21-75d997bccf45",
   "metadata": {
    "papermill": {
     "duration": 0.098747,
     "end_time": "2023-06-05T20:32:14.560067",
     "exception": false,
     "start_time": "2023-06-05T20:32:14.461320",
     "status": "completed"
    },
    "tags": []
   },
   "outputs": [],
   "source": [
    "mw.Material.parse_obj(dic)"
   ]
  },
  {
   "cell_type": "markdown",
   "id": "b5a01c4c-0baa-40ff-84ab-ad4d43c7a2b9",
   "metadata": {
    "papermill": {
     "duration": 0.078657,
     "end_time": "2023-06-05T20:32:14.719110",
     "exception": false,
     "start_time": "2023-06-05T20:32:14.640453",
     "status": "completed"
    },
    "tags": []
   },
   "source": [
    "### json"
   ]
  },
  {
   "cell_type": "markdown",
   "id": "ab48f31f-c18d-44c8-8417-72bbe469f7d0",
   "metadata": {
    "papermill": {
     "duration": 0.077414,
     "end_time": "2023-06-05T20:32:14.875548",
     "exception": false,
     "start_time": "2023-06-05T20:32:14.798134",
     "status": "completed"
    },
    "tags": []
   },
   "source": [
    "serialize"
   ]
  },
  {
   "cell_type": "code",
   "execution_count": null,
   "id": "c5d83d0c-4dea-4b7f-ba92-a56a6388394b",
   "metadata": {
    "papermill": {
     "duration": 0.083878,
     "end_time": "2023-06-05T20:32:15.036346",
     "exception": false,
     "start_time": "2023-06-05T20:32:14.952468",
     "status": "completed"
    },
    "tags": []
   },
   "outputs": [],
   "source": [
    "s = mw.silicon.json()\n",
    "f\"{s[:100]}...\""
   ]
  },
  {
   "cell_type": "markdown",
   "id": "19c837e5-b187-41a0-b70b-6bf775475054",
   "metadata": {
    "papermill": {
     "duration": 0.084881,
     "end_time": "2023-06-05T20:32:15.205398",
     "exception": false,
     "start_time": "2023-06-05T20:32:15.120517",
     "status": "completed"
    },
    "tags": []
   },
   "source": [
    "deserialize"
   ]
  },
  {
   "cell_type": "code",
   "execution_count": null,
   "id": "f71a3ff6-83ee-4c03-8eaa-0e174aebe020",
   "metadata": {
    "papermill": {
     "duration": 0.04143,
     "end_time": "2023-06-05T20:32:15.327409",
     "exception": false,
     "start_time": "2023-06-05T20:32:15.285979",
     "status": "completed"
    },
    "tags": []
   },
   "outputs": [],
   "source": [
    "mat_raw = mw.Material.parse_raw(s)\n",
    "mat_raw"
   ]
  },
  {
   "cell_type": "markdown",
   "id": "2f141592-ddc4-42a9-96a9-80945373e106",
   "metadata": {
    "papermill": {
     "duration": 0.025616,
     "end_time": "2023-06-05T20:32:15.378787",
     "exception": false,
     "start_time": "2023-06-05T20:32:15.353171",
     "status": "completed"
    },
    "tags": []
   },
   "source": [
    "## Structure"
   ]
  },
  {
   "cell_type": "code",
   "execution_count": null,
   "id": "18747c11",
   "metadata": {
    "papermill": {
     "duration": 0.069049,
     "end_time": "2023-06-05T20:32:15.474310",
     "exception": false,
     "start_time": "2023-06-05T20:32:15.405261",
     "status": "completed"
    },
    "tags": []
   },
   "outputs": [],
   "source": [
    "schema, definitions, nested_models = model_process_schema(\n",
    "    mw.Structure,\n",
    "    model_name_map=model_name_map,\n",
    ")\n",
    "display(schema)"
   ]
  },
  {
   "cell_type": "code",
   "execution_count": null,
   "id": "c8e8f32b-a087-46c1-b15d-296aff7a17c7",
   "metadata": {
    "papermill": {
     "duration": 0.054129,
     "end_time": "2023-06-05T20:32:15.582653",
     "exception": false,
     "start_time": "2023-06-05T20:32:15.528524",
     "status": "completed"
    },
    "tags": []
   },
   "outputs": [],
   "source": [
    "struct = mw.Structure(material=mw.silicon, geometry=box)"
   ]
  },
  {
   "cell_type": "markdown",
   "id": "d85251f3-1cdd-4328-8fe2-a35b2f58bb9a",
   "metadata": {
    "papermill": {
     "duration": 0.058134,
     "end_time": "2023-06-05T20:32:15.696589",
     "exception": false,
     "start_time": "2023-06-05T20:32:15.638455",
     "status": "completed"
    },
    "tags": []
   },
   "source": [
    "self-deserialization:"
   ]
  },
  {
   "cell_type": "code",
   "execution_count": null,
   "id": "bbf8f8b4-bf54-4ce2-883b-3a3ca2aad23c",
   "metadata": {
    "papermill": {
     "duration": 0.080787,
     "end_time": "2023-06-05T20:32:15.846605",
     "exception": false,
     "start_time": "2023-06-05T20:32:15.765818",
     "status": "completed"
    },
    "tags": []
   },
   "outputs": [],
   "source": [
    "mw.Structure.parse_obj(struct)"
   ]
  },
  {
   "cell_type": "markdown",
   "id": "6595d99f-121a-4fd5-8d06-7e55ab71b395",
   "metadata": {
    "papermill": {
     "duration": 0.056406,
     "end_time": "2023-06-05T20:32:15.959149",
     "exception": false,
     "start_time": "2023-06-05T20:32:15.902743",
     "status": "completed"
    },
    "tags": []
   },
   "source": [
    "### dictionary"
   ]
  },
  {
   "cell_type": "markdown",
   "id": "9afa936b-a4ac-4854-854c-0bdefff2cd7f",
   "metadata": {
    "papermill": {
     "duration": 0.056017,
     "end_time": "2023-06-05T20:32:16.069688",
     "exception": false,
     "start_time": "2023-06-05T20:32:16.013671",
     "status": "completed"
    },
    "tags": []
   },
   "source": [
    "serialize"
   ]
  },
  {
   "cell_type": "code",
   "execution_count": null,
   "id": "043521d2-2317-4d79-8f85-372013a0f902",
   "metadata": {
    "papermill": {
     "duration": 0.086078,
     "end_time": "2023-06-05T20:32:16.228991",
     "exception": false,
     "start_time": "2023-06-05T20:32:16.142913",
     "status": "completed"
    },
    "tags": []
   },
   "outputs": [],
   "source": [
    "dic = struct.dict()\n",
    "dic"
   ]
  },
  {
   "cell_type": "markdown",
   "id": "403af19d-c5de-4d17-9f3b-d0aed5b59d87",
   "metadata": {
    "papermill": {
     "duration": 0.064236,
     "end_time": "2023-06-05T20:32:16.379282",
     "exception": false,
     "start_time": "2023-06-05T20:32:16.315046",
     "status": "completed"
    },
    "tags": []
   },
   "source": [
    "deserialize"
   ]
  },
  {
   "cell_type": "code",
   "execution_count": null,
   "id": "d1bd9fa5-d5f5-4011-a6ad-256bd3af98cf",
   "metadata": {
    "papermill": {
     "duration": 0.07644,
     "end_time": "2023-06-05T20:32:16.505404",
     "exception": false,
     "start_time": "2023-06-05T20:32:16.428964",
     "status": "completed"
    },
    "tags": []
   },
   "outputs": [],
   "source": [
    "struct = mw.Structure.parse_obj(dic)\n",
    "struct"
   ]
  },
  {
   "cell_type": "markdown",
   "id": "5fa2054c-26b4-46e2-8ff6-f1b693e54e0a",
   "metadata": {
    "papermill": {
     "duration": 0.061961,
     "end_time": "2023-06-05T20:32:16.640461",
     "exception": false,
     "start_time": "2023-06-05T20:32:16.578500",
     "status": "completed"
    },
    "tags": []
   },
   "source": [
    "### json"
   ]
  },
  {
   "cell_type": "markdown",
   "id": "7680a15e-5373-4a57-a45c-5dbec551885c",
   "metadata": {
    "papermill": {
     "duration": 0.043391,
     "end_time": "2023-06-05T20:32:16.748223",
     "exception": false,
     "start_time": "2023-06-05T20:32:16.704832",
     "status": "completed"
    },
    "tags": []
   },
   "source": [
    "serialize"
   ]
  },
  {
   "cell_type": "code",
   "execution_count": null,
   "id": "d408f86f-ad77-4a56-b131-1db8f825161b",
   "metadata": {
    "papermill": {
     "duration": 0.115494,
     "end_time": "2023-06-05T20:32:16.932086",
     "exception": false,
     "start_time": "2023-06-05T20:32:16.816592",
     "status": "completed"
    },
    "tags": []
   },
   "outputs": [],
   "source": [
    "s = struct.json()\n",
    "f\"{s[:100]}...\""
   ]
  },
  {
   "cell_type": "markdown",
   "id": "b63531e4-13d6-4754-aaaf-ea32304a61d5",
   "metadata": {
    "papermill": {
     "duration": 0.07251,
     "end_time": "2023-06-05T20:32:17.094292",
     "exception": false,
     "start_time": "2023-06-05T20:32:17.021782",
     "status": "completed"
    },
    "tags": []
   },
   "source": [
    "deserialize"
   ]
  },
  {
   "cell_type": "code",
   "execution_count": null,
   "id": "40bdd675-530e-4f74-9f48-cad67667d81b",
   "metadata": {
    "papermill": {
     "duration": 0.167204,
     "end_time": "2023-06-05T20:32:17.365735",
     "exception": false,
     "start_time": "2023-06-05T20:32:17.198531",
     "status": "completed"
    },
    "tags": []
   },
   "outputs": [],
   "source": [
    "mw.Structure.parse_raw(s)"
   ]
  },
  {
   "cell_type": "markdown",
   "id": "cfc57307-7bdd-4f8d-af9a-fcd7fb286dd9",
   "metadata": {
    "papermill": {
     "duration": 0.120383,
     "end_time": "2023-06-05T20:32:17.609240",
     "exception": false,
     "start_time": "2023-06-05T20:32:17.488857",
     "status": "completed"
    },
    "tags": []
   },
   "source": [
    "## Cell"
   ]
  },
  {
   "cell_type": "code",
   "execution_count": null,
   "id": "4b8cd859",
   "metadata": {
    "papermill": {
     "duration": 0.132492,
     "end_time": "2023-06-05T20:32:17.845029",
     "exception": false,
     "start_time": "2023-06-05T20:32:17.712537",
     "status": "completed"
    },
    "tags": []
   },
   "outputs": [],
   "source": [
    "schema, definitions, nested_models = model_process_schema(\n",
    "    mw.Cell,\n",
    "    model_name_map=model_name_map,\n",
    ")\n",
    "display(schema)"
   ]
  },
  {
   "cell_type": "code",
   "execution_count": null,
   "id": "50df56f0-ce78-41f5-a854-8d1cfa486392",
   "metadata": {
    "papermill": {
     "duration": 0.126756,
     "end_time": "2023-06-05T20:32:18.096699",
     "exception": false,
     "start_time": "2023-06-05T20:32:17.969943",
     "status": "completed"
    },
    "tags": []
   },
   "outputs": [],
   "source": [
    "cell = mw.Cell(\n",
    "    structures=[struct],\n",
    "    mesh=mw.Mesh2d(\n",
    "        x=np.linspace(-1, 1, 101),\n",
    "        y=np.linspace(-1, 1, 101),\n",
    "    ),\n",
    "    z_min=0.0,\n",
    "    z_max=length,\n",
    ")"
   ]
  },
  {
   "cell_type": "markdown",
   "id": "16b0c4aa-0e9f-4765-b16f-9731daef1f17",
   "metadata": {
    "papermill": {
     "duration": 0.111334,
     "end_time": "2023-06-05T20:32:18.335847",
     "exception": false,
     "start_time": "2023-06-05T20:32:18.224513",
     "status": "completed"
    },
    "tags": []
   },
   "source": [
    "self-deserialization:"
   ]
  },
  {
   "cell_type": "code",
   "execution_count": null,
   "id": "b49d9059-9686-4d37-9faf-c92a9963e5e0",
   "metadata": {
    "papermill": {
     "duration": 0.116809,
     "end_time": "2023-06-05T20:32:18.558863",
     "exception": false,
     "start_time": "2023-06-05T20:32:18.442054",
     "status": "completed"
    },
    "tags": []
   },
   "outputs": [],
   "source": [
    "mw.Cell.parse_obj(cell)"
   ]
  },
  {
   "cell_type": "markdown",
   "id": "7f3102e1-c07f-47b6-82b3-579efbedd490",
   "metadata": {
    "papermill": {
     "duration": 0.110835,
     "end_time": "2023-06-05T20:32:18.775668",
     "exception": false,
     "start_time": "2023-06-05T20:32:18.664833",
     "status": "completed"
    },
    "tags": []
   },
   "source": [
    "### dictionary"
   ]
  },
  {
   "cell_type": "markdown",
   "id": "eea1cdd7-09c3-4538-bd75-aa319cf7d058",
   "metadata": {
    "papermill": {
     "duration": 0.148647,
     "end_time": "2023-06-05T20:32:19.072475",
     "exception": false,
     "start_time": "2023-06-05T20:32:18.923828",
     "status": "completed"
    },
    "tags": []
   },
   "source": [
    "serialize"
   ]
  },
  {
   "cell_type": "code",
   "execution_count": null,
   "id": "7cb304de-ee82-4525-b1c9-9f58c1c66b63",
   "metadata": {
    "papermill": {
     "duration": 0.174732,
     "end_time": "2023-06-05T20:32:19.379494",
     "exception": false,
     "start_time": "2023-06-05T20:32:19.204762",
     "status": "completed"
    },
    "tags": []
   },
   "outputs": [],
   "source": [
    "dic = cell.dict()\n",
    "dic"
   ]
  },
  {
   "cell_type": "markdown",
   "id": "f3ff1076-8e83-433d-8988-e3bed1152d03",
   "metadata": {
    "papermill": {
     "duration": 0.215126,
     "end_time": "2023-06-05T20:32:19.866939",
     "exception": false,
     "start_time": "2023-06-05T20:32:19.651813",
     "status": "completed"
    },
    "tags": []
   },
   "source": [
    "deserialize"
   ]
  },
  {
   "cell_type": "code",
   "execution_count": null,
   "id": "773dec9b-b869-4041-95f0-88897b344258",
   "metadata": {
    "papermill": {
     "duration": 0.124987,
     "end_time": "2023-06-05T20:32:20.134150",
     "exception": false,
     "start_time": "2023-06-05T20:32:20.009163",
     "status": "completed"
    },
    "tags": []
   },
   "outputs": [],
   "source": [
    "cell = mw.Cell.parse_obj(dic)\n",
    "cell"
   ]
  },
  {
   "cell_type": "markdown",
   "id": "22bf02c7-8770-4116-8255-5a1090b42c64",
   "metadata": {
    "papermill": {
     "duration": 0.100393,
     "end_time": "2023-06-05T20:32:20.335911",
     "exception": false,
     "start_time": "2023-06-05T20:32:20.235518",
     "status": "completed"
    },
    "tags": []
   },
   "source": [
    "### json"
   ]
  },
  {
   "cell_type": "markdown",
   "id": "3aca87b0-4d97-4ff9-a478-1eb007b0bf37",
   "metadata": {
    "papermill": {
     "duration": 0.092754,
     "end_time": "2023-06-05T20:32:20.529996",
     "exception": false,
     "start_time": "2023-06-05T20:32:20.437242",
     "status": "completed"
    },
    "tags": []
   },
   "source": [
    "serialize"
   ]
  },
  {
   "cell_type": "code",
   "execution_count": null,
   "id": "2ea1b0fa-1721-4c02-ac11-5dc92fd80c0a",
   "metadata": {
    "papermill": {
     "duration": 0.102953,
     "end_time": "2023-06-05T20:32:20.732148",
     "exception": false,
     "start_time": "2023-06-05T20:32:20.629195",
     "status": "completed"
    },
    "tags": []
   },
   "outputs": [],
   "source": [
    "s = cell.json()\n",
    "f\"{s[:100]}...\""
   ]
  },
  {
   "cell_type": "markdown",
   "id": "bf3f8608-c600-4f26-84d8-f406c4b7152e",
   "metadata": {
    "papermill": {
     "duration": 0.094439,
     "end_time": "2023-06-05T20:32:20.933200",
     "exception": false,
     "start_time": "2023-06-05T20:32:20.838761",
     "status": "completed"
    },
    "tags": []
   },
   "source": [
    "deserialize"
   ]
  },
  {
   "cell_type": "code",
   "execution_count": null,
   "id": "1cd7d7c8-44c6-43fd-ad9c-2d9aee912b68",
   "metadata": {
    "papermill": {
     "duration": 0.122504,
     "end_time": "2023-06-05T20:32:21.159370",
     "exception": false,
     "start_time": "2023-06-05T20:32:21.036866",
     "status": "completed"
    },
    "tags": []
   },
   "outputs": [],
   "source": [
    "mw.Cell.parse_raw(s)"
   ]
  },
  {
   "cell_type": "markdown",
   "id": "b6b7fded-d1f5-4440-99fd-6a2118e65ff0",
   "metadata": {
    "papermill": {
     "duration": 0.098564,
     "end_time": "2023-06-05T20:32:21.361466",
     "exception": false,
     "start_time": "2023-06-05T20:32:21.262902",
     "status": "completed"
    },
    "tags": []
   },
   "source": [
    "## Environment"
   ]
  },
  {
   "cell_type": "code",
   "execution_count": null,
   "id": "6a46ca57",
   "metadata": {
    "papermill": {
     "duration": 0.11729,
     "end_time": "2023-06-05T20:32:21.578190",
     "exception": false,
     "start_time": "2023-06-05T20:32:21.460900",
     "status": "completed"
    },
    "tags": []
   },
   "outputs": [],
   "source": [
    "schema, definitions, nested_models = model_process_schema(\n",
    "    mw.Environment,\n",
    "    model_name_map=model_name_map,\n",
    ")\n",
    "display(schema)"
   ]
  },
  {
   "cell_type": "code",
   "execution_count": null,
   "id": "62ef31d0-373a-4337-9f07-26dd0c0d8a8e",
   "metadata": {
    "papermill": {
     "duration": 0.111762,
     "end_time": "2023-06-05T20:32:21.791979",
     "exception": false,
     "start_time": "2023-06-05T20:32:21.680217",
     "status": "completed"
    },
    "tags": []
   },
   "outputs": [],
   "source": [
    "env = mw.Environment(wl=1.55, T=25.0)"
   ]
  },
  {
   "cell_type": "markdown",
   "id": "c1d3edf8-b41c-4fbf-bd69-a4ef91fa9afe",
   "metadata": {
    "papermill": {
     "duration": 0.099274,
     "end_time": "2023-06-05T20:32:21.997621",
     "exception": false,
     "start_time": "2023-06-05T20:32:21.898347",
     "status": "completed"
    },
    "tags": []
   },
   "source": [
    "self-deserialization:"
   ]
  },
  {
   "cell_type": "code",
   "execution_count": null,
   "id": "02190849-3009-41a9-ad48-672a01ff0703",
   "metadata": {
    "papermill": {
     "duration": 0.107829,
     "end_time": "2023-06-05T20:32:22.209787",
     "exception": false,
     "start_time": "2023-06-05T20:32:22.101958",
     "status": "completed"
    },
    "tags": []
   },
   "outputs": [],
   "source": [
    "mw.Environment.parse_obj(env)"
   ]
  },
  {
   "cell_type": "markdown",
   "id": "528afb3c-3011-4b11-badd-32617e0ed4aa",
   "metadata": {
    "papermill": {
     "duration": 0.1084,
     "end_time": "2023-06-05T20:32:22.454230",
     "exception": false,
     "start_time": "2023-06-05T20:32:22.345830",
     "status": "completed"
    },
    "tags": []
   },
   "source": [
    "### dictionary"
   ]
  },
  {
   "cell_type": "markdown",
   "id": "607ffed2-0927-40fb-846b-73e0daafd3fd",
   "metadata": {
    "papermill": {
     "duration": 0.071913,
     "end_time": "2023-06-05T20:32:22.593389",
     "exception": false,
     "start_time": "2023-06-05T20:32:22.521476",
     "status": "completed"
    },
    "tags": []
   },
   "source": [
    "serialize"
   ]
  },
  {
   "cell_type": "code",
   "execution_count": null,
   "id": "d0927998-5ef0-4926-8fd6-dadf5e4e05e1",
   "metadata": {
    "papermill": {
     "duration": 0.070885,
     "end_time": "2023-06-05T20:32:22.745603",
     "exception": false,
     "start_time": "2023-06-05T20:32:22.674718",
     "status": "completed"
    },
    "tags": []
   },
   "outputs": [],
   "source": [
    "dic = env.dict()\n",
    "dic"
   ]
  },
  {
   "cell_type": "markdown",
   "id": "a56a75b1-c2c2-4651-8c60-957722a28eab",
   "metadata": {
    "papermill": {
     "duration": 0.07932,
     "end_time": "2023-06-05T20:32:22.881767",
     "exception": false,
     "start_time": "2023-06-05T20:32:22.802447",
     "status": "completed"
    },
    "tags": []
   },
   "source": [
    "deserialize"
   ]
  },
  {
   "cell_type": "code",
   "execution_count": null,
   "id": "23a6398a-ccad-486a-9663-8b84d8b0830c",
   "metadata": {
    "papermill": {
     "duration": 0.070595,
     "end_time": "2023-06-05T20:32:23.015744",
     "exception": false,
     "start_time": "2023-06-05T20:32:22.945149",
     "status": "completed"
    },
    "tags": []
   },
   "outputs": [],
   "source": [
    "mw.Environment.parse_obj(dic)"
   ]
  },
  {
   "cell_type": "markdown",
   "id": "6afad3d5-9137-45c2-8dd1-ced73c32e03a",
   "metadata": {
    "papermill": {
     "duration": 0.035624,
     "end_time": "2023-06-05T20:32:23.089320",
     "exception": false,
     "start_time": "2023-06-05T20:32:23.053696",
     "status": "completed"
    },
    "tags": []
   },
   "source": [
    "### json"
   ]
  },
  {
   "cell_type": "markdown",
   "id": "9326a85a-237c-49bd-a412-4aa11fda8ce3",
   "metadata": {
    "papermill": {
     "duration": 0.05069,
     "end_time": "2023-06-05T20:32:23.175705",
     "exception": false,
     "start_time": "2023-06-05T20:32:23.125015",
     "status": "completed"
    },
    "tags": []
   },
   "source": [
    "serialize"
   ]
  },
  {
   "cell_type": "code",
   "execution_count": null,
   "id": "60128d4b-8eea-4a2d-9086-a84689e75165",
   "metadata": {
    "papermill": {
     "duration": 0.069487,
     "end_time": "2023-06-05T20:32:23.322261",
     "exception": false,
     "start_time": "2023-06-05T20:32:23.252774",
     "status": "completed"
    },
    "tags": []
   },
   "outputs": [],
   "source": [
    "s = env.json()\n",
    "s"
   ]
  },
  {
   "cell_type": "markdown",
   "id": "cca849d8-27a7-42e0-992b-f5abef29fb95",
   "metadata": {
    "papermill": {
     "duration": 0.086286,
     "end_time": "2023-06-05T20:32:23.488396",
     "exception": false,
     "start_time": "2023-06-05T20:32:23.402110",
     "status": "completed"
    },
    "tags": []
   },
   "source": [
    "deserialize"
   ]
  },
  {
   "cell_type": "code",
   "execution_count": null,
   "id": "35815fcd-284e-49da-b092-e07c993e63b6",
   "metadata": {
    "papermill": {
     "duration": 0.049201,
     "end_time": "2023-06-05T20:32:23.584946",
     "exception": false,
     "start_time": "2023-06-05T20:32:23.535745",
     "status": "completed"
    },
    "tags": []
   },
   "outputs": [],
   "source": [
    "mw.Environment.parse_raw(s)"
   ]
  },
  {
   "cell_type": "markdown",
   "id": "ee4e586c-bc2d-427f-a95e-83cc7b0af5e2",
   "metadata": {
    "papermill": {
     "duration": 0.035837,
     "end_time": "2023-06-05T20:32:23.656311",
     "exception": false,
     "start_time": "2023-06-05T20:32:23.620474",
     "status": "completed"
    },
    "tags": []
   },
   "source": [
    "## Cross Section"
   ]
  },
  {
   "cell_type": "code",
   "execution_count": null,
   "id": "defab96a",
   "metadata": {
    "papermill": {
     "duration": 0.050472,
     "end_time": "2023-06-05T20:32:23.742337",
     "exception": false,
     "start_time": "2023-06-05T20:32:23.691865",
     "status": "completed"
    },
    "tags": []
   },
   "outputs": [],
   "source": [
    "schema, definitions, nested_models = model_process_schema(\n",
    "    mw.CrossSection,\n",
    "    model_name_map=model_name_map,\n",
    ")\n",
    "display(schema)"
   ]
  },
  {
   "cell_type": "code",
   "execution_count": null,
   "id": "a88e01ae-06c4-43d9-8c2e-dfe2ee4e0d91",
   "metadata": {
    "papermill": {
     "duration": 0.064641,
     "end_time": "2023-06-05T20:32:23.840376",
     "exception": false,
     "start_time": "2023-06-05T20:32:23.775735",
     "status": "completed"
    },
    "tags": []
   },
   "outputs": [],
   "source": [
    "cs = mw.CrossSection(\n",
    "    cell=cell,\n",
    "    env=env,\n",
    ")"
   ]
  },
  {
   "cell_type": "markdown",
   "id": "c7228a8f-ef31-4372-82a3-e6734ae43c93",
   "metadata": {
    "papermill": {
     "duration": 0.076407,
     "end_time": "2023-06-05T20:32:23.974978",
     "exception": false,
     "start_time": "2023-06-05T20:32:23.898571",
     "status": "completed"
    },
    "tags": []
   },
   "source": [
    "self-deserialization:"
   ]
  },
  {
   "cell_type": "code",
   "execution_count": null,
   "id": "05b1ba01-5d9d-4fb5-9f22-83bd803bf533",
   "metadata": {
    "papermill": {
     "duration": 0.163404,
     "end_time": "2023-06-05T20:32:24.201775",
     "exception": false,
     "start_time": "2023-06-05T20:32:24.038371",
     "status": "completed"
    },
    "tags": []
   },
   "outputs": [],
   "source": [
    "mw.CrossSection.parse_obj(cs)"
   ]
  },
  {
   "cell_type": "markdown",
   "id": "436fb94c-1ae4-4655-8b61-0f18e584d89c",
   "metadata": {
    "papermill": {
     "duration": 0.095679,
     "end_time": "2023-06-05T20:32:24.386748",
     "exception": false,
     "start_time": "2023-06-05T20:32:24.291069",
     "status": "completed"
    },
    "tags": []
   },
   "source": [
    "### dictionary"
   ]
  },
  {
   "cell_type": "markdown",
   "id": "7091a293-6c45-40eb-9789-5ff7d709ca11",
   "metadata": {
    "papermill": {
     "duration": 0.102335,
     "end_time": "2023-06-05T20:32:24.587320",
     "exception": false,
     "start_time": "2023-06-05T20:32:24.484985",
     "status": "completed"
    },
    "tags": []
   },
   "source": [
    "serialize"
   ]
  },
  {
   "cell_type": "code",
   "execution_count": null,
   "id": "266233ce-0496-494a-8370-4bc6f1874f40",
   "metadata": {
    "papermill": {
     "duration": 0.122326,
     "end_time": "2023-06-05T20:32:24.812798",
     "exception": false,
     "start_time": "2023-06-05T20:32:24.690472",
     "status": "completed"
    },
    "tags": []
   },
   "outputs": [],
   "source": [
    "dic = cs.dict()\n",
    "dic"
   ]
  },
  {
   "cell_type": "markdown",
   "id": "5ca28749-d495-45ee-84a1-6ed8d18492ac",
   "metadata": {
    "papermill": {
     "duration": 0.105313,
     "end_time": "2023-06-05T20:32:25.037364",
     "exception": false,
     "start_time": "2023-06-05T20:32:24.932051",
     "status": "completed"
    },
    "tags": []
   },
   "source": [
    "deserialize"
   ]
  },
  {
   "cell_type": "code",
   "execution_count": null,
   "id": "eb32d9a9-3727-48b7-9df6-51e9f9a4bdf0",
   "metadata": {
    "papermill": {
     "duration": 0.127258,
     "end_time": "2023-06-05T20:32:25.268628",
     "exception": false,
     "start_time": "2023-06-05T20:32:25.141370",
     "status": "completed"
    },
    "tags": []
   },
   "outputs": [],
   "source": [
    "mw.CrossSection.parse_obj(dic)"
   ]
  },
  {
   "cell_type": "markdown",
   "id": "d4793785-5a76-49dd-b489-9b6e703a1e4f",
   "metadata": {
    "papermill": {
     "duration": 0.079786,
     "end_time": "2023-06-05T20:32:25.417040",
     "exception": false,
     "start_time": "2023-06-05T20:32:25.337254",
     "status": "completed"
    },
    "tags": []
   },
   "source": [
    "### json"
   ]
  },
  {
   "cell_type": "markdown",
   "id": "2a7e7d6e-4528-4cb1-925f-b109833bc0f5",
   "metadata": {
    "papermill": {
     "duration": 0.066623,
     "end_time": "2023-06-05T20:32:25.583383",
     "exception": false,
     "start_time": "2023-06-05T20:32:25.516760",
     "status": "completed"
    },
    "tags": []
   },
   "source": [
    "serialize"
   ]
  },
  {
   "cell_type": "code",
   "execution_count": null,
   "id": "32036233-fa56-4ef8-b52b-e7d612a8493f",
   "metadata": {
    "papermill": {
     "duration": 0.117948,
     "end_time": "2023-06-05T20:32:25.778532",
     "exception": false,
     "start_time": "2023-06-05T20:32:25.660584",
     "status": "completed"
    },
    "tags": []
   },
   "outputs": [],
   "source": [
    "s = cs.json()\n",
    "f\"{s[:100]}...\""
   ]
  },
  {
   "cell_type": "markdown",
   "id": "c41e75dc-9419-40f5-92a6-b7c053ed0dd2",
   "metadata": {
    "papermill": {
     "duration": 0.103505,
     "end_time": "2023-06-05T20:32:25.995184",
     "exception": false,
     "start_time": "2023-06-05T20:32:25.891679",
     "status": "completed"
    },
    "tags": []
   },
   "source": [
    "deserialize"
   ]
  },
  {
   "cell_type": "code",
   "execution_count": null,
   "id": "dfececec-be99-4f86-b109-2fec00bc69be",
   "metadata": {
    "papermill": {
     "duration": 0.191576,
     "end_time": "2023-06-05T20:32:26.288187",
     "exception": false,
     "start_time": "2023-06-05T20:32:26.096611",
     "status": "completed"
    },
    "tags": []
   },
   "outputs": [],
   "source": [
    "mw.CrossSection.parse_raw(s)"
   ]
  },
  {
   "cell_type": "markdown",
   "id": "0992b535-f068-41fd-8d06-55533818cfb0",
   "metadata": {
    "papermill": {
     "duration": 0.097728,
     "end_time": "2023-06-05T20:32:26.490691",
     "exception": false,
     "start_time": "2023-06-05T20:32:26.392963",
     "status": "completed"
    },
    "tags": []
   },
   "source": [
    "## Mode"
   ]
  },
  {
   "cell_type": "code",
   "execution_count": null,
   "id": "05b68456",
   "metadata": {
    "papermill": {
     "duration": 0.085293,
     "end_time": "2023-06-05T20:32:26.651116",
     "exception": false,
     "start_time": "2023-06-05T20:32:26.565823",
     "status": "completed"
    },
    "tags": []
   },
   "outputs": [],
   "source": [
    "schema, definitions, nested_models = model_process_schema(\n",
    "    mw.Mode,\n",
    "    model_name_map=model_name_map,\n",
    ")\n",
    "display(schema)"
   ]
  },
  {
   "cell_type": "code",
   "execution_count": null,
   "id": "decadd35-7512-445c-a1a0-341a048156c3",
   "metadata": {
    "tags": []
   },
   "outputs": [],
   "source": [
    "cs"
   ]
  },
  {
   "cell_type": "code",
   "execution_count": null,
   "id": "262cfb71-3c8f-4678-a00f-2ae4c782a78b",
   "metadata": {
    "tags": []
   },
   "outputs": [],
   "source": [
    "cs.cell.materials"
   ]
  },
  {
   "cell_type": "code",
   "execution_count": null,
   "id": "829d3e4a-f16e-4c26-b258-8da0b1cf3b9d",
   "metadata": {
    "papermill": {
     "duration": 3.490989,
     "end_time": "2023-06-05T20:32:30.217152",
     "exception": false,
     "start_time": "2023-06-05T20:32:26.726163",
     "status": "completed"
    },
    "tags": []
   },
   "outputs": [],
   "source": [
    "mode = mw.compute_modes(cs, 1)[0]"
   ]
  },
  {
   "cell_type": "markdown",
   "id": "79033454-a45a-43a5-9ebc-5b00bec0e1c9",
   "metadata": {
    "papermill": {
     "duration": 0.133366,
     "end_time": "2023-06-05T20:32:30.452804",
     "exception": false,
     "start_time": "2023-06-05T20:32:30.319438",
     "status": "completed"
    },
    "tags": []
   },
   "source": [
    "self-deserialization:"
   ]
  },
  {
   "cell_type": "code",
   "execution_count": null,
   "id": "55420e37-4241-407a-bcbb-4d0d5c36d093",
   "metadata": {
    "papermill": {
     "duration": 0.394334,
     "end_time": "2023-06-05T20:32:30.970573",
     "exception": false,
     "start_time": "2023-06-05T20:32:30.576239",
     "status": "completed"
    },
    "tags": []
   },
   "outputs": [],
   "source": [
    "mw.Mode.parse_obj(mode)"
   ]
  },
  {
   "cell_type": "markdown",
   "id": "a1194be4-2268-4ccc-8768-6b841454c75a",
   "metadata": {
    "papermill": {
     "duration": 0.115778,
     "end_time": "2023-06-05T20:32:31.181178",
     "exception": false,
     "start_time": "2023-06-05T20:32:31.065400",
     "status": "completed"
    },
    "tags": []
   },
   "source": [
    "### dictionary"
   ]
  },
  {
   "cell_type": "markdown",
   "id": "572b47dc-82ca-45ea-b4c0-f411f730e2ec",
   "metadata": {
    "papermill": {
     "duration": 0.101948,
     "end_time": "2023-06-05T20:32:31.389109",
     "exception": false,
     "start_time": "2023-06-05T20:32:31.287161",
     "status": "completed"
    },
    "tags": []
   },
   "source": [
    "serialize"
   ]
  },
  {
   "cell_type": "code",
   "execution_count": null,
   "id": "4a117bb3-0fd3-4b1b-8bf4-6e24cfe0ed5b",
   "metadata": {
    "papermill": {
     "duration": 0.089645,
     "end_time": "2023-06-05T20:32:31.550973",
     "exception": false,
     "start_time": "2023-06-05T20:32:31.461328",
     "status": "completed"
    },
    "tags": []
   },
   "outputs": [],
   "source": [
    "dic = mode.dict()\n",
    "dic"
   ]
  },
  {
   "cell_type": "markdown",
   "id": "01b53f19-8ddf-46d4-b3fc-a156e66e7d60",
   "metadata": {
    "papermill": {
     "duration": 0.103607,
     "end_time": "2023-06-05T20:32:31.727740",
     "exception": false,
     "start_time": "2023-06-05T20:32:31.624133",
     "status": "completed"
    },
    "tags": []
   },
   "source": [
    "deserialize"
   ]
  },
  {
   "cell_type": "code",
   "execution_count": null,
   "id": "61eb16be-eaa8-46e5-868a-3f04db3187cb",
   "metadata": {
    "papermill": {
     "duration": 0.387783,
     "end_time": "2023-06-05T20:32:32.205354",
     "exception": false,
     "start_time": "2023-06-05T20:32:31.817571",
     "status": "completed"
    },
    "tags": []
   },
   "outputs": [],
   "source": [
    "mw.Mode.parse_obj(dic)"
   ]
  },
  {
   "cell_type": "markdown",
   "id": "6af11812-513c-4ebe-a884-898688e83fa8",
   "metadata": {
    "papermill": {
     "duration": 0.080119,
     "end_time": "2023-06-05T20:32:32.388256",
     "exception": false,
     "start_time": "2023-06-05T20:32:32.308137",
     "status": "completed"
    },
    "tags": []
   },
   "source": [
    "### json"
   ]
  },
  {
   "cell_type": "markdown",
   "id": "0cb0bace-5dd8-4b15-bbaf-55323d0482e9",
   "metadata": {
    "papermill": {
     "duration": 0.100557,
     "end_time": "2023-06-05T20:32:32.582395",
     "exception": false,
     "start_time": "2023-06-05T20:32:32.481838",
     "status": "completed"
    },
    "tags": []
   },
   "source": [
    "serialize"
   ]
  },
  {
   "cell_type": "code",
   "execution_count": null,
   "id": "e6a4a093-c3fe-4148-bc99-1ecbbd56a377",
   "metadata": {
    "papermill": {
     "duration": 0.33748,
     "end_time": "2023-06-05T20:32:33.034916",
     "exception": false,
     "start_time": "2023-06-05T20:32:32.697436",
     "status": "completed"
    },
    "tags": []
   },
   "outputs": [],
   "source": [
    "s = mode.json()\n",
    "f\"{s[:100]}...\""
   ]
  },
  {
   "cell_type": "markdown",
   "id": "2a1530c3-2b17-4b69-9742-bde5bde746c7",
   "metadata": {
    "papermill": {
     "duration": 0.112841,
     "end_time": "2023-06-05T20:32:33.205011",
     "exception": false,
     "start_time": "2023-06-05T20:32:33.092170",
     "status": "completed"
    },
    "tags": []
   },
   "source": [
    "deserialize"
   ]
  },
  {
   "cell_type": "code",
   "execution_count": null,
   "id": "a812d568-5eee-479b-9335-d84648a9084f",
   "metadata": {
    "papermill": {
     "duration": 0.363931,
     "end_time": "2023-06-05T20:32:33.652384",
     "exception": false,
     "start_time": "2023-06-05T20:32:33.288453",
     "status": "completed"
    },
    "tags": []
   },
   "outputs": [],
   "source": [
    "mw.Mode.parse_raw(s)"
   ]
  }
 ],
 "metadata": {
  "kernelspec": {
   "display_name": "hom",
   "language": "python",
   "name": "hom"
  },
  "language_info": {
   "codemirror_mode": {
    "name": "ipython",
    "version": 3
   },
   "file_extension": ".py",
   "mimetype": "text/x-python",
   "name": "python",
   "nbconvert_exporter": "python",
   "pygments_lexer": "ipython3",
   "version": "3.10.11"
  },
  "papermill": {
   "default_parameters": {},
   "duration": 30.386232,
   "end_time": "2023-06-05T20:32:34.816341",
   "environment_variables": {},
   "exception": null,
   "input_path": "./tests/nbs/serialization.ipynb",
   "output_path": "./tests/nbs/serialization.ipynb",
   "parameters": {},
   "start_time": "2023-06-05T20:32:04.430109",
   "version": "2.3.4"
  },
  "vscode": {
   "interpreter": {
    "hash": "a8971708a364ac32208e981bf301b4ca4d16b0e5b4fdbcfee80044478ab63430"
   }
  }
 },
 "nbformat": 4,
 "nbformat_minor": 5
}
