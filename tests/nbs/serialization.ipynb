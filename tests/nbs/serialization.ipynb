{
 "cells": [
  {
   "cell_type": "markdown",
   "id": "dd643a5d-d081-48d7-a8ed-2c4b80faa122",
   "metadata": {
    "papermill": {
     "duration": 0.00618,
     "end_time": "2022-07-19T07:22:49.005063",
     "exception": false,
     "start_time": "2022-07-19T07:22:48.998883",
     "status": "completed"
    },
    "tags": []
   },
   "source": [
    "# Serialization\n",
    "\n",
    "> Everything in the `meow` package is easily serializable.\n",
    "\n",
    "Everything in the `meow` package is easily serializable. Why is that useful? Well this allows you to very quite easily make a REST API out of `meow`. And why is that useful? Having an FDE-solver behind a REST-api allows you to simultaneously solve for the modes in all the EME cells at once! Anyway, this notebook serves to show how the most common data structures are _serialized_, we might go into the details of making an api at a later stage."
   ]
  },
  {
   "cell_type": "code",
   "execution_count": null,
   "id": "4859f69dd76d8b17",
   "metadata": {
    "papermill": {
     "duration": 3.713703,
     "end_time": "2022-07-19T07:22:52.722364",
     "exception": false,
     "start_time": "2022-07-19T07:22:49.008661",
     "status": "completed"
    },
    "tags": [
     "remove-cell"
    ]
   },
   "outputs": [],
   "source": [
    "import json\n",
    "from typing import List\n",
    "\n",
    "import meow as mw\n",
    "import numpy as np"
   ]
  },
  {
   "cell_type": "markdown",
   "id": "e563a59a-6494-431b-b124-6c1804a6c7cb",
   "metadata": {
    "papermill": {
     "duration": 0.002802,
     "end_time": "2022-07-19T07:22:52.735107",
     "exception": false,
     "start_time": "2022-07-19T07:22:52.732305",
     "status": "completed"
    },
    "tags": []
   },
   "source": [
    "## Geometry"
   ]
  },
  {
   "cell_type": "code",
   "execution_count": null,
   "id": "e2b9b50f-9ec1-440d-a2ae-207cd3a90251",
   "metadata": {},
   "outputs": [],
   "source": [
    "length = 10.0\n",
    "box = mw.Box(\n",
    "    x_min=-1.0,\n",
    "    x_max=1.0,\n",
    "    y_min=-1.0,\n",
    "    y_max=0.0,\n",
    "    z_min=0.0,\n",
    "    z_max=length,\n",
    ")"
   ]
  },
  {
   "cell_type": "markdown",
   "id": "b65a79f2-0d39-419e-a8b8-78db2fd6d103",
   "metadata": {},
   "source": [
    "self-deserialization:"
   ]
  },
  {
   "cell_type": "code",
   "execution_count": null,
   "id": "9111a184-5700-4a26-a7b0-da51e079d437",
   "metadata": {},
   "outputs": [],
   "source": [
    "mw.Geometry.parse_obj(box)"
   ]
  },
  {
   "cell_type": "markdown",
   "id": "97c97603-fda3-4bd9-bb47-9695ec739b21",
   "metadata": {},
   "source": [
    "### dictionary"
   ]
  },
  {
   "cell_type": "markdown",
   "id": "8a57a18e-3b7f-45af-b72a-5cf826b13cea",
   "metadata": {},
   "source": [
    "serialize"
   ]
  },
  {
   "cell_type": "code",
   "execution_count": null,
   "id": "4c50b221-05a9-4ae1-b2e4-18c52a953028",
   "metadata": {},
   "outputs": [],
   "source": [
    "dic = box.dict()\n",
    "dic"
   ]
  },
  {
   "cell_type": "markdown",
   "id": "9d27cc57-e33f-4e55-b7ba-a3b16cfb7c79",
   "metadata": {},
   "source": [
    "deserialize"
   ]
  },
  {
   "cell_type": "code",
   "execution_count": null,
   "id": "ac787ce8-9f59-4317-ad89-14ff63fc65b7",
   "metadata": {},
   "outputs": [],
   "source": [
    "mw.Geometry.parse_obj(dic)"
   ]
  },
  {
   "cell_type": "markdown",
   "id": "7f58e463-5023-484a-a5c3-47f78325b6c6",
   "metadata": {},
   "source": [
    "### json"
   ]
  },
  {
   "cell_type": "markdown",
   "id": "8081ee06-e20c-4e59-8b02-a2ed117fda1e",
   "metadata": {},
   "source": [
    "serialize"
   ]
  },
  {
   "cell_type": "code",
   "execution_count": null,
   "id": "4d6580fc-209b-436e-8a84-7fdce80d4e1f",
   "metadata": {},
   "outputs": [],
   "source": [
    "s = box.json()\n",
    "s"
   ]
  },
  {
   "cell_type": "markdown",
   "id": "cfe0bdf2-fb99-4158-9945-5195d1ff13e0",
   "metadata": {},
   "source": [
    "deserialize"
   ]
  },
  {
   "cell_type": "code",
   "execution_count": null,
   "id": "ce41e0ec-f8e7-421f-8af0-ba20fc6503f1",
   "metadata": {},
   "outputs": [],
   "source": [
    "mw.Geometry.parse_raw(s)"
   ]
  },
  {
   "cell_type": "markdown",
   "id": "8702bd10-ed03-408a-a931-447d59a777f1",
   "metadata": {
    "papermill": {
     "duration": 0.002802,
     "end_time": "2022-07-19T07:22:52.735107",
     "exception": false,
     "start_time": "2022-07-19T07:22:52.732305",
     "status": "completed"
    },
    "tags": []
   },
   "source": [
    "## Material"
   ]
  },
  {
   "cell_type": "markdown",
   "id": "e586860f-cb6e-444b-8bca-71f6255e1d9c",
   "metadata": {},
   "source": [
    "self-deserialization:"
   ]
  },
  {
   "cell_type": "code",
   "execution_count": null,
   "id": "80ca82da-88ff-4f4f-8278-81100438f65d",
   "metadata": {},
   "outputs": [],
   "source": [
    "mw.Material.parse_obj(mw.silicon)"
   ]
  },
  {
   "cell_type": "markdown",
   "id": "b3a7244e-21c0-480d-9d10-581a5c5623e0",
   "metadata": {},
   "source": [
    "### dictionary"
   ]
  },
  {
   "cell_type": "markdown",
   "id": "f2ef4e23-2165-486b-b51a-cebf29fcce1a",
   "metadata": {},
   "source": [
    "serialize"
   ]
  },
  {
   "cell_type": "code",
   "execution_count": null,
   "id": "0ec8b96f-4920-4e55-af9a-8528b5b95f66",
   "metadata": {},
   "outputs": [],
   "source": [
    "dic = mw.silicon.dict()\n",
    "dic"
   ]
  },
  {
   "cell_type": "markdown",
   "id": "89fdf839-77b1-489b-a445-67c6b848997b",
   "metadata": {},
   "source": [
    "deserialize"
   ]
  },
  {
   "cell_type": "code",
   "execution_count": null,
   "id": "2d57cc42-8b84-44fe-9f21-75d997bccf45",
   "metadata": {},
   "outputs": [],
   "source": [
    "mw.Material.parse_obj(dic)"
   ]
  },
  {
   "cell_type": "markdown",
   "id": "b5a01c4c-0baa-40ff-84ab-ad4d43c7a2b9",
   "metadata": {},
   "source": [
    "### json"
   ]
  },
  {
   "cell_type": "markdown",
   "id": "ab48f31f-c18d-44c8-8417-72bbe469f7d0",
   "metadata": {},
   "source": [
    "serialize"
   ]
  },
  {
   "cell_type": "code",
   "execution_count": null,
   "id": "c5d83d0c-4dea-4b7f-ba92-a56a6388394b",
   "metadata": {},
   "outputs": [],
   "source": [
    "s = mw.silicon.json()\n",
    "f\"{s[:100]}...\""
   ]
  },
  {
   "cell_type": "markdown",
   "id": "19c837e5-b187-41a0-b70b-6bf775475054",
   "metadata": {},
   "source": [
    "deserialize"
   ]
  },
  {
   "cell_type": "code",
   "execution_count": null,
   "id": "f71a3ff6-83ee-4c03-8eaa-0e174aebe020",
   "metadata": {},
   "outputs": [],
   "source": [
    "mw.Material.parse_raw(s)"
   ]
  },
  {
   "cell_type": "markdown",
   "id": "2f141592-ddc4-42a9-96a9-80945373e106",
   "metadata": {},
   "source": [
    "## Structure"
   ]
  },
  {
   "cell_type": "code",
   "execution_count": null,
   "id": "c8e8f32b-a087-46c1-b15d-296aff7a17c7",
   "metadata": {},
   "outputs": [],
   "source": [
    "struct = mw.Structure(material=mw.silicon, geometry=box)"
   ]
  },
  {
   "cell_type": "markdown",
   "id": "d85251f3-1cdd-4328-8fe2-a35b2f58bb9a",
   "metadata": {},
   "source": [
    "self-deserialization:"
   ]
  },
  {
   "cell_type": "code",
   "execution_count": null,
   "id": "bbf8f8b4-bf54-4ce2-883b-3a3ca2aad23c",
   "metadata": {},
   "outputs": [],
   "source": [
    "mw.Structure.parse_obj(struct)"
   ]
  },
  {
   "cell_type": "markdown",
   "id": "6595d99f-121a-4fd5-8d06-7e55ab71b395",
   "metadata": {},
   "source": [
    "### dictionary"
   ]
  },
  {
   "cell_type": "markdown",
   "id": "9afa936b-a4ac-4854-854c-0bdefff2cd7f",
   "metadata": {},
   "source": [
    "serialize"
   ]
  },
  {
   "cell_type": "code",
   "execution_count": null,
   "id": "043521d2-2317-4d79-8f85-372013a0f902",
   "metadata": {},
   "outputs": [],
   "source": [
    "dic = struct.dict()\n",
    "dic"
   ]
  },
  {
   "cell_type": "markdown",
   "id": "403af19d-c5de-4d17-9f3b-d0aed5b59d87",
   "metadata": {},
   "source": [
    "deserialize"
   ]
  },
  {
   "cell_type": "code",
   "execution_count": null,
   "id": "d1bd9fa5-d5f5-4011-a6ad-256bd3af98cf",
   "metadata": {},
   "outputs": [],
   "source": [
    "struct = mw.Structure.parse_obj(dic)\n",
    "struct"
   ]
  },
  {
   "cell_type": "markdown",
   "id": "5fa2054c-26b4-46e2-8ff6-f1b693e54e0a",
   "metadata": {},
   "source": [
    "### json"
   ]
  },
  {
   "cell_type": "markdown",
   "id": "7680a15e-5373-4a57-a45c-5dbec551885c",
   "metadata": {},
   "source": [
    "serialize"
   ]
  },
  {
   "cell_type": "code",
   "execution_count": null,
   "id": "d408f86f-ad77-4a56-b131-1db8f825161b",
   "metadata": {},
   "outputs": [],
   "source": [
    "s = struct.json()\n",
    "f\"{s[:100]}...\""
   ]
  },
  {
   "cell_type": "markdown",
   "id": "b63531e4-13d6-4754-aaaf-ea32304a61d5",
   "metadata": {},
   "source": [
    "deserialize"
   ]
  },
  {
   "cell_type": "code",
   "execution_count": null,
   "id": "40bdd675-530e-4f74-9f48-cad67667d81b",
   "metadata": {},
   "outputs": [],
   "source": [
    "mw.Structure.parse_raw(s)"
   ]
  },
  {
   "cell_type": "markdown",
   "id": "cfc57307-7bdd-4f8d-af9a-fcd7fb286dd9",
   "metadata": {},
   "source": [
    "## Cell"
   ]
  },
  {
   "cell_type": "code",
   "execution_count": null,
   "id": "50df56f0-ce78-41f5-a854-8d1cfa486392",
   "metadata": {
    "papermill": {
     "duration": 0.03537,
     "end_time": "2022-07-19T07:22:52.931179",
     "exception": false,
     "start_time": "2022-07-19T07:22:52.895809",
     "status": "completed"
    },
    "tags": []
   },
   "outputs": [],
   "source": [
    "cell = mw.Cell(\n",
    "    structures=[struct],\n",
    "    mesh=mw.Mesh2d(\n",
    "        x = np.linspace(-1, 1, 101),\n",
    "        y = np.linspace(-1, 1, 101),\n",
    "    ),\n",
    "    z_min=0.0,\n",
    "    z_max=length,\n",
    ")"
   ]
  },
  {
   "cell_type": "code",
   "execution_count": null,
   "id": "5997b9e2-28ad-4809-831a-b94732edcac8",
   "metadata": {},
   "outputs": [],
   "source": [
    "cell.materials"
   ]
  },
  {
   "cell_type": "markdown",
   "id": "16b0c4aa-0e9f-4765-b16f-9731daef1f17",
   "metadata": {},
   "source": [
    "self-deserialization:"
   ]
  },
  {
   "cell_type": "code",
   "execution_count": null,
   "id": "b49d9059-9686-4d37-9faf-c92a9963e5e0",
   "metadata": {},
   "outputs": [],
   "source": [
    "mw.Cell.parse_obj(cell)"
   ]
  },
  {
   "cell_type": "markdown",
   "id": "7f3102e1-c07f-47b6-82b3-579efbedd490",
   "metadata": {},
   "source": [
    "### dictionary"
   ]
  },
  {
   "cell_type": "markdown",
   "id": "eea1cdd7-09c3-4538-bd75-aa319cf7d058",
   "metadata": {},
   "source": [
    "serialize"
   ]
  },
  {
   "cell_type": "code",
   "execution_count": null,
   "id": "7cb304de-ee82-4525-b1c9-9f58c1c66b63",
   "metadata": {},
   "outputs": [],
   "source": [
    "dic = cell.dict()\n",
    "dic"
   ]
  },
  {
   "cell_type": "markdown",
   "id": "f3ff1076-8e83-433d-8988-e3bed1152d03",
   "metadata": {},
   "source": [
    "deserialize"
   ]
  },
  {
   "cell_type": "code",
   "execution_count": null,
   "id": "773dec9b-b869-4041-95f0-88897b344258",
   "metadata": {},
   "outputs": [],
   "source": [
    "cell = mw.Cell.parse_obj(dic)\n",
    "cell"
   ]
  },
  {
   "cell_type": "markdown",
   "id": "22bf02c7-8770-4116-8255-5a1090b42c64",
   "metadata": {},
   "source": [
    "### json"
   ]
  },
  {
   "cell_type": "markdown",
   "id": "3aca87b0-4d97-4ff9-a478-1eb007b0bf37",
   "metadata": {},
   "source": [
    "serialize"
   ]
  },
  {
   "cell_type": "code",
   "execution_count": null,
   "id": "2ea1b0fa-1721-4c02-ac11-5dc92fd80c0a",
   "metadata": {},
   "outputs": [],
   "source": [
    "s = cell.json()\n",
    "f\"{s[:100]}...\""
   ]
  },
  {
   "cell_type": "markdown",
   "id": "bf3f8608-c600-4f26-84d8-f406c4b7152e",
   "metadata": {},
   "source": [
    "deserialize"
   ]
  },
  {
   "cell_type": "code",
   "execution_count": null,
   "id": "1cd7d7c8-44c6-43fd-ad9c-2d9aee912b68",
   "metadata": {},
   "outputs": [],
   "source": [
    "mw.Cell.parse_raw(s)"
   ]
  },
  {
   "cell_type": "markdown",
   "id": "b6b7fded-d1f5-4440-99fd-6a2118e65ff0",
   "metadata": {},
   "source": [
    "## Environment"
   ]
  },
  {
   "cell_type": "code",
   "execution_count": null,
   "id": "62ef31d0-373a-4337-9f07-26dd0c0d8a8e",
   "metadata": {},
   "outputs": [],
   "source": [
    "env = mw.Environment(wl=1.55, T=25.0)"
   ]
  },
  {
   "cell_type": "markdown",
   "id": "c1d3edf8-b41c-4fbf-bd69-a4ef91fa9afe",
   "metadata": {},
   "source": [
    "self-deserialization:"
   ]
  },
  {
   "cell_type": "code",
   "execution_count": null,
   "id": "02190849-3009-41a9-ad48-672a01ff0703",
   "metadata": {},
   "outputs": [],
   "source": [
    "mw.Environment.parse_obj(env)"
   ]
  },
  {
   "cell_type": "markdown",
   "id": "528afb3c-3011-4b11-badd-32617e0ed4aa",
   "metadata": {},
   "source": [
    "### dictionary"
   ]
  },
  {
   "cell_type": "markdown",
   "id": "607ffed2-0927-40fb-846b-73e0daafd3fd",
   "metadata": {},
   "source": [
    "serialize"
   ]
  },
  {
   "cell_type": "code",
   "execution_count": null,
   "id": "d0927998-5ef0-4926-8fd6-dadf5e4e05e1",
   "metadata": {},
   "outputs": [],
   "source": [
    "dic = env.dict()\n",
    "dic"
   ]
  },
  {
   "cell_type": "markdown",
   "id": "a56a75b1-c2c2-4651-8c60-957722a28eab",
   "metadata": {},
   "source": [
    "deserialize"
   ]
  },
  {
   "cell_type": "code",
   "execution_count": null,
   "id": "23a6398a-ccad-486a-9663-8b84d8b0830c",
   "metadata": {},
   "outputs": [],
   "source": [
    "mw.Environment.parse_obj(dic)"
   ]
  },
  {
   "cell_type": "markdown",
   "id": "6afad3d5-9137-45c2-8dd1-ced73c32e03a",
   "metadata": {},
   "source": [
    "### json"
   ]
  },
  {
   "cell_type": "markdown",
   "id": "9326a85a-237c-49bd-a412-4aa11fda8ce3",
   "metadata": {},
   "source": [
    "serialize"
   ]
  },
  {
   "cell_type": "code",
   "execution_count": null,
   "id": "60128d4b-8eea-4a2d-9086-a84689e75165",
   "metadata": {},
   "outputs": [],
   "source": [
    "s = env.json()\n",
    "s"
   ]
  },
  {
   "cell_type": "markdown",
   "id": "cca849d8-27a7-42e0-992b-f5abef29fb95",
   "metadata": {},
   "source": [
    "deserialize"
   ]
  },
  {
   "cell_type": "code",
   "execution_count": null,
   "id": "35815fcd-284e-49da-b092-e07c993e63b6",
   "metadata": {},
   "outputs": [],
   "source": [
    "mw.Environment.parse_raw(s)"
   ]
  },
  {
   "cell_type": "markdown",
   "id": "ee4e586c-bc2d-427f-a95e-83cc7b0af5e2",
   "metadata": {
    "papermill": {
     "duration": 0.016673,
     "end_time": "2022-07-19T07:22:53.167835",
     "exception": false,
     "start_time": "2022-07-19T07:22:53.151162",
     "status": "completed"
    },
    "tags": []
   },
   "source": [
    "## Cross Section"
   ]
  },
  {
   "cell_type": "code",
   "execution_count": null,
   "id": "a88e01ae-06c4-43d9-8c2e-dfe2ee4e0d91",
   "metadata": {
    "papermill": {
     "duration": 0.170263,
     "end_time": "2022-07-19T07:22:53.355298",
     "exception": false,
     "start_time": "2022-07-19T07:22:53.185035",
     "status": "completed"
    },
    "tags": []
   },
   "outputs": [],
   "source": [
    "cs = mw.CrossSection(\n",
    "    cell=cell,\n",
    "    env=env,\n",
    ")"
   ]
  },
  {
   "cell_type": "markdown",
   "id": "c7228a8f-ef31-4372-82a3-e6734ae43c93",
   "metadata": {},
   "source": [
    "self-deserialization:"
   ]
  },
  {
   "cell_type": "code",
   "execution_count": null,
   "id": "05b1ba01-5d9d-4fb5-9f22-83bd803bf533",
   "metadata": {},
   "outputs": [],
   "source": [
    "mw.CrossSection.parse_obj(cs)"
   ]
  },
  {
   "cell_type": "markdown",
   "id": "436fb94c-1ae4-4655-8b61-0f18e584d89c",
   "metadata": {},
   "source": [
    "### dictionary"
   ]
  },
  {
   "cell_type": "markdown",
   "id": "7091a293-6c45-40eb-9789-5ff7d709ca11",
   "metadata": {},
   "source": [
    "serialize"
   ]
  },
  {
   "cell_type": "code",
   "execution_count": null,
   "id": "266233ce-0496-494a-8370-4bc6f1874f40",
   "metadata": {},
   "outputs": [],
   "source": [
    "dic = cs.dict()\n",
    "dic"
   ]
  },
  {
   "cell_type": "markdown",
   "id": "5ca28749-d495-45ee-84a1-6ed8d18492ac",
   "metadata": {},
   "source": [
    "deserialize"
   ]
  },
  {
   "cell_type": "code",
   "execution_count": null,
   "id": "eb32d9a9-3727-48b7-9df6-51e9f9a4bdf0",
   "metadata": {},
   "outputs": [],
   "source": [
    "mw.CrossSection.parse_obj(dic)"
   ]
  },
  {
   "cell_type": "markdown",
   "id": "d4793785-5a76-49dd-b489-9b6e703a1e4f",
   "metadata": {},
   "source": [
    "### json"
   ]
  },
  {
   "cell_type": "markdown",
   "id": "2a7e7d6e-4528-4cb1-925f-b109833bc0f5",
   "metadata": {},
   "source": [
    "serialize"
   ]
  },
  {
   "cell_type": "code",
   "execution_count": null,
   "id": "32036233-fa56-4ef8-b52b-e7d612a8493f",
   "metadata": {},
   "outputs": [],
   "source": [
    "s = cs.json()\n",
    "f\"{s[:100]}...\""
   ]
  },
  {
   "cell_type": "markdown",
   "id": "c41e75dc-9419-40f5-92a6-b7c053ed0dd2",
   "metadata": {},
   "source": [
    "deserialize"
   ]
  },
  {
   "cell_type": "code",
   "execution_count": null,
   "id": "dfececec-be99-4f86-b109-2fec00bc69be",
   "metadata": {},
   "outputs": [],
   "source": [
    "mw.CrossSection.parse_raw(s)"
   ]
  },
  {
   "cell_type": "markdown",
   "id": "0992b535-f068-41fd-8d06-55533818cfb0",
   "metadata": {
    "papermill": {
     "duration": 0.017104,
     "end_time": "2022-07-19T07:22:53.389506",
     "exception": false,
     "start_time": "2022-07-19T07:22:53.372402",
     "status": "completed"
    },
    "tags": []
   },
   "source": [
    "## Mode"
   ]
  },
  {
   "cell_type": "code",
   "execution_count": null,
   "id": "829d3e4a-f16e-4c26-b258-8da0b1cf3b9d",
   "metadata": {
    "papermill": {
     "duration": 0.017104,
     "end_time": "2022-07-19T07:22:53.389506",
     "exception": false,
     "start_time": "2022-07-19T07:22:53.372402",
     "status": "completed"
    },
    "tags": []
   },
   "outputs": [],
   "source": [
    "mode = mw.compute_modes(cs, 1)[0]"
   ]
  },
  {
   "cell_type": "markdown",
   "id": "79033454-a45a-43a5-9ebc-5b00bec0e1c9",
   "metadata": {},
   "source": [
    "self-deserialization:"
   ]
  },
  {
   "cell_type": "code",
   "execution_count": null,
   "id": "55420e37-4241-407a-bcbb-4d0d5c36d093",
   "metadata": {},
   "outputs": [],
   "source": [
    "mw.Mode.parse_obj(mode)"
   ]
  },
  {
   "cell_type": "markdown",
   "id": "a1194be4-2268-4ccc-8768-6b841454c75a",
   "metadata": {},
   "source": [
    "### dictionary"
   ]
  },
  {
   "cell_type": "markdown",
   "id": "572b47dc-82ca-45ea-b4c0-f411f730e2ec",
   "metadata": {},
   "source": [
    "serialize"
   ]
  },
  {
   "cell_type": "code",
   "execution_count": null,
   "id": "4a117bb3-0fd3-4b1b-8bf4-6e24cfe0ed5b",
   "metadata": {},
   "outputs": [],
   "source": [
    "dic = mode.dict()\n",
    "dic"
   ]
  },
  {
   "cell_type": "markdown",
   "id": "01b53f19-8ddf-46d4-b3fc-a156e66e7d60",
   "metadata": {},
   "source": [
    "deserialize"
   ]
  },
  {
   "cell_type": "code",
   "execution_count": null,
   "id": "61eb16be-eaa8-46e5-868a-3f04db3187cb",
   "metadata": {},
   "outputs": [],
   "source": [
    "mw.Mode.parse_obj(dic)"
   ]
  },
  {
   "cell_type": "markdown",
   "id": "6af11812-513c-4ebe-a884-898688e83fa8",
   "metadata": {},
   "source": [
    "### json"
   ]
  },
  {
   "cell_type": "markdown",
   "id": "0cb0bace-5dd8-4b15-bbaf-55323d0482e9",
   "metadata": {},
   "source": [
    "serialize"
   ]
  },
  {
   "cell_type": "code",
   "execution_count": null,
   "id": "e6a4a093-c3fe-4148-bc99-1ecbbd56a377",
   "metadata": {},
   "outputs": [],
   "source": [
    "s = mode.json()\n",
    "f\"{s[:100]}...\""
   ]
  },
  {
   "cell_type": "markdown",
   "id": "2a1530c3-2b17-4b69-9742-bde5bde746c7",
   "metadata": {},
   "source": [
    "deserialize"
   ]
  },
  {
   "cell_type": "code",
   "execution_count": null,
   "id": "a812d568-5eee-479b-9335-d84648a9084f",
   "metadata": {},
   "outputs": [],
   "source": [
    "mw.Mode.parse_raw(s)"
   ]
  }
 ],
 "metadata": {
  "kernelspec": {
   "display_name": "meow",
   "language": "python",
   "name": "meow"
  },
  "language_info": {
   "codemirror_mode": {
    "name": "ipython",
    "version": 3
   },
   "file_extension": ".py",
   "mimetype": "text/x-python",
   "name": "python",
   "nbconvert_exporter": "python",
   "pygments_lexer": "ipython3",
   "version": "3.10.6"
  },
  "papermill": {
   "default_parameters": {},
   "duration": 12.85024,
   "end_time": "2022-07-19T07:23:00.472571",
   "environment_variables": {},
   "exception": null,
   "input_path": "library/00_index.ipynb",
   "output_path": "library/00_index.ipynb",
   "parameters": {},
   "start_time": "2022-07-19T07:22:47.622331",
   "version": "2.3.4"
  },
  "vscode": {
   "interpreter": {
    "hash": "0dd118673efdbefb7257b2235dc4c000959f664fa5386b3652213e4a49c44469"
   }
  }
 },
 "nbformat": 4,
 "nbformat_minor": 5
}
