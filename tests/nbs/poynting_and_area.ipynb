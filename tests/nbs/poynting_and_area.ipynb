{
 "cells": [
  {
   "cell_type": "code",
   "execution_count": null,
   "metadata": {},
   "outputs": [],
   "source": [
    "import meow as mw\n",
    "import numpy as np\n",
    "import matplotlib.pyplot as plt\n",
    "plt.style.use(\"default\")"
   ]
  },
  {
   "attachments": {},
   "cell_type": "markdown",
   "metadata": {},
   "source": [
    "## Preparation\n",
    "let's perform a mode simulation"
   ]
  },
  {
   "cell_type": "code",
   "execution_count": null,
   "metadata": {},
   "outputs": [],
   "source": [
    "length = 10.0\n",
    "box = mw.Box(\n",
    "    x_min=-0.22,\n",
    "    x_max=0.22,\n",
    "    y_min=0,\n",
    "    y_max=0.22,\n",
    "    z_min=0.0,\n",
    "    z_max=length,\n",
    ")"
   ]
  },
  {
   "cell_type": "code",
   "execution_count": null,
   "metadata": {},
   "outputs": [],
   "source": [
    "struct = mw.Structure(material=mw.silicon, geometry=box)"
   ]
  },
  {
   "cell_type": "code",
   "execution_count": null,
   "metadata": {},
   "outputs": [],
   "source": [
    "cell = mw.Cell(\n",
    "    structures=[struct],\n",
    "    mesh=mw.Mesh2d(\n",
    "        x = np.linspace(-1, 1, 101),\n",
    "        y = np.linspace(-1, 1, 101),\n",
    "    ),\n",
    "    z_min=0.0,\n",
    "    z_max=length,\n",
    ")"
   ]
  },
  {
   "cell_type": "code",
   "execution_count": null,
   "metadata": {},
   "outputs": [],
   "source": [
    "env = mw.Environment(wl=1.55, T=25.0)"
   ]
  },
  {
   "cell_type": "code",
   "execution_count": null,
   "metadata": {},
   "outputs": [],
   "source": [
    "cs = mw.CrossSection(\n",
    "    cell=cell,\n",
    "    env=env,\n",
    ")"
   ]
  },
  {
   "cell_type": "code",
   "execution_count": null,
   "metadata": {},
   "outputs": [],
   "source": [
    "mode = mw.compute_modes(cs, 1)[0]"
   ]
  },
  {
   "attachments": {},
   "cell_type": "markdown",
   "metadata": {},
   "source": [
    "## get the Poynting Vector\n",
    "$$ \\vec{P} = \\vec{E} \\times \\vec{H} $$\n",
    "calculating the poynting vector is performed under the hood, when one of `Px`,`Py` or `Pz` is requested\n"
   ]
  },
  {
   "cell_type": "code",
   "execution_count": null,
   "metadata": {},
   "outputs": [],
   "source": [
    "mode.Px.shape"
   ]
  },
  {
   "attachments": {},
   "cell_type": "markdown",
   "metadata": {},
   "source": [
    "It can be used with the native visualization functions"
   ]
  },
  {
   "cell_type": "code",
   "execution_count": null,
   "metadata": {},
   "outputs": [],
   "source": [
    "mw.visualize(mode, fields=[\"Ex\"])\n",
    "mw.visualize(mode, fields=[\"Pz\"])"
   ]
  },
  {
   "attachments": {},
   "cell_type": "markdown",
   "metadata": {},
   "source": [
    "## Mode area calculation\n",
    "\n",
    "$$ A_{eff} = \\frac{\\left(\\int|\\vec{E}|^2dA\\right)^2}{\\int|\\vec{E}|^4dA} $$"
   ]
  },
  {
   "cell_type": "code",
   "execution_count": null,
   "metadata": {},
   "outputs": [],
   "source": [
    "mode.A\n"
   ]
  },
  {
   "attachments": {},
   "cell_type": "markdown",
   "metadata": {},
   "source": [
    "## Compare to integrate interpolate"
   ]
  },
  {
   "attachments": {},
   "cell_type": "markdown",
   "metadata": {},
   "source": [
    "We can also itegrate over the modal fields and derived quantities by first finding a suitable interpolation function. This is computationally much more expensive and not necessarily more accurate. It however provides tha benefit, that the integration can be performed over a region of interest, not limited to integer mesh positions. \n",
    "\n",
    "For the calculation of the effective mode area this is however not beneficial. Just as a demonstration:"
   ]
  },
  {
   "cell_type": "code",
   "execution_count": null,
   "metadata": {},
   "outputs": [],
   "source": [
    "from scipy.linalg import norm\n",
    "from meow.integrate import integrate_interpolate_2d as integrate_2d\n",
    "import numpy as np"
   ]
  },
  {
   "cell_type": "code",
   "execution_count": null,
   "metadata": {},
   "outputs": [],
   "source": [
    "vecE = np.stack([mode.Ex, mode.Ey, mode.Ez], axis=-1)\n",
    "E_sq = norm(vecE, axis=-1, ord=2)\n",
    "E_qu = E_sq**2\n",
    "x = mode.cs.mesh.x_\n",
    "y = mode.cs.mesh.y_\n",
    "integrate_2d(x,y,E_sq)**2 / integrate_2d(x,y,E_qu)"
   ]
  },
  {
   "attachments": {},
   "cell_type": "markdown",
   "metadata": {},
   "source": [
    "As we can see one (or both) of the methods are inacurate. "
   ]
  },
  {
   "cell_type": "markdown",
   "metadata": {},
   "source": []
  }
 ],
 "metadata": {
  "kernelspec": {
   "display_name": "Python 3",
   "language": "python",
   "name": "python3"
  },
  "language_info": {
   "codemirror_mode": {
    "name": "ipython",
    "version": 3
   },
   "file_extension": ".py",
   "mimetype": "text/x-python",
   "name": "python",
   "nbconvert_exporter": "python",
   "pygments_lexer": "ipython3",
   "version": "3.10.8"
  },
  "vscode": {
   "interpreter": {
    "hash": "8cb1a8d1c3ece4eb1e4592eaec04207f7b73f2abcb1f254721941c0090e83ef8"
   }
  }
 },
 "nbformat": 4,
 "nbformat_minor": 2
}
