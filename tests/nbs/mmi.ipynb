{
 "cells": [
  {
   "cell_type": "code",
   "execution_count": null,
   "metadata": {
    "id": "GA3-JZHnq4Z2"
   },
   "outputs": [],
   "source": [
    "import gdsfactory as gf\n",
    "import meow as mw\n",
    "import jax.numpy as np"
   ]
  },
  {
   "cell_type": "code",
   "execution_count": null,
   "metadata": {
    "id": "G46Jbojlq2hk"
   },
   "outputs": [],
   "source": [
    "def example_extrusions(\n",
    "    t_slab: float = 0.0,\n",
    "    t_soi: float = 0.4,\n",
    "    t_ox: float = 0.0,\n",
    "):\n",
    "    \"\"\" create some simple extrusion rules\n",
    "    \n",
    "    Args:\n",
    "        t_slab: the slab thickness\n",
    "        t_soi: the SOI thickness\n",
    "        t_ox: the oxide layer thickness\n",
    "    \"\"\"\n",
    "    extrusions = {\n",
    "        (1, 0): [\n",
    "            mw.GdsExtrusionRule(\n",
    "                material=mw.silicon,\n",
    "                h_min=0.0,\n",
    "                h_max=0.0 + t_soi,\n",
    "                mesh_order=1,\n",
    "            ),\n",
    "        ],\n",
    "    }\n",
    "    return extrusions"
   ]
  },
  {
   "cell_type": "code",
   "execution_count": null,
   "metadata": {
    "id": "-D9Elu4Esm31"
   },
   "outputs": [],
   "source": [
    "l_taper=20\n",
    "l_center=20\n",
    "w_center=3\n",
    "\n",
    "mmi = gf.components.mmi2x2(length_taper=l_taper, \n",
    "   length_mmi=l_center, \n",
    "   width_mmi=w_center)\n",
    "\n",
    "c = gf.Component()\n",
    "ref = c.add_ref(mmi)\n",
    "ref.xmin = 0\n",
    "mmi = c\n",
    "\n",
    "extrusion_rules = example_extrusions()\n",
    "structs = mw.extrude_gds(mmi, extrusion_rules)\n",
    "\n",
    "#mw.visualize(structs, scale=(1, 1, 0.2))"
   ]
  },
  {
   "cell_type": "code",
   "execution_count": null,
   "metadata": {
    "colab": {
     "base_uri": "https://localhost:8080/",
     "height": 219
    },
    "id": "TEmZy4moxE_z",
    "outputId": "8870fbf1-d6a1-499e-f042-00d94d9d0a6c"
   },
   "outputs": [],
   "source": [
    "mmi.plot()"
   ]
  },
  {
   "cell_type": "code",
   "execution_count": null,
   "metadata": {
    "colab": {
     "base_uri": "https://localhost:8080/",
     "height": 1000
    },
    "id": "r9n1tQFGucAU",
    "outputId": "cdb58697-3970-4d3d-e2e0-d10b2d7f60af"
   },
   "outputs": [],
   "source": [
    "\n",
    "eps = 1e-10\n",
    "w_sim = w_center + 2\n",
    "h_sim = 2.0\n",
    "mesh = 100\n",
    "num_cells = 10\n",
    "Ls = [l_taper / num_cells]*num_cells\n",
    "Ls[-1] -= eps\n",
    "Ls[0] -= eps\n",
    "Ls += [2*eps, l_center-2*eps, 2*eps] + Ls\n",
    "Ls = [eps] + Ls + [eps]\n",
    "print(Ls)\n",
    "\n",
    "cells = mw.create_cells(\n",
    "    structures=structs,  \n",
    "    mesh=mw.Mesh2d(\n",
    "        x=np.linspace(-w_sim/2, w_sim/2, mesh + 1),\n",
    "        y=np.linspace(-h_sim/2, h_sim/2, mesh + 1),\n",
    "    ),\n",
    "    Ls=Ls\n",
    ")\n",
    "\n",
    "# for cell in cells:\n",
    "#  mw.visualize(cell)"
   ]
  },
  {
   "cell_type": "code",
   "execution_count": null,
   "metadata": {
    "colab": {
     "base_uri": "https://localhost:8080/",
     "height": 1000
    },
    "id": "vhvxoXqNySmc",
    "outputId": "80dd5a55-2559-4254-ce97-10690df192f8"
   },
   "outputs": [],
   "source": [
    "env = mw.Environment(wl=1.55, T=25.0)\n",
    "css = [mw.CrossSection(cell=cell, env=env) for cell in cells]\n",
    "\n",
    "mw.visualize(css[0])\n",
    "mw.visualize(css[-1])"
   ]
  },
  {
   "cell_type": "code",
   "execution_count": null,
   "metadata": {
    "colab": {
     "base_uri": "https://localhost:8080/",
     "height": 1000
    },
    "id": "jyE6-92SyVaW",
    "outputId": "1bec7393-12ea-4bf0-c833-4b31d77466b8"
   },
   "outputs": [],
   "source": [
    "num_modes=16\n",
    "modes = mw.compute_modes(css[0], num_modes=num_modes)\n",
    "import matplotlib.pyplot as plt\n",
    "mw.visualize(modes[0]-modes[1])\n",
    "mw.visualize(modes[0]+modes[1])\n",
    "plt.figure()\n",
    "for mode in modes:\n",
    "   mw.visualize(mode)"
   ]
  },
  {
   "cell_type": "code",
   "execution_count": null,
   "metadata": {
    "colab": {
     "base_uri": "https://localhost:8080/"
    },
    "id": "tDJtw3v-oXzP",
    "outputId": "3468cd6a-ff63-42b5-b551-4fbd2e7ff601"
   },
   "outputs": [],
   "source": [
    "mw.compute_interface_s_matrix(modes[:1], modes[:2])"
   ]
  },
  {
   "cell_type": "code",
   "execution_count": null,
   "metadata": {
    "id": "U9FCbn3py6wO"
   },
   "outputs": [],
   "source": [
    "from tqdm.notebook import tqdm\n",
    "modes = [mw.compute_modes(cs, num_modes=num_modes) for cs in tqdm(css)]"
   ]
  },
  {
   "cell_type": "code",
   "execution_count": null,
   "metadata": {},
   "outputs": [],
   "source": [
    "print([[mode.neff for mode in modes_]for modes_ in modes])"
   ]
  },
  {
   "cell_type": "code",
   "execution_count": null,
   "metadata": {},
   "outputs": [],
   "source": [
    "modes = [[mode for mode in modes_ if mode.neff>1.45]for modes_ in modes]"
   ]
  },
  {
   "cell_type": "code",
   "execution_count": null,
   "metadata": {
    "id": "iFeKGeOcnJ9F"
   },
   "outputs": [],
   "source": [
    "modes[0] = [modes[0][0] + modes[0][1], modes[0][0] - modes[0][1]] \n",
    "modes[-1] = [modes[-1][0] + modes[-1][1], modes[-1][0] - modes[-1][1]]"
   ]
  },
  {
   "cell_type": "code",
   "execution_count": null,
   "metadata": {
    "colab": {
     "base_uri": "https://localhost:8080/",
     "height": 584
    },
    "id": "rv5fGNfKlWOJ",
    "outputId": "5e47b210-1b7e-4a24-92b3-1d54c5110546"
   },
   "outputs": [],
   "source": [
    "mw.visualize(modes[0][0])\n",
    "mw.visualize(modes[-1][0])\n",
    "mw.visualize(modes[-1][1])"
   ]
  },
  {
   "cell_type": "code",
   "execution_count": null,
   "metadata": {
    "colab": {
     "base_uri": "https://localhost:8080/",
     "height": 302
    },
    "id": "EpD8GAIizDwx",
    "outputId": "3da20de4-605b-45e7-fcd2-04b9caab72a7"
   },
   "outputs": [],
   "source": [
    "S, port_map = mw.compute_s_matrix(modes)\n",
    "print(port_map)\n",
    "mw.visualize(S)"
   ]
  },
  {
   "cell_type": "code",
   "execution_count": null,
   "metadata": {
    "colab": {
     "base_uri": "https://localhost:8080/",
     "height": 478
    },
    "id": "uYVpFwXGzNgT",
    "outputId": "14726217-7203-4a04-8eb3-a13926506034"
   },
   "outputs": [],
   "source": [
    "import meow.eme.propagate as prop"
   ]
  },
  {
   "cell_type": "code",
   "execution_count": null,
   "metadata": {},
   "outputs": [],
   "source": [
    "import importlib\n",
    "importlib.reload(prop)"
   ]
  },
  {
   "cell_type": "code",
   "execution_count": null,
   "metadata": {},
   "outputs": [],
   "source": [
    "z=np.linspace(0, l_taper*2+l_center, 800)\n",
    "y=0.2\n",
    "\n",
    "ex_l = np.zeros(len(modes[0]))\n",
    "ex_l = ex_l.at[0].set(1)\n",
    "ex_r = np.zeros(len(modes[-1]))\n",
    "#ex_r = ex_r.at[1].set(0.3)\n",
    "\n",
    "Ex, x  = prop.propagate_modes(modes, ex_l, ex_r, y, z)"
   ]
  },
  {
   "cell_type": "code",
   "execution_count": null,
   "metadata": {},
   "outputs": [],
   "source": [
    "X,Y = np.meshgrid(z,x)\n",
    "lim = np.max(np.abs(Ex.imag))\n",
    "plt.pcolormesh(X,Y,Ex.T.imag, shading=\"nearest\", vmin=-lim, vmax=lim, cmap=\"RdBu\")\n",
    "plt.colorbar()\n",
    "plt.savefig(\"test.png\", dpi=1200)"
   ]
  },
  {
   "cell_type": "code",
   "execution_count": null,
   "metadata": {},
   "outputs": [],
   "source": [
    "X,Y = np.meshgrid(z,x)\n",
    "plt.pcolormesh(X,Y,np.abs(Ex.T), shading=\"nearest\", cmap=\"jet\", vmax = np.quantile(np.abs(Ex), 0.99))\n",
    "plt.colorbar()\n",
    "plt.savefig(\"test.png\", dpi=1200)"
   ]
  },
  {
   "cell_type": "code",
   "execution_count": null,
   "metadata": {},
   "outputs": [],
   "source": [
    "for mode in modes[9]:\n",
    "    mw.vis(mode)"
   ]
  },
  {
   "cell_type": "code",
   "execution_count": null,
   "metadata": {},
   "outputs": [],
   "source": []
  }
 ],
 "metadata": {
  "colab": {
   "provenance": []
  },
  "kernelspec": {
   "display_name": "Python 3",
   "name": "python3"
  },
  "language_info": {
   "codemirror_mode": {
    "name": "ipython",
    "version": 3
   },
   "file_extension": ".py",
   "mimetype": "text/x-python",
   "name": "python",
   "nbconvert_exporter": "python",
   "pygments_lexer": "ipython3",
   "version": "3.10.10"
  }
 },
 "nbformat": 4,
 "nbformat_minor": 0
}
