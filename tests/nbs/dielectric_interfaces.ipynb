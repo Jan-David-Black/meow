{
 "cells": [
  {
   "cell_type": "code",
   "execution_count": null,
   "id": "1149c0fd-0649-485c-bd04-0c4ce16c3f78",
   "metadata": {
    "tags": []
   },
   "outputs": [],
   "source": [
    "import numpy as np\n",
    "import meow as mw\n",
    "import matplotlib.pyplot as plt\n",
    "from matplotlib import colors\n",
    "import tidy3d as td\n",
    "from tidy3d.plugins.mode.mode_solver import compute_modes as _compute_modes"
   ]
  },
  {
   "cell_type": "code",
   "execution_count": null,
   "id": "9e169a83-2051-498b-b9f9-a41fa2eae0df",
   "metadata": {
    "tags": []
   },
   "outputs": [],
   "source": [
    "w = 4.0\n",
    "hc = 2.0\n",
    "hs = 1.0\n",
    "nsi = 3\n",
    "nsl = 1.5\n",
    "wl = 1.5\n",
    "W, L, H = 12, 12, 12"
   ]
  },
  {
   "cell_type": "code",
   "execution_count": null,
   "id": "fa601757-27c3-413d-bcc4-54862425a2ce",
   "metadata": {
    "tags": []
   },
   "outputs": [],
   "source": [
    "silicon = mw.Material(\n",
    "    name=\"si\",\n",
    "    params={\"wl\": [wl]},\n",
    "    n=[nsi],\n",
    "    meta={\"color\": (0.9, 0, 0, 0.9)},\n",
    ")\n",
    "silicon_oxide = mw.Material(\n",
    "    name=\"sio2\",\n",
    "    params={\"wl\": [wl]},\n",
    "    n=[nsl],\n",
    ")\n",
    "core = mw.Structure(\n",
    "    geometry=mw.Prism(\n",
    "        axis=\"y\",\n",
    "        h_min=H // 3,\n",
    "        h_max=H // 3 + hc,\n",
    "        poly=[\n",
    "            (-1, W // 2 - w / 2),\n",
    "            (-1, W // 2 + w / 2),\n",
    "            (L + 1, W // 2 + w / 2),\n",
    "            (L + 1, W // 2 - w / 2),\n",
    "        ],\n",
    "    ),\n",
    "    material=silicon,\n",
    ")\n",
    "slab = mw.Structure(\n",
    "    geometry=mw.Prism(\n",
    "        axis=\"y\",\n",
    "        h_min=H // 3,\n",
    "        h_max=H // 3 + hs,\n",
    "        poly=[(-1, -1), (-1, W + 1), (L + 1, W + 1), (L + 1, -1)],\n",
    "    ),\n",
    "    material=silicon,\n",
    ")\n",
    "box = mw.Structure(\n",
    "    geometry=mw.Prism(\n",
    "        axis=\"y\",\n",
    "        h_min=-1,\n",
    "        h_max=H // 3,\n",
    "        poly=[(-1, -1), (-1, W + 1), (L + 1, W + 1), (L + 1, -1)],\n",
    "    ),\n",
    "    material=silicon_oxide,\n",
    ")\n",
    "\n",
    "structs = [core, slab]  # , box]\n",
    "\n",
    "cs1 = mw.CrossSection(\n",
    "    cell=mw.Cell(\n",
    "        structures=structs,\n",
    "        mesh=mw.Mesh2d(\n",
    "            x=np.linspace(0, W, 26),\n",
    "            y=np.linspace(0, H, 26),\n",
    "            num_pml=(0, 0),\n",
    "        ),\n",
    "        z_min=L / 2,\n",
    "        z_max=L / 2,\n",
    "    ),\n",
    "    env=mw.Environment(wl=wl),\n",
    "    ez_interfaces=False,\n",
    ")\n",
    "\n",
    "mw.visualize(cs1, debug_grid=True)"
   ]
  },
  {
   "cell_type": "code",
   "execution_count": null,
   "id": "2c538e6d-671b-4d2c-9197-848bfd7d28fa",
   "metadata": {
    "tags": []
   },
   "outputs": [],
   "source": [
    "modes1 = mw.compute_modes(\n",
    "    cs1,\n",
    "    num_modes=10,\n",
    "    precision=\"double\",\n",
    ")\n",
    "# for mode in modes1:\n",
    "#    mw.visualize(mode, fields=['Ex', 'Ey', 'Ez'])\n",
    "#    mw.visualize(mode, fields=['Hx', 'Hy', 'Hz'])\n",
    "#    print(\"\\n\"*3)\n",
    "mw.visualize(modes1)"
   ]
  },
  {
   "cell_type": "code",
   "execution_count": null,
   "id": "8c17e59c-e779-4dbc-ad99-c695afbcce0f",
   "metadata": {
    "tags": []
   },
   "outputs": [],
   "source": [
    "cs2 = mw.CrossSection(\n",
    "    cell=cs1.cell,\n",
    "    env=cs1.env,\n",
    "    ez_interfaces=True,\n",
    ")\n",
    "\n",
    "mw.visualize(cs2, debug_grid=True)"
   ]
  },
  {
   "cell_type": "code",
   "execution_count": null,
   "id": "a9fe8a0e-0915-4969-83be-2f8ac9554f82",
   "metadata": {
    "tags": []
   },
   "outputs": [],
   "source": [
    "modes2 = mw.compute_modes(\n",
    "    cs1,\n",
    "    num_modes=10,\n",
    "    precision=\"single\",\n",
    ")\n",
    "# for mode in modes2:\n",
    "#    mw.visualize(mode, fields=['Ex', 'Ey', 'Ez'])\n",
    "#    mw.visualize(mode, fields=['Hx', 'Hy', 'Hz'])\n",
    "#    print(\"\\n\"*3)\n",
    "mw.visualize(modes2)"
   ]
  }
 ],
 "metadata": {
  "kernelspec": {
   "display_name": "hom",
   "language": "python",
   "name": "hom"
  },
  "language_info": {
   "codemirror_mode": {
    "name": "ipython",
    "version": 3
   },
   "file_extension": ".py",
   "mimetype": "text/x-python",
   "name": "python",
   "nbconvert_exporter": "python",
   "pygments_lexer": "ipython3",
   "version": "3.10.11"
  }
 },
 "nbformat": 4,
 "nbformat_minor": 5
}
