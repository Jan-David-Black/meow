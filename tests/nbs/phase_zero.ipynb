{
 "cells": [
  {
   "cell_type": "code",
   "execution_count": null,
   "metadata": {},
   "outputs": [],
   "source": [
    "import meow as mw\n",
    "import numpy as np\n",
    "import matplotlib.pyplot as plt"
   ]
  },
  {
   "cell_type": "markdown",
   "metadata": {},
   "source": [
    "## Preparation\n",
    "let's perform a mode simulation"
   ]
  },
  {
   "cell_type": "code",
   "execution_count": null,
   "metadata": {},
   "outputs": [],
   "source": [
    "length = 10.0\n",
    "box = mw.Box(\n",
    "    x_min=-0.22,\n",
    "    x_max=0.22,\n",
    "    y_min=0,\n",
    "    y_max=0.22,\n",
    "    z_min=0.0,\n",
    "    z_max=length,\n",
    ")"
   ]
  },
  {
   "cell_type": "code",
   "execution_count": null,
   "metadata": {},
   "outputs": [],
   "source": [
    "struct = mw.Structure(material=mw.silicon, geometry=box)"
   ]
  },
  {
   "cell_type": "code",
   "execution_count": null,
   "metadata": {},
   "outputs": [],
   "source": [
    "env = mw.Environment(wl=1.55, T=25.0)"
   ]
  },
  {
   "cell_type": "code",
   "execution_count": null,
   "metadata": {},
   "outputs": [],
   "source": [
    "cells = mw.create_cells(\n",
    "    structures=[struct],\n",
    "    mesh=mw.Mesh2d(\n",
    "        x = np.linspace(-1, 1, 101),\n",
    "        y = np.linspace(-1, 1, 101),\n",
    "    ),\n",
    "    Ls = [length/3]*3\n",
    ")\n",
    "css = [mw.CrossSection(cell=cell, env=env) for cell in cells]"
   ]
  },
  {
   "cell_type": "code",
   "execution_count": null,
   "metadata": {},
   "outputs": [],
   "source": [
    "modes = [mw.compute_modes(cs, num_modes=2) for cs in css]"
   ]
  },
  {
   "cell_type": "markdown",
   "metadata": {},
   "source": [
    "## Interface matrices\n",
    "Here begins the interesting part.\n",
    "Let`s try to calculate the S matrix."
   ]
  },
  {
   "cell_type": "code",
   "execution_count": null,
   "metadata": {},
   "outputs": [],
   "source": [
    "S, _ = mw.compute_s_matrix(modes)\n",
    "mw.vis(np.abs(S))\n",
    "mw.vis(S)\n",
    "mw.vis(S, phase=True)"
   ]
  },
  {
   "cell_type": "markdown",
   "metadata": {},
   "source": [
    "The S-parameters are as we would expect: no reflection and full transmission in the qTE and qTM modes, which gain a different phase while propagating along the waveguide.\n",
    "\n",
    "Let's change the mode of the center section by giving it an **additive phase**:"
   ]
  },
  {
   "cell_type": "code",
   "execution_count": null,
   "metadata": {},
   "outputs": [],
   "source": [
    "modes_ = modes.copy()\n",
    "modes_[1] = [m*np.exp(0.2j) for m in modes_[1]]\n",
    "S, _ = mw.compute_s_matrix(modes_, enforce_reciprocity=False)\n",
    "mw.vis(abs(S))\n",
    "mw.vis(S)\n",
    "mw.vis(S, phase=True)"
   ]
  },
  {
   "cell_type": "markdown",
   "metadata": {},
   "source": [
    "As we can see the overall system matrix is unchanged, which is as expected, as there is no global well defined phase.\n",
    "Note that this also means, that strictly speaking no phase zeroing is required."
   ]
  },
  {
   "cell_type": "markdown",
   "metadata": {},
   "source": [
    "We can see from the single interface matrices (below), that the phase is changed forth and back while traversing the inner section. Note that the interface matrices are not reciprocal in the typical sense. That is the intended behavior: The mode in section 0 is mapped to a phase shifted vesion of itself in section 1. Going back to the mode of section one requires inverting the applied phase shift. **Important:** this is different compared to a piece of waveguide, where the phase progresses forward irrespectable of the direction of propagation through the waveguide."
   ]
  },
  {
   "cell_type": "code",
   "execution_count": null,
   "metadata": {},
   "outputs": [],
   "source": [
    "from meow.eme import compute_interface_s_matrix\n",
    "for i in [0,1]:\n",
    "    mw.vis(compute_interface_s_matrix(modes_[i], modes_[i+1]))"
   ]
  },
  {
   "cell_type": "markdown",
   "metadata": {},
   "source": [
    "## Note:\n",
    "when changing the phase of the mode at the input/output of the structure the phase of the S-parameters will change, as the \"reference\" changes. It is thus still a good idea to have a consistent definition of the zero phase. "
   ]
  },
  {
   "cell_type": "code",
   "execution_count": null,
   "metadata": {},
   "outputs": [],
   "source": [
    "modes_ = modes.copy()\n",
    "modes_[0] = [m*np.exp(0.2j) for m in modes_[0]]\n",
    "S = mw.compute_s_matrix(modes_, enforce_reciprocity=False)\n",
    "mw.vis(S)\n",
    "mw.vis(S, phase=True)"
   ]
  },
  {
   "cell_type": "markdown",
   "metadata": {},
   "source": [
    "## Additional Note\n",
    "how that zero phase is defined is however irrelevant:"
   ]
  },
  {
   "cell_type": "code",
   "execution_count": null,
   "metadata": {},
   "outputs": [],
   "source": [
    "modes_ = modes.copy()\n",
    "for i in [0, 2]:\n",
    "    modes_[i] = [m * np.exp(0.2j) for m in modes_[i]]\n",
    "S = mw.compute_s_matrix(modes_, enforce_reciprocity=False)\n",
    "mw.vis(S)"
   ]
  }
 ],
 "metadata": {
  "kernelspec": {
   "display_name": "hom",
   "language": "python",
   "name": "hom"
  },
  "language_info": {
   "codemirror_mode": {
    "name": "ipython",
    "version": 3
   },
   "file_extension": ".py",
   "mimetype": "text/x-python",
   "name": "python",
   "nbconvert_exporter": "python",
   "pygments_lexer": "ipython3",
   "version": "3.10.11"
  },
  "vscode": {
   "interpreter": {
    "hash": "8cb1a8d1c3ece4eb1e4592eaec04207f7b73f2abcb1f254721941c0090e83ef8"
   }
  }
 },
 "nbformat": 4,
 "nbformat_minor": 4
}
